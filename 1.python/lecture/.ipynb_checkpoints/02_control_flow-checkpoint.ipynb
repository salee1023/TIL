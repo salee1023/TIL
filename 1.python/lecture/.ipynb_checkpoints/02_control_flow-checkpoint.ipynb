{
 "cells": [
  {
   "cell_type": "markdown",
   "metadata": {
    "colab_type": "text",
    "id": "iAoKchdi9YBf"
   },
   "source": [
    "# 제어문(Control Statement)\n",
    "\n",
    "지금까지 우리는 위에서부터 아래로 순차적으로 명령을 수행하는 프로그램을 작성하였습니다.\n",
    "\n",
    "특정 상황에 따라 코드를 선택적으로 실행(분기)하거나 동일한 코드를 계속해서 실행해야하려면 어떻게 해야할까요? \n",
    "\n",
    "이 경우, **코드 실행의 순차적인 흐름을 제어**(Control Flow)할 필요가 있습니다.\n",
    "\n",
    "이러한 순차적인 코드의 흐름을 제어하는 것을 제어문이라고 하고, 제어문은 크게 **조건문**과 **반복문**으로 나눌 수 있습니다. \n",
    "\n",
    "제어문을 통해 다음과 순서도(Flow Chart)를 코드로 표현할 수 있습니다."
   ]
  },
  {
   "cell_type": "markdown",
   "metadata": {
    "colab_type": "text",
    "id": "OrAgFO4H9YBi"
   },
   "source": [
    "<center> \n",
    "    <img src=\"https://user-images.githubusercontent.com/18046097/61180553-25e87b00-a653-11e9-9895-7976d7204734.png\", alt='if flowchart'/>\n",
    "</center>"
   ]
  },
  {
   "cell_type": "code",
   "execution_count": null,
   "metadata": {
    "colab": {},
    "colab_type": "code",
    "id": "h24fvWlo9YBk"
   },
   "outputs": [],
   "source": [
    "# 위의 Flow Chart를 조건문으로 작성해봅시다."
   ]
  },
  {
   "cell_type": "code",
   "execution_count": null,
   "metadata": {
    "colab": {
     "base_uri": "https://localhost:8080/",
     "height": 53
    },
    "colab_type": "code",
    "executionInfo": {
     "elapsed": 695,
     "status": "ok",
     "timestamp": 1595227682145,
     "user": {
      "displayName": "sa lee",
      "photoUrl": "https://lh3.googleusercontent.com/a-/AOh14GhvMzl7e5o13kzwjOkdZE9EdiHFu-6dYLdWQWKjuA=s64",
      "userId": "03651723065083041662"
     },
     "user_tz": -540
    },
    "id": "Npx9T46j9YB1",
    "outputId": "ca0bb726-c239-49cf-b2a1-51aad2821d51"
   },
   "outputs": [
    {
     "name": "stdout",
     "output_type": "stream",
     "text": [
      "5 초과\n",
      "6\n"
     ]
    }
   ],
   "source": [
    "a = 6\n",
    "if a > 5:\n",
    "  print('5 초과')\n",
    "else:\n",
    "  print('5 이하')\n",
    "\n",
    "print(a)"
   ]
  },
  {
   "cell_type": "markdown",
   "metadata": {
    "colab_type": "text",
    "id": "TtiLRpnb9YB_"
   },
   "source": [
    "# 조건문(Conditional Statement)\n",
    "\n",
    "`if` 문은 반드시 **참/거짓을 판단할 수 있는 조건**과 함께 사용이 되어야한다.\n",
    "\n",
    "\n"
   ]
  },
  {
   "cell_type": "markdown",
   "metadata": {
    "colab_type": "text",
    "id": "TCxt1YX49YCA"
   },
   "source": [
    "## `if` 조건문의 구성\n",
    "\n",
    "### 활용법\n",
    "\n",
    "- **문법**\n",
    "\n",
    "```python\n",
    "if <참/거짓 조건>:\n",
    "    <코드 블럭>\n",
    "else:\n",
    "    <코드 블럭>\n",
    "```\n",
    "\n",
    "- **예시**\n",
    "\n",
    "```python\n",
    "if a > 0:\n",
    "    print('양수입니다.')\n",
    "else:\n",
    "    print('음수입니다.')\n",
    "```\n",
    "\n",
    "* **조건**이 **참**인 경우 `:` 이후의 문장을 수행한다.\n",
    "\n",
    "* **조건**이 **거짓**인 경우 `else:` 이후의 문장을 수행한다.\n",
    "\n",
    "* 여러 개의 `elif` 부가 있을 수 있고(없거나), `else`는 선택적이다.\n",
    "\n",
    "### 주의사항\n",
    "* 이때 반드시 **들여쓰기**를 유의해야한다. \n",
    "    - 파이썬에서는 코드 블록을 자바나 C언어의 `{}`와 달리 **들여쓰기**로 판단하기 때문이다.\n",
    "* 앞으로 우리는 [PEP 8](https://www.python.org/dev/peps/pep-0008/#indentation)에서 권장하는 **4spaces**를 사용할 것이다.\n"
   ]
  },
  {
   "cell_type": "markdown",
   "metadata": {
    "colab_type": "text",
    "id": "O4J934Cg9YCC"
   },
   "source": [
    "<center>\n",
    "    <img src=\"https://user-images.githubusercontent.com/18046097/61180564-3a2c7800-a653-11e9-9fba-d60d2688ed3a.png\", alt=\"if style\"/>\n",
    "</center>"
   ]
  },
  {
   "cell_type": "markdown",
   "metadata": {
    "colab_type": "text",
    "id": "9yXybcFL9YCD"
   },
   "source": [
    "<center><strong style=\"font-size: 30px;\">우리는 4spaces를 맞춰서 씁니다!</strong></center>\n",
    "<br>\n",
    "\n",
    "<center>\n",
    "    <img src=\"https://user-images.githubusercontent.com/18046097/61180566-3ac50e80-a653-11e9-81a6-2f195eeb0a65.png\", alt=\"[space vs tab]\"/>\n",
    "</center>    \n",
    "\n",
    "\n",
    "\n",
    "\n",
    "[출처 : 400,000 GitHub repositories, 1 billion files, 14 terabytes of code: Spaces or Tabs?](https://medium.com/@hoffa/400-000-github-repositories-1-billion-files-14-terabytes-of-code-spaces-or-tabs-7cfe0b5dd7fd)\n"
   ]
  },
  {
   "cell_type": "markdown",
   "metadata": {
    "colab_type": "text",
    "id": "LBtAPTuU9YCE"
   },
   "source": [
    "### [연습] 크리스마스 판독기\n",
    "> 조건문을 통해 사용자가 입력한 날짜가 크리스마스인지 확인하세요.\n",
    "\n",
    "---\n",
    "\n",
    "**[입력 예시]**\n",
    "\n",
    "12/25\n",
    "\n",
    "**[출력 예시]**\n",
    "\n",
    "크리스마스입니다."
   ]
  },
  {
   "cell_type": "code",
   "execution_count": null,
   "metadata": {
    "colab": {
     "base_uri": "https://localhost:8080/",
     "height": 53
    },
    "colab_type": "code",
    "executionInfo": {
     "elapsed": 4751,
     "status": "ok",
     "timestamp": 1595227940595,
     "user": {
      "displayName": "sa lee",
      "photoUrl": "https://lh3.googleusercontent.com/a-/AOh14GhvMzl7e5o13kzwjOkdZE9EdiHFu-6dYLdWQWKjuA=s64",
      "userId": "03651723065083041662"
     },
     "user_tz": -540
    },
    "id": "3W1HjK1p9YCF",
    "outputId": "b7d05128-3125-4e86-9853-856afc792cd6"
   },
   "outputs": [
    {
     "name": "stdout",
     "output_type": "stream",
     "text": [
      "날짜를 입력해주세요 ex)12/24 : 1225\n",
      "크리스마스가 아닙니다.\n"
     ]
    }
   ],
   "source": [
    "is_christmas = input('날짜를 입력해주세요 ex)12/24 : ')\n",
    "\n",
    "if is_christmas == '12/25':\n",
    "  print('크리스마스입니다.')\n",
    "else:\n",
    "  print('크리스마스가 아닙니다.')\n",
    "\n",
    "# 아래에 코드를 작성하세요"
   ]
  },
  {
   "cell_type": "markdown",
   "metadata": {
    "colab_type": "text",
    "id": "wnbKkNNk9YCY"
   },
   "source": [
    "### [실습] 홀/짝 판독기\n",
    "\n",
    "\n",
    "> 조건문을 통해 변수 num의 값과 홀수/짝수 여부를 출력하세요.\n",
    "\n",
    "---\n",
    "\n",
    "**[입력 예시]**\n",
    "\n",
    "3\n",
    "\n",
    "**[출력 예시]**\n",
    "\n",
    "홀수입니다."
   ]
  },
  {
   "cell_type": "code",
   "execution_count": null,
   "metadata": {
    "colab": {},
    "colab_type": "code",
    "id": "2Mk0R25X9YCa"
   },
   "outputs": [],
   "source": [
    "num = int(input('숫자를 입력하세요 : '))\n",
    "\n",
    "# 아래에 코드를 작성하세요"
   ]
  },
  {
   "cell_type": "code",
   "execution_count": null,
   "metadata": {
    "colab": {},
    "colab_type": "code",
    "id": "oPCfetBz9YCi"
   },
   "outputs": [],
   "source": []
  },
  {
   "cell_type": "markdown",
   "metadata": {
    "colab_type": "text",
    "id": "XhAg1aC-9YCo"
   },
   "source": [
    "## `elif` 복수 조건\n",
    "\n",
    "2개 이상의 조건을 활용할 경우 `elif <조건>:`을 활용합니다.\n",
    "<center>\n",
    "<img src=\"https://user-images.githubusercontent.com/18046097/61180560-3993e180-a653-11e9-8263-79bd7bc6eed7.png\", alt=\"elif\">\n",
    "</center>"
   ]
  },
  {
   "cell_type": "markdown",
   "metadata": {
    "colab_type": "text",
    "id": "QZwJ6nTq9YCq"
   },
   "source": [
    "### [연습] 복수 조건문 연습\n",
    "\n",
    "> 조건문을 통해 변수 score에 따른 평점을 출력하세요.\n",
    "\n",
    "|점수|등급|\n",
    "|---|---|\n",
    "|90점 이상|A|\n",
    "|80점 이상|B|\n",
    "|70점 이상|C|\n",
    "|60점 이상|D|\n",
    "|60점 미만|F|\n",
    "\n",
    "--- \n",
    "\n",
    "**[입력 예시]**\n",
    "\n",
    "85\n",
    "\n",
    "**[출력 예시]**\n",
    "\n",
    "B"
   ]
  },
  {
   "cell_type": "code",
   "execution_count": null,
   "metadata": {
    "colab": {},
    "colab_type": "code",
    "id": "KZ2w7uLq9YCx"
   },
   "outputs": [],
   "source": [
    "score = int(input('점수를 입력하세요 : '))\n",
    "\n",
    "# 아래에 코드를 작성하세요"
   ]
  },
  {
   "cell_type": "code",
   "execution_count": null,
   "metadata": {
    "colab": {},
    "colab_type": "code",
    "id": "MXVlHSHi9YC4"
   },
   "outputs": [],
   "source": []
  },
  {
   "cell_type": "code",
   "execution_count": null,
   "metadata": {
    "colab": {},
    "colab_type": "code",
    "id": "jhPVUCRW9YDB"
   },
   "outputs": [],
   "source": [
    "# score 가 80점이지만 조건문의 순서에 따라 'B'를 출력하지 못하는 경우"
   ]
  },
  {
   "cell_type": "code",
   "execution_count": null,
   "metadata": {
    "colab": {},
    "colab_type": "code",
    "id": "HmlYpJPa9YDO"
   },
   "outputs": [],
   "source": []
  },
  {
   "cell_type": "markdown",
   "metadata": {
    "colab_type": "text",
    "id": "mclOx59L9YDi"
   },
   "source": [
    "## 중첩 조건문(Nested Conditional Statement)\n",
    "\n",
    "조건문은 다른 조건문에 중첩될 수도 있다."
   ]
  },
  {
   "cell_type": "markdown",
   "metadata": {
    "colab_type": "text",
    "id": "-H7aoy6N9YDj"
   },
   "source": [
    "### [연습] 중첩 조건문 활용\n",
    "\n",
    "> 위 실습문제 2개 코드를 활용하여 \n",
    "95점 이상이면, \"참 잘했어요\"도 함께 출력해주세요.\n",
    "\n",
    "--- \n",
    "**[출력 예시]**\n",
    "\n",
    "A\n",
    "\n",
    "참잘했어요."
   ]
  },
  {
   "cell_type": "code",
   "execution_count": null,
   "metadata": {
    "colab": {},
    "colab_type": "code",
    "id": "ZVHmd1Kk9YDj"
   },
   "outputs": [],
   "source": [
    "score = 96\n",
    "\n",
    "# 아래에 코드를 작성하세요"
   ]
  },
  {
   "cell_type": "code",
   "execution_count": null,
   "metadata": {
    "colab": {},
    "colab_type": "code",
    "id": "qMQLwudI9YDn"
   },
   "outputs": [],
   "source": []
  },
  {
   "cell_type": "markdown",
   "metadata": {
    "colab_type": "text",
    "id": "JBGxz4vt9YDs"
   },
   "source": [
    "## 조건 표현식(Conditional Expression)\n",
    "\n",
    "* 조건 표현식은 일반적으로 조건에 따라 값을 정할 때 활용된다.\n",
    "\n",
    "* **삼항 연산자(Ternary Operator)**라고 부르기도 한다.\n",
    "\n",
    "---\n",
    "\n",
    "**활용법**\n",
    "\n",
    "```python\n",
    "true_value if <조건식> else false_value\n",
    "```"
   ]
  },
  {
   "cell_type": "code",
   "execution_count": null,
   "metadata": {
    "colab": {},
    "colab_type": "code",
    "id": "D8NynXTh9YDw"
   },
   "outputs": [],
   "source": [
    "num = int(input('숫자를 입력하세요 : '))\n",
    "\n",
    "print('0 보다 큼') if num > 0 else print('0 보다 크지않음')"
   ]
  },
  {
   "cell_type": "code",
   "execution_count": null,
   "metadata": {
    "colab": {},
    "colab_type": "code",
    "id": "xTSLRzCX9YD5"
   },
   "outputs": [],
   "source": [
    "# 아래의 코드는 무엇을 위한 코드일까요?\n",
    "num = int(input('숫자를 입력하세요 : '))\n",
    "value = num if num >= 0 else -num\n",
    "print(value)"
   ]
  },
  {
   "cell_type": "code",
   "execution_count": null,
   "metadata": {
    "colab": {},
    "colab_type": "code",
    "id": "UZeSdQfJ9YEC"
   },
   "outputs": [],
   "source": [
    "# 아래에 답변을 작성하세요."
   ]
  },
  {
   "cell_type": "code",
   "execution_count": null,
   "metadata": {
    "colab": {},
    "colab_type": "code",
    "id": "vhDSSbtV9YES"
   },
   "outputs": [],
   "source": []
  },
  {
   "cell_type": "markdown",
   "metadata": {
    "colab_type": "text",
    "id": "QqKGUYh99YEc"
   },
   "source": [
    "### [연습] 조건 표현식 작성하기\n",
    "\n",
    "> 다음의 코드와 동일한 조건 표현식을 작성해보세요.\n",
    "\n",
    "```python\n",
    "num = 2\n",
    "if num % 2:\n",
    "    result = '홀수입니다.'\n",
    "else:\n",
    "    result = '짝수입니다.'\n",
    "print(result)\n",
    "```\n",
    "---\n",
    "\n",
    "**[출력 예시]**\n",
    "```\n",
    "짝수입니다.\n",
    "```"
   ]
  },
  {
   "cell_type": "code",
   "execution_count": null,
   "metadata": {
    "colab": {},
    "colab_type": "code",
    "id": "hdf04zTM9YEd"
   },
   "outputs": [],
   "source": [
    "# 아래에 코드를 작성하세요."
   ]
  },
  {
   "cell_type": "code",
   "execution_count": null,
   "metadata": {
    "colab": {},
    "colab_type": "code",
    "id": "EQKXPCbq9YEj"
   },
   "outputs": [],
   "source": []
  },
  {
   "cell_type": "markdown",
   "metadata": {
    "colab_type": "text",
    "id": "Zdd8GN1j9YEo"
   },
   "source": [
    "### [실습] 조건 표현식과 동일한 if 문 작성하기\n",
    "\n",
    "> 다음의 코드와 동일한 `if`문을 작성해보세요.\n",
    "\n",
    "```python\n",
    "num = -5\n",
    "value = num if num >= 0 else 0\n",
    "print(value)\n",
    "```\n",
    "---\n",
    "**[출력 예시]**\n",
    "\n",
    "0"
   ]
  },
  {
   "cell_type": "code",
   "execution_count": null,
   "metadata": {
    "colab": {},
    "colab_type": "code",
    "id": "Wo3N2QOz9YEp"
   },
   "outputs": [],
   "source": [
    "# 아래에 코드를 작성하세요."
   ]
  },
  {
   "cell_type": "code",
   "execution_count": null,
   "metadata": {
    "colab": {},
    "colab_type": "code",
    "id": "aegz0YlK9YEv"
   },
   "outputs": [],
   "source": []
  },
  {
   "cell_type": "markdown",
   "metadata": {
    "colab_type": "text",
    "id": "2T_Aoniu9YE2"
   },
   "source": [
    "---"
   ]
  },
  {
   "cell_type": "markdown",
   "metadata": {
    "colab_type": "text",
    "id": "8i8Udq3D9YE4"
   },
   "source": [
    "# 반복문(Loop Statement)\n",
    "\n",
    "- while\n",
    "- for"
   ]
  },
  {
   "cell_type": "markdown",
   "metadata": {
    "colab_type": "text",
    "id": "i0mNhcHc9YE6"
   },
   "source": [
    "## `while` 반복문\n",
    "\n",
    "`while` 문은 조건식이 참(`True`)인 경우 반복적으로 코드를 실행한다.\n",
    "\n",
    "\n",
    "### `while` 반복문의 구성\n",
    "- **문법**\n",
    "\n",
    "```python\n",
    "while <조건식>:\n",
    "    <코드 블럭>\n",
    "```\n",
    "\n",
    "- 예시\n",
    "\n",
    "```python\n",
    "while True:\n",
    "    print('조건식이 참일 때까지')\n",
    "    print('계속 반복')\n",
    "```\n",
    "\n",
    "### 주의사항\n",
    "* `while` 문 역시 조건식 뒤에 콜론(`:`)이 반드시 필요하며, 이후 실행될 코드 블럭은 **4spaces**로 **들여쓰기**를 한다.\n",
    "* **반드시 종료조건을 설정해야 한다.**\n",
    "\n",
    "\n",
    "<br>\n",
    "<center>\n",
    "    <img src=\"https://user-images.githubusercontent.com/18046097/61180567-3ac50e80-a653-11e9-9f12-39c404f4be30.png\", alt=\"\">\n",
    "</center>"
   ]
  },
  {
   "cell_type": "markdown",
   "metadata": {
    "colab_type": "text",
    "id": "Xsc2k16h9YE6"
   },
   "source": [
    "<br>\n",
    "<center>\n",
    "    <img src=\"https://user-images.githubusercontent.com/18046097/61180568-3ac50e80-a653-11e9-9960-ba15137290a6.png\", alt=\"while\"/>\n",
    "</center>"
   ]
  },
  {
   "cell_type": "code",
   "execution_count": null,
   "metadata": {
    "colab": {},
    "colab_type": "code",
    "id": "O_QqIXd-9YE7"
   },
   "outputs": [],
   "source": [
    "# 위의 flow chart를 조건문을 통해 만들어봅시다.\n",
    "# 아래에 코드를 작성하세요."
   ]
  },
  {
   "cell_type": "code",
   "execution_count": 2,
   "metadata": {
    "colab": {},
    "colab_type": "code",
    "id": "fruleg5u9YFG"
   },
   "outputs": [
    {
     "name": "stdout",
     "output_type": "stream",
     "text": [
      "1 2 3 4 5 6 7 8 9 10 "
     ]
    }
   ],
   "source": [
    "num = 1\n",
    "while num <= 10:\n",
    "    print(num, end = ' ')\n",
    "    num += 1"
   ]
  },
  {
   "cell_type": "markdown",
   "metadata": {
    "colab_type": "text",
    "id": "L53z2FoY9YFP"
   },
   "source": [
    "### [연습] while 문 작성하기\n",
    "> 사용자가 \"안녕\"이라고 입력할 때까지 인사하는 코드를 작성해보세요."
   ]
  },
  {
   "cell_type": "code",
   "execution_count": null,
   "metadata": {
    "colab": {},
    "colab_type": "code",
    "id": "xkYaOwRH9YFR"
   },
   "outputs": [],
   "source": [
    "# 아래에 코드를 작성하세요."
   ]
  },
  {
   "cell_type": "code",
   "execution_count": null,
   "metadata": {
    "colab": {},
    "colab_type": "code",
    "id": "f7eMPHhf9YFm"
   },
   "outputs": [],
   "source": []
  },
  {
   "cell_type": "markdown",
   "metadata": {
    "colab_type": "text",
    "id": "ZjR-9SnT9YF2"
   },
   "source": [
    "### [실습] 합(Summation)\n",
    "\n",
    "> 1부터 사용자가 입력한 양의 정수까지의 총합을 구하는 코드를 작성해보세요.\n",
    "\n",
    "---\n",
    "**[입력 예시]**\n",
    "\n",
    "10\n",
    "\n",
    "**[출력 예시]**\n",
    "\n",
    "55"
   ]
  },
  {
   "cell_type": "code",
   "execution_count": null,
   "metadata": {
    "colab": {},
    "colab_type": "code",
    "id": "R0zSNZ2T9YF4"
   },
   "outputs": [],
   "source": [
    "# 아래에 코드를 작성하세요."
   ]
  },
  {
   "cell_type": "code",
   "execution_count": null,
   "metadata": {
    "colab": {},
    "colab_type": "code",
    "id": "jfOj3nS49YGL"
   },
   "outputs": [],
   "source": []
  },
  {
   "cell_type": "markdown",
   "metadata": {
    "colab_type": "text",
    "id": "6sMZiWav9YGQ"
   },
   "source": [
    "### [응용] 한자리 씩 출력하기\n",
    "\n",
    "> 사용자로부터 숫자 입력 받은 양의 정수의 각 자리 수를 1의 자리부터 차례대로 출력하는 코드를 작성해보세요.\n",
    "\n",
    "\n",
    "---\n",
    "**[입력 예시]**\n",
    "\n",
    "185\n",
    "\n",
    "**[출력 예시]**\n",
    "\n",
    "5\n",
    "\n",
    "8\n",
    "\n",
    "1"
   ]
  },
  {
   "cell_type": "code",
   "execution_count": null,
   "metadata": {
    "colab": {},
    "colab_type": "code",
    "id": "h1aifL6x9YGY"
   },
   "outputs": [],
   "source": [
    "# 아래에 코드를 작성하세요."
   ]
  },
  {
   "cell_type": "code",
   "execution_count": null,
   "metadata": {
    "colab": {},
    "colab_type": "code",
    "id": "3N5tbTOf9YGi"
   },
   "outputs": [],
   "source": []
  },
  {
   "cell_type": "markdown",
   "metadata": {
    "colab_type": "text",
    "id": "fj_RZrM_9YGr"
   },
   "source": [
    "## `for` 문\n",
    "\n",
    "`for` 문은 시퀀스(String, Tuple, List, Range)나 다른 순회가능한 객체(iterable)의 요소들을 순회한다.\n",
    "\n",
    "---\n",
    "\n",
    "### 활용법\n",
    "- **문법**\n",
    "\n",
    "```python\n",
    "for <임시변수> in <순회가능한데이터(iterable)>:\n",
    "    <코드 블럭>\n",
    "```\n",
    "\n",
    "- **예시**\n",
    "\n",
    "```python\n",
    "for menu in ['김밥', '햄버거', '피자', '라면']:\n",
    "    print(menu)\n",
    "```"
   ]
  },
  {
   "cell_type": "markdown",
   "metadata": {
    "colab_type": "text",
    "id": "xXTGA15n9YGs"
   },
   "source": [
    "<center>\n",
    "    <img src=\"https://user-images.githubusercontent.com/18046097/61180565-3a2c7800-a653-11e9-806a-28838248de31.png\", alt=\"\">\n",
    "</center>"
   ]
  },
  {
   "cell_type": "code",
   "execution_count": null,
   "metadata": {
    "colab": {
     "base_uri": "https://localhost:8080/",
     "height": 107
    },
    "colab_type": "code",
    "executionInfo": {
     "elapsed": 649,
     "status": "ok",
     "timestamp": 1595231088019,
     "user": {
      "displayName": "sa lee",
      "photoUrl": "https://lh3.googleusercontent.com/a-/AOh14GhvMzl7e5o13kzwjOkdZE9EdiHFu-6dYLdWQWKjuA=s64",
      "userId": "03651723065083041662"
     },
     "user_tz": -540
    },
    "id": "G9X8VEJD9YGt",
    "outputId": "b34349e1-5670-49d4-923a-91e384f27f29"
   },
   "outputs": [
    {
     "name": "stdout",
     "output_type": "stream",
     "text": [
      "김밥\n",
      "햄버거\n",
      "피자\n",
      "라면\n",
      "끝\n"
     ]
    }
   ],
   "source": [
    "# flowchart를 for문을 통해 코드로 작성해봅시다.\n",
    "# 아래에 코드를 작성하세요.\n",
    "\n",
    "menu = ['김밥', '햄버거', '피자', '라면']\n",
    "\n",
    "for i in menu:\n",
    "  print(i)\n",
    "\n",
    "print('끝')  "
   ]
  },
  {
   "cell_type": "code",
   "execution_count": null,
   "metadata": {
    "colab": {},
    "colab_type": "code",
    "id": "H2ynN85U9YGy"
   },
   "outputs": [],
   "source": []
  },
  {
   "cell_type": "markdown",
   "metadata": {
    "colab_type": "text",
    "id": "rI2uW9dh9YG8"
   },
   "source": [
    "![for animation](https://user-images.githubusercontent.com/18046097/61180563-3a2c7800-a653-11e9-8a7a-c7d6e6b30141.gif)"
   ]
  },
  {
   "cell_type": "markdown",
   "metadata": {
    "colab_type": "text",
    "id": "FUzSe-Pm9YG9"
   },
   "source": [
    "`for` 문에서 요소 값에 다른 값을 할당해도 다음 반복구문에 영향을 주지 않는다.\n",
    "\n",
    "다음 요소 값에 의해 덮어 씌워지기 때문이다."
   ]
  },
  {
   "cell_type": "code",
   "execution_count": null,
   "metadata": {
    "colab": {},
    "colab_type": "code",
    "id": "jPWl-aDW9YG-"
   },
   "outputs": [],
   "source": [
    "# for 문 안에서 임시 변수에 다른 값을 할당해도 반복구문에 영향을 주지 않습니다."
   ]
  },
  {
   "cell_type": "code",
   "execution_count": null,
   "metadata": {
    "colab": {
     "base_uri": "https://localhost:8080/",
     "height": 197
    },
    "colab_type": "code",
    "executionInfo": {
     "elapsed": 1130,
     "status": "ok",
     "timestamp": 1595231150439,
     "user": {
      "displayName": "sa lee",
      "photoUrl": "https://lh3.googleusercontent.com/a-/AOh14GhvMzl7e5o13kzwjOkdZE9EdiHFu-6dYLdWQWKjuA=s64",
      "userId": "03651723065083041662"
     },
     "user_tz": -540
    },
    "id": "n_x4YgWu9YHC",
    "outputId": "fa03206d-d891-4d7b-f0ec-d85ea4900733"
   },
   "outputs": [
    {
     "name": "stdout",
     "output_type": "stream",
     "text": [
      "0\n",
      "1\n",
      "2\n",
      "3\n",
      "4\n",
      "5\n",
      "6\n",
      "7\n",
      "8\n",
      "9\n"
     ]
    }
   ],
   "source": [
    "for i in range(10):\n",
    "  print(i)\n",
    "  i=5"
   ]
  },
  {
   "cell_type": "markdown",
   "metadata": {
    "colab_type": "text",
    "id": "FoSZ4aT89YHM"
   },
   "source": [
    "### [연습] for 문 작성하기\n",
    "> `for` 문을 활용하여 사용자가 입력한 문자를 한글자씩 출력해보세요.\n",
    "\n",
    "---\n",
    "**[입력 예시]**\n",
    "```\n",
    "문자를 입력하세요 : 안녕!\n",
    "```\n",
    "\n",
    "\n",
    "**[출력 예시]**\n",
    "\n",
    "```\n",
    "안\n",
    "녕\n",
    "!\n",
    "```"
   ]
  },
  {
   "cell_type": "code",
   "execution_count": null,
   "metadata": {
    "colab": {
     "base_uri": "https://localhost:8080/"
    },
    "colab_type": "code",
    "executionInfo": {
     "elapsed": 12949,
     "status": "ok",
     "timestamp": 1595231341481,
     "user": {
      "displayName": "sa lee",
      "photoUrl": "https://lh3.googleusercontent.com/a-/AOh14GhvMzl7e5o13kzwjOkdZE9EdiHFu-6dYLdWQWKjuA=s64",
      "userId": "03651723065083041662"
     },
     "user_tz": -540
    },
    "id": "q4iOr5gi9YHM",
    "outputId": "dbb528c2-77a4-4d54-fdb3-bc44a0472846"
   },
   "outputs": [
    {
     "name": "stdout",
     "output_type": "stream",
     "text": [
      "문자를 입력하세요 : 이승아\n",
      "이\n",
      "승\n",
      "아\n"
     ]
    }
   ],
   "source": [
    "chars = input('문자를 입력하세요 : ')\n",
    "for char in chars:\n",
    "  print(char)\n",
    "\n",
    "# 아래에 코드를 작성하세요."
   ]
  },
  {
   "cell_type": "code",
   "execution_count": null,
   "metadata": {
    "colab": {},
    "colab_type": "code",
    "id": "4CzZIB3P9YHR"
   },
   "outputs": [],
   "source": []
  },
  {
   "cell_type": "markdown",
   "metadata": {
    "colab_type": "text",
    "id": "htWgDqoj9YHU"
   },
   "source": [
    "###  [실습] for 문과 if 문 작성하기\n",
    "\n",
    "> 반복문과 조건문만 활용하여 1~30까지 숫자 중에 홀수만 출력해보세요.\n",
    "\n",
    "---\n",
    "\n",
    "**[출력 예시]**\n",
    "\n",
    "```\n",
    "1\n",
    "3\n",
    "5\n",
    "...\n",
    "27\n",
    "29\n",
    "```"
   ]
  },
  {
   "cell_type": "code",
   "execution_count": null,
   "metadata": {
    "colab": {},
    "colab_type": "code",
    "id": "J-R5neX89YHV"
   },
   "outputs": [],
   "source": [
    "# 아래에 코드를 작성하세요."
   ]
  },
  {
   "cell_type": "code",
   "execution_count": null,
   "metadata": {
    "colab": {
     "base_uri": "https://localhost:8080/"
    },
    "colab_type": "code",
    "executionInfo": {
     "elapsed": 722,
     "status": "ok",
     "timestamp": 1595231417264,
     "user": {
      "displayName": "sa lee",
      "photoUrl": "https://lh3.googleusercontent.com/a-/AOh14GhvMzl7e5o13kzwjOkdZE9EdiHFu-6dYLdWQWKjuA=s64",
      "userId": "03651723065083041662"
     },
     "user_tz": -540
    },
    "id": "709T_iAC9YHg",
    "outputId": "a3c86d50-4fec-4010-c89e-a201566edd75"
   },
   "outputs": [
    {
     "name": "stdout",
     "output_type": "stream",
     "text": [
      "1\n",
      "3\n",
      "5\n",
      "7\n",
      "9\n",
      "11\n",
      "13\n",
      "15\n",
      "17\n",
      "19\n",
      "21\n",
      "23\n",
      "25\n",
      "27\n",
      "29\n"
     ]
    }
   ],
   "source": [
    "for i in range(31):\n",
    "  if i % 2 == 1:\n",
    "    print(i)"
   ]
  },
  {
   "cell_type": "markdown",
   "metadata": {
    "colab_type": "text",
    "id": "GZSCnTBj9YH1"
   },
   "source": [
    "### 리스트(list) 순회에서 index의 활용하기\n",
    "\n",
    "#### `range()`\n",
    "순회할 list의 길이를 활용하여 index를 조작할 수 있습니다."
   ]
  },
  {
   "cell_type": "code",
   "execution_count": null,
   "metadata": {
    "colab": {},
    "colab_type": "code",
    "id": "U3-4Xya89YH2"
   },
   "outputs": [],
   "source": []
  },
  {
   "cell_type": "markdown",
   "metadata": {
    "colab_type": "text",
    "id": "KA8ueC5w9YH_"
   },
   "source": [
    "#### `enumerate()`\n",
    "인덱스(index)와 값(value)을 함께 활용 가능\n",
    "\n",
    "> `enumerate()`를 활용하면, 추가적인 변수를 활용할 수 있습니다.\n",
    "- `enumerate()`는 [내장 함수](https://docs.python.org/ko/3.6/library/functions.html) 중 하나이며, 다음과 같이 구성되어 있습니다.\n",
    ">\n",
    "> <center>\n",
    "    <img src=\"https://user-images.githubusercontent.com/18046097/61180561-3993e180-a653-11e9-9558-085c9a0ad65d.png\", alt=\"enumerate\">\n",
    "</center>"
   ]
  },
  {
   "cell_type": "code",
   "execution_count": null,
   "metadata": {
    "colab": {},
    "colab_type": "code",
    "id": "LCxtE6rt9YIA"
   },
   "outputs": [],
   "source": [
    "# enumerate()를 활용해서 출력해봅시다.\n",
    "lunch = ['짜장면', '초밥', '피자', '햄버거']"
   ]
  },
  {
   "cell_type": "code",
   "execution_count": null,
   "metadata": {
    "colab": {
     "base_uri": "https://localhost:8080/",
     "height": 89
    },
    "colab_type": "code",
    "executionInfo": {
     "elapsed": 737,
     "status": "ok",
     "timestamp": 1595231741971,
     "user": {
      "displayName": "sa lee",
      "photoUrl": "https://lh3.googleusercontent.com/a-/AOh14GhvMzl7e5o13kzwjOkdZE9EdiHFu-6dYLdWQWKjuA=s64",
      "userId": "03651723065083041662"
     },
     "user_tz": -540
    },
    "id": "_XTUu-V-9YIO",
    "outputId": "eeac2577-058c-4e3a-fe49-55ec2bf74b65"
   },
   "outputs": [
    {
     "name": "stdout",
     "output_type": "stream",
     "text": [
      "짜장면\n",
      "초밥\n",
      "피자\n",
      "햄버거\n"
     ]
    }
   ],
   "source": [
    "for i in range(len(lunch)):\n",
    "  print(lunch[i])"
   ]
  },
  {
   "cell_type": "code",
   "execution_count": null,
   "metadata": {
    "colab": {},
    "colab_type": "code",
    "id": "VHLUn-4d9YIW"
   },
   "outputs": [],
   "source": [
    "# enumerate()를 사용하였을 때 어떻게 표현이 되는지 확인해봅시다."
   ]
  },
  {
   "cell_type": "code",
   "execution_count": null,
   "metadata": {
    "colab": {
     "base_uri": "https://localhost:8080/",
     "height": 161
    },
    "colab_type": "code",
    "executionInfo": {
     "elapsed": 799,
     "status": "ok",
     "timestamp": 1595231936124,
     "user": {
      "displayName": "sa lee",
      "photoUrl": "https://lh3.googleusercontent.com/a-/AOh14GhvMzl7e5o13kzwjOkdZE9EdiHFu-6dYLdWQWKjuA=s64",
      "userId": "03651723065083041662"
     },
     "user_tz": -540
    },
    "id": "zKO95-an9YIi",
    "outputId": "687c12df-06f3-4aad-ded9-915e98e2b7b5"
   },
   "outputs": [
    {
     "name": "stdout",
     "output_type": "stream",
     "text": [
      "1\n",
      "짜장면\n",
      "2\n",
      "초밥\n",
      "3\n",
      "피자\n",
      "4\n",
      "햄버거\n"
     ]
    }
   ],
   "source": [
    "for idx,menu  in enumerate(lunch, start=1):\n",
    "  print(idx)\n",
    "  print(menu)"
   ]
  },
  {
   "cell_type": "code",
   "execution_count": null,
   "metadata": {
    "colab": {},
    "colab_type": "code",
    "id": "Kq6OIoAF9YIn"
   },
   "outputs": [],
   "source": [
    "# 숫자를 1부터 카운트 할 수도 있습니다."
   ]
  },
  {
   "cell_type": "code",
   "execution_count": null,
   "metadata": {
    "colab": {},
    "colab_type": "code",
    "id": "HD4IaQZk9YIw"
   },
   "outputs": [],
   "source": []
  },
  {
   "cell_type": "markdown",
   "metadata": {
    "colab_type": "text",
    "id": "Q3gB7JVf9YI2"
   },
   "source": [
    "## 반복제어(`break`, `continue`, `for-else`)"
   ]
  },
  {
   "cell_type": "markdown",
   "metadata": {
    "colab_type": "text",
    "id": "G5zEZGK-9YI2"
   },
   "source": [
    "### `break` \n",
    "\n",
    "반복문을 종료한다.\n",
    "\n",
    "* `for` 나 `while` 문에서 빠져나간다."
   ]
  },
  {
   "cell_type": "code",
   "execution_count": null,
   "metadata": {
    "colab": {},
    "colab_type": "code",
    "id": "pbs_Yj4x9YI3"
   },
   "outputs": [],
   "source": [
    "# while 문에서 break를 활용해봅시다."
   ]
  },
  {
   "cell_type": "code",
   "execution_count": null,
   "metadata": {
    "colab": {
     "base_uri": "https://localhost:8080/",
     "height": 125
    },
    "colab_type": "code",
    "executionInfo": {
     "elapsed": 643,
     "status": "ok",
     "timestamp": 1595232118318,
     "user": {
      "displayName": "sa lee",
      "photoUrl": "https://lh3.googleusercontent.com/a-/AOh14GhvMzl7e5o13kzwjOkdZE9EdiHFu-6dYLdWQWKjuA=s64",
      "userId": "03651723065083041662"
     },
     "user_tz": -540
    },
    "id": "JNa_seEt9YI6",
    "outputId": "fe561f29-264e-4c49-8a6c-a4bafec1a89a"
   },
   "outputs": [
    {
     "name": "stdout",
     "output_type": "stream",
     "text": [
      "0\n",
      "1\n",
      "2\n",
      "3\n",
      "4\n",
      "5\n"
     ]
    }
   ],
   "source": [
    "for i in range(10):\n",
    "  print(i) \n",
    "  if i >=5:\n",
    "    break\n",
    "  \n"
   ]
  },
  {
   "cell_type": "code",
   "execution_count": null,
   "metadata": {
    "colab": {},
    "colab_type": "code",
    "id": "Bi9Jh_Fr9YJF"
   },
   "outputs": [],
   "source": [
    "# for 문에서도 break를 사용할 수 있습니다."
   ]
  },
  {
   "cell_type": "code",
   "execution_count": null,
   "metadata": {
    "colab": {},
    "colab_type": "code",
    "id": "4Fd0lUp_9YJb"
   },
   "outputs": [],
   "source": []
  },
  {
   "cell_type": "markdown",
   "metadata": {
    "colab_type": "text",
    "id": "rPGLuZIy9YJk"
   },
   "source": [
    "### [연습] `break` 활용하기\n",
    "\n",
    "> 조건문과 반복문, `break`를 활용하여 리스트에서 쌀이 나왔을때 `for` 문을 멈추는 코드를 작성하세요.\n",
    "\n",
    "---\n",
    "\n",
    "**[출력 예시]**\n",
    "\n",
    "보리\n",
    "\n",
    "보리\n",
    "\n",
    "쌀\n",
    "\n",
    "잡았다!"
   ]
  },
  {
   "cell_type": "code",
   "execution_count": null,
   "metadata": {
    "colab": {},
    "colab_type": "code",
    "id": "8LMMqpMu9YJl"
   },
   "outputs": [],
   "source": [
    "rice = ['보리', '보리', '보리', '쌀', '보리']\n",
    "\n",
    "# 아래에 코드를 작성하세요."
   ]
  },
  {
   "cell_type": "code",
   "execution_count": null,
   "metadata": {
    "colab": {
     "base_uri": "https://localhost:8080/"
    },
    "colab_type": "code",
    "executionInfo": {
     "elapsed": 838,
     "status": "ok",
     "timestamp": 1595232368808,
     "user": {
      "displayName": "sa lee",
      "photoUrl": "https://lh3.googleusercontent.com/a-/AOh14GhvMzl7e5o13kzwjOkdZE9EdiHFu-6dYLdWQWKjuA=s64",
      "userId": "03651723065083041662"
     },
     "user_tz": -540
    },
    "id": "O4i7Ufkh9YJ1",
    "outputId": "049d3c53-e56f-4cc7-e4a8-3c6a59626614",
    "scrolled": true
   },
   "outputs": [
    {
     "name": "stdout",
     "output_type": "stream",
     "text": [
      "보리\n",
      "보리\n",
      "보리\n",
      "쌀\n",
      "잡았다!\n"
     ]
    }
   ],
   "source": [
    "for i in rice:\n",
    "   print(i) \n",
    "   if i =='쌀':\n",
    "     print('잡았다!')\n",
    "     break\n",
    "\n"
   ]
  },
  {
   "cell_type": "markdown",
   "metadata": {
    "colab_type": "text",
    "id": "el7sok3s9YJ6"
   },
   "source": [
    "### `continue`\n",
    "\n",
    "`continue`문은 continue 이후의 코드를 수행하지 않고 *다음 요소부터 계속(continue)하여* 반복을 수행한다."
   ]
  },
  {
   "cell_type": "code",
   "execution_count": null,
   "metadata": {
    "colab": {},
    "colab_type": "code",
    "id": "LNMmTlfv9YJ6"
   },
   "outputs": [],
   "source": [
    "# continue 문을 활용해봅시다."
   ]
  },
  {
   "cell_type": "code",
   "execution_count": null,
   "metadata": {
    "colab": {
     "base_uri": "https://localhost:8080/",
     "height": 73
    },
    "colab_type": "code",
    "executionInfo": {
     "elapsed": 976,
     "status": "ok",
     "timestamp": 1595232604667,
     "user": {
      "displayName": "sa lee",
      "photoUrl": "https://lh3.googleusercontent.com/a-/AOh14GhvMzl7e5o13kzwjOkdZE9EdiHFu-6dYLdWQWKjuA=s64",
      "userId": "03651723065083041662"
     },
     "user_tz": -540
    },
    "id": "L-Vc11e19YKR",
    "outputId": "a0b16456-e1e5-45fb-aa3a-3c037f315f90"
   },
   "outputs": [
    {
     "name": "stdout",
     "output_type": "stream",
     "text": [
      "1는 홀수다\n",
      "3는 홀수다\n",
      "5는 홀수다\n"
     ]
    }
   ],
   "source": [
    "for i in range(6):\n",
    "  if i % 2 == 0:\n",
    "    continue\n",
    "    print(f'{i}는 짝수다')\n",
    "    \n",
    "  print(f'{i}는 홀수다')"
   ]
  },
  {
   "cell_type": "markdown",
   "metadata": {
    "colab_type": "text",
    "id": "JKFjs7Ry9YKX"
   },
   "source": [
    "### [연습] continue 문 작성하기\n",
    "\n",
    "> 나이가 입력된 리스트가 있을때,\n",
    "> 조건문과 반복문, continue를 활용하여 20살 이상일때만 \"성인입니다\"라는 출력을 하는 코드를 작성하세요.\n",
    "\n",
    "---\n",
    "\n",
    "**[출력 예시]**\n",
    "\n",
    "23 살은 성인입니다.\n",
    "\n",
    "30 살은 성인입니다.\n",
    "\n",
    "25 살은 성인입니다.\n",
    "\n",
    "31 살은 성인입니다."
   ]
  },
  {
   "cell_type": "code",
   "execution_count": null,
   "metadata": {
    "colab": {},
    "colab_type": "code",
    "id": "s2qQKbFL9YKX"
   },
   "outputs": [],
   "source": [
    "ages = [10, 23, 8, 30, 25, 31]\n",
    "\n",
    "# 아래에 코드를 작성하세요."
   ]
  },
  {
   "cell_type": "code",
   "execution_count": null,
   "metadata": {
    "colab": {
     "base_uri": "https://localhost:8080/"
    },
    "colab_type": "code",
    "executionInfo": {
     "elapsed": 1689,
     "status": "ok",
     "timestamp": 1595232820445,
     "user": {
      "displayName": "sa lee",
      "photoUrl": "https://lh3.googleusercontent.com/a-/AOh14GhvMzl7e5o13kzwjOkdZE9EdiHFu-6dYLdWQWKjuA=s64",
      "userId": "03651723065083041662"
     },
     "user_tz": -540
    },
    "id": "6zhf08rv9YKf",
    "outputId": "b71a9ea3-673f-487c-90ae-f4d14546ca95"
   },
   "outputs": [
    {
     "name": "stdout",
     "output_type": "stream",
     "text": [
      "23살은 성인입니다.\n",
      "30살은 성인입니다.\n",
      "25살은 성인입니다.\n",
      "31살은 성인입니다.\n"
     ]
    }
   ],
   "source": [
    "for age in ages:\n",
    "  if age < 20:\n",
    "    continue\n",
    "  \n",
    "  print(f'{age}살은 성인입니다.')"
   ]
  },
  {
   "cell_type": "markdown",
   "metadata": {
    "colab_type": "text",
    "id": "vom_PxJT9YKt"
   },
   "source": [
    "### `for-else`\n",
    "\n",
    "끝까지 반복문을 시행한 이후에 실행된다.\n",
    "- 반복에서 리스트의 소진이나 (`for` 의 경우) 조건이 거짓이 돼서 (`while` 의 경우) 종료할 때 실행된다. \n",
    "- 하지만 반복문이 **`break` 문으로 종료될 때는 실행되지 않는다.** (즉, `break`를 통해 중간에 종료되지 않은 경우만 실행)"
   ]
  },
  {
   "cell_type": "code",
   "execution_count": null,
   "metadata": {
    "colab": {},
    "colab_type": "code",
    "id": "NoikSNwN9YKu"
   },
   "outputs": [],
   "source": [
    "# break가 안되는 상황을 만들어봅시다."
   ]
  },
  {
   "cell_type": "code",
   "execution_count": null,
   "metadata": {
    "colab": {
     "base_uri": "https://localhost:8080/",
     "height": 89
    },
    "colab_type": "code",
    "executionInfo": {
     "elapsed": 667,
     "status": "ok",
     "timestamp": 1595233431368,
     "user": {
      "displayName": "sa lee",
      "photoUrl": "https://lh3.googleusercontent.com/a-/AOh14GhvMzl7e5o13kzwjOkdZE9EdiHFu-6dYLdWQWKjuA=s64",
      "userId": "03651723065083041662"
     },
     "user_tz": -540
    },
    "id": "Frt_CrT29YK4",
    "outputId": "81364a61-de45-4bec-9356-ada29ffdb13e"
   },
   "outputs": [
    {
     "name": "stdout",
     "output_type": "stream",
     "text": [
      "1\n",
      "5\n",
      "10\n",
      "정상적으로 순회했네 ^^;\n"
     ]
    }
   ],
   "source": [
    "numbers = [1, 5, 10]\n",
    "\n",
    "for num in numbers:\n",
    "  print(num)\n",
    "  if num ==3:\n",
    "    print('3 잡았다!')\n",
    "    break\n",
    "else:\n",
    "  print('정상적으로 순회했네 ^^;')    "
   ]
  },
  {
   "cell_type": "code",
   "execution_count": null,
   "metadata": {
    "colab": {},
    "colab_type": "code",
    "id": "X4eAUzO_9YK_"
   },
   "outputs": [],
   "source": [
    "# break가 되는 상황을 만들어봅시다."
   ]
  },
  {
   "cell_type": "code",
   "execution_count": null,
   "metadata": {
    "colab": {
     "base_uri": "https://localhost:8080/",
     "height": 71
    },
    "colab_type": "code",
    "executionInfo": {
     "elapsed": 478,
     "status": "ok",
     "timestamp": 1595233472370,
     "user": {
      "displayName": "sa lee",
      "photoUrl": "https://lh3.googleusercontent.com/a-/AOh14GhvMzl7e5o13kzwjOkdZE9EdiHFu-6dYLdWQWKjuA=s64",
      "userId": "03651723065083041662"
     },
     "user_tz": -540
    },
    "id": "50BEJe9u9YLP",
    "outputId": "add2b1c9-19eb-4c11-b1f7-82f7a6f3018b"
   },
   "outputs": [
    {
     "name": "stdout",
     "output_type": "stream",
     "text": [
      "1\n",
      "5\n",
      "5 잡았다!\n"
     ]
    }
   ],
   "source": [
    "for num in numbers:\n",
    "  print(num)\n",
    "  if num ==5:\n",
    "    print('5 잡았다!')\n",
    "    break\n",
    "else:\n",
    "  print('정상적으로 순회했네 ^^;') "
   ]
  },
  {
   "cell_type": "markdown",
   "metadata": {
    "colab_type": "text",
    "id": "18nkoOlJ9YLZ"
   },
   "source": [
    "### [연습] `for-else` 활용하기\n",
    "\n",
    "> 조건문과 반복문, break, else 를 통해서 아래의 코드와 동일한 코드를 작성하세요.\n",
    "* numbers 리스트에 4가 있을 경우 `True`를 출력하고, 없을 경우 `False`를 출력한다.\n",
    "\n",
    "---\n",
    "\n",
    "**[출력 예시]**\n",
    "\n",
    "`False`\n"
   ]
  },
  {
   "cell_type": "code",
   "execution_count": null,
   "metadata": {
    "colab": {},
    "colab_type": "code",
    "id": "9GDwVGhd9YLd"
   },
   "outputs": [],
   "source": [
    "numbers = [1, 5, 10]\n",
    "\n",
    "# 아래에 코드를 작성하세요."
   ]
  },
  {
   "cell_type": "code",
   "execution_count": null,
   "metadata": {
    "colab": {},
    "colab_type": "code",
    "id": "-yIwhZd99YLn"
   },
   "outputs": [],
   "source": [
    "for num in numbers:\n",
    "  pass"
   ]
  },
  {
   "cell_type": "markdown",
   "metadata": {
    "colab_type": "text",
    "id": "yJSptZVn9YLv"
   },
   "source": [
    "### `pass` \n",
    "아무것도 하지 않는다.\n",
    "* 문법적으로 문장이 필요하지만, 프로그램이 특별히 할 일이 없을 때 자리를 채우는 용도로 사용할 수 있다."
   ]
  },
  {
   "cell_type": "markdown",
   "metadata": {
    "colab_type": "text",
    "id": "aH1ABfQJ9YLx"
   },
   "source": [
    "**`pass` 와 `continue` 차이**"
   ]
  },
  {
   "cell_type": "code",
   "execution_count": null,
   "metadata": {
    "colab": {
     "base_uri": "https://localhost:8080/",
     "height": 35
    },
    "colab_type": "code",
    "executionInfo": {
     "elapsed": 492,
     "status": "ok",
     "timestamp": 1595233636026,
     "user": {
      "displayName": "sa lee",
      "photoUrl": "https://lh3.googleusercontent.com/a-/AOh14GhvMzl7e5o13kzwjOkdZE9EdiHFu-6dYLdWQWKjuA=s64",
      "userId": "03651723065083041662"
     },
     "user_tz": -540
    },
    "id": "GJHLafio9YL1",
    "outputId": "64639ae7-d4a8-434d-a200-76076299c29c"
   },
   "outputs": [
    {
     "name": "stdout",
     "output_type": "stream",
     "text": [
      "화이팅!\n"
     ]
    }
   ],
   "source": [
    "# pass\n",
    "name = '이승아'\n",
    "if name == '이승아':\n",
    "  pass\n",
    "print('화이팅!')"
   ]
  },
  {
   "cell_type": "code",
   "execution_count": null,
   "metadata": {
    "colab": {},
    "colab_type": "code",
    "id": "_DtgdO7_9YL-"
   },
   "outputs": [],
   "source": [
    "# continue\n"
   ]
  },
  {
   "cell_type": "code",
   "execution_count": null,
   "metadata": {
    "colab": {},
    "colab_type": "code",
    "id": "PG5yfQu5Wnkf"
   },
   "outputs": [],
   "source": []
  }
 ],
 "metadata": {
  "colab": {
   "name": "02_control_flow.ipynb",
   "provenance": [],
   "toc_visible": true
  },
  "kernelspec": {
   "display_name": "Python 3",
   "language": "python",
   "name": "python3"
  },
  "language_info": {
   "codemirror_mode": {
    "name": "ipython",
    "version": 3
   },
   "file_extension": ".py",
   "mimetype": "text/x-python",
   "name": "python",
   "nbconvert_exporter": "python",
   "pygments_lexer": "ipython3",
   "version": "3.7.7"
  },
  "toc": {
   "base_numbering": 1,
   "nav_menu": {},
   "number_sections": true,
   "sideBar": true,
   "skip_h1_title": false,
   "title_cell": "Table of Contents",
   "title_sidebar": "Contents",
   "toc_cell": false,
   "toc_position": {},
   "toc_section_display": true,
   "toc_window_display": false
  }
 },
 "nbformat": 4,
 "nbformat_minor": 1
}
