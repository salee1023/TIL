{
 "cells": [
  {
   "cell_type": "markdown",
   "metadata": {
    "colab_type": "text",
    "id": "_XJ03C1XqwF3"
   },
   "source": [
    "# Python 기초\n",
    "\n",
    "## 개요\n",
    "\n",
    "본 강의 자료는 [Python 공식 Tutorial](https://docs.python.org/3.7/tutorial/index.html)에 근거하여 만들어졌으며, Python 3.7 버전에 해당하는 내용을 담고 있습니다.\n",
    "\n",
    "또한, 파이썬에서 제공하는 스타일 가이드인 [`PEP-8`](https://www.python.org/dev/peps/pep-0008/) 내용을 반영하였습니다. \n",
    "\n",
    "파이썬을 활용하는 다양한 IT기업들은 대내외적으로 본인들의 스타일 가이드를 제공하고 있습니다. \n",
    "\n",
    "* [구글 스타일 가이드](https://github.com/google/styleguide/blob/gh-pages/pyguide.md)\n",
    "* [Tensorflow 스타일 가이드](https://www.tensorflow.org/community/style_guide)\n",
    "\n"
   ]
  },
  {
   "cell_type": "markdown",
   "metadata": {
    "colab_type": "text",
    "id": "RrP-5qz5qwF7"
   },
   "source": [
    "## 기초 문법(Syntax)\n",
    "### 주석(Comment)\n",
    "\n",
    "* 한 줄 주석은 `#`으로 표현한다. \n",
    "\n",
    "* 여러 줄의 주석은 \n",
    "    1. 한 줄 씩 `#`을 사용해서 표현하거나,\n",
    "    2. `\"\"\"` 또는 `'''`(여러줄 문자열, multiline string)으로 표현할 수 있습니다.\n",
    "    (multiline은 주로 함수/클래스를 설명(docstring)하기 위해 활용됩니다.)"
   ]
  },
  {
   "cell_type": "code",
   "execution_count": null,
   "metadata": {
    "colab": {},
    "colab_type": "code",
    "id": "Rag29ptUqwF9"
   },
   "outputs": [],
   "source": [
    "# 주석을 연습해봅시다. "
   ]
  },
  {
   "cell_type": "code",
   "execution_count": null,
   "metadata": {
    "colab": {},
    "colab_type": "code",
    "id": "lXGDfbEVqwGH"
   },
   "outputs": [],
   "source": [
    "# 이건 한 줄 짜리 주석입니다."
   ]
  },
  {
   "cell_type": "code",
   "execution_count": null,
   "metadata": {
    "colab": {},
    "colab_type": "code",
    "id": "vo_HG3sOqwGR"
   },
   "outputs": [],
   "source": [
    "# 여러줄 주석을 multiline string을 활용하여 연습해봅시다."
   ]
  },
  {
   "cell_type": "code",
   "execution_count": null,
   "metadata": {
    "colab": {},
    "colab_type": "code",
    "id": "_XACGLxQqwGX"
   },
   "outputs": [],
   "source": [
    "\"\"\"\n",
    "이건\n",
    "여러줄에 걸쳐 쓸 수 있는\n",
    "주석입니다.\n",
    "\"\"\""
   ]
  },
  {
   "cell_type": "markdown",
   "metadata": {
    "colab_type": "text",
    "id": "EDspjxMlqwGf"
   },
   "source": [
    "### 코드 라인\n",
    "* 파이썬 코드는 '1줄에 1문장(statment)'이 원칙이다.\n",
    "\n",
    "* 문장(statement)은 파이썬이 실행 가능(executable)한 최소한의 코드 단위이다. \n",
    "\n",
    "* 기본적으로 파이썬에서는 `;`을 작성하지 않는다.\n",
    "\n",
    "* 한 줄로 표기할때는 `;`을 작성하여 표기할 수 있다. "
   ]
  },
  {
   "cell_type": "code",
   "execution_count": null,
   "metadata": {
    "colab": {},
    "colab_type": "code",
    "id": "LNl3QDmBqwGh"
   },
   "outputs": [],
   "source": [
    "# print문을 두번 써봅시다."
   ]
  },
  {
   "cell_type": "code",
   "execution_count": null,
   "metadata": {
    "colab": {
     "base_uri": "https://localhost:8080/",
     "height": 52
    },
    "colab_type": "code",
    "executionInfo": {
     "elapsed": 943,
     "status": "ok",
     "timestamp": 1595206679585,
     "user": {
      "displayName": "sa lee",
      "photoUrl": "https://lh3.googleusercontent.com/a-/AOh14GhvMzl7e5o13kzwjOkdZE9EdiHFu-6dYLdWQWKjuA=s64",
      "userId": "03651723065083041662"
     },
     "user_tz": -540
    },
    "id": "ClBYnMxqqwGm",
    "outputId": "6f7017c4-21dd-4403-d0a0-9f65dfa0bd67"
   },
   "outputs": [
    {
     "name": "stdout",
     "output_type": "stream",
     "text": [
      "hello\n",
      "world\n"
     ]
    }
   ],
   "source": [
    "print('hello')\n",
    "print('world')"
   ]
  },
  {
   "cell_type": "code",
   "execution_count": null,
   "metadata": {
    "colab": {},
    "colab_type": "code",
    "id": "qGJEIOEnqwGu"
   },
   "outputs": [],
   "source": [
    "# print문을 한줄로 이어서 써봅시다. 오류 메시지를 확인해주세요."
   ]
  },
  {
   "cell_type": "code",
   "execution_count": null,
   "metadata": {
    "colab": {
     "base_uri": "https://localhost:8080/",
     "height": 133
    },
    "colab_type": "code",
    "executionInfo": {
     "elapsed": 1057,
     "status": "error",
     "timestamp": 1595206682808,
     "user": {
      "displayName": "sa lee",
      "photoUrl": "https://lh3.googleusercontent.com/a-/AOh14GhvMzl7e5o13kzwjOkdZE9EdiHFu-6dYLdWQWKjuA=s64",
      "userId": "03651723065083041662"
     },
     "user_tz": -540
    },
    "id": "qSoHeLGJqwG2",
    "outputId": "bcea718e-ef75-46de-95a5-e077d63a34e1"
   },
   "outputs": [
    {
     "ename": "SyntaxError",
     "evalue": "ignored",
     "output_type": "error",
     "traceback": [
      "\u001b[0;36m  File \u001b[0;32m\"<ipython-input-4-71f683e5cf02>\"\u001b[0;36m, line \u001b[0;32m1\u001b[0m\n\u001b[0;31m    print('hello')print('world')\u001b[0m\n\u001b[0m                      ^\u001b[0m\n\u001b[0;31mSyntaxError\u001b[0m\u001b[0;31m:\u001b[0m invalid syntax\n"
     ]
    }
   ],
   "source": [
    "print('hello')print('world') #error를 무서워하지 말자!"
   ]
  },
  {
   "cell_type": "code",
   "execution_count": null,
   "metadata": {
    "colab": {},
    "colab_type": "code",
    "id": "K6Cyydq7qwG7"
   },
   "outputs": [],
   "source": [
    "# ;을 통해 오류를 해결해봅시다."
   ]
  },
  {
   "cell_type": "code",
   "execution_count": null,
   "metadata": {
    "colab": {
     "base_uri": "https://localhost:8080/",
     "height": 52
    },
    "colab_type": "code",
    "executionInfo": {
     "elapsed": 1083,
     "status": "ok",
     "timestamp": 1595206762416,
     "user": {
      "displayName": "sa lee",
      "photoUrl": "https://lh3.googleusercontent.com/a-/AOh14GhvMzl7e5o13kzwjOkdZE9EdiHFu-6dYLdWQWKjuA=s64",
      "userId": "03651723065083041662"
     },
     "user_tz": -540
    },
    "id": "8z10kwF6qwHE",
    "outputId": "7e56cddf-dced-4826-db40-8498ee2f0831"
   },
   "outputs": [
    {
     "name": "stdout",
     "output_type": "stream",
     "text": [
      "hello\n",
      "world\n"
     ]
    }
   ],
   "source": [
    "print('hello'); print('world') "
   ]
  },
  {
   "cell_type": "code",
   "execution_count": null,
   "metadata": {
    "colab": {},
    "colab_type": "code",
    "id": "QPPYOchWqwHK"
   },
   "outputs": [],
   "source": [
    "# 하지만 위와 같이 잘 쓰지는 않습니다."
   ]
  },
  {
   "cell_type": "markdown",
   "metadata": {
    "colab_type": "text",
    "id": "tNihbWd2qwHS"
   },
   "source": [
    "* 줄을 여러줄 작성할 때는 역슬래시`\\`를 사용하여 아래와 같이 할 수 있다. "
   ]
  },
  {
   "cell_type": "code",
   "execution_count": null,
   "metadata": {
    "colab": {},
    "colab_type": "code",
    "id": "sfMvnHXsqwHV"
   },
   "outputs": [],
   "source": [
    "# print문을 통해 안되는 코드 예시 작성해봅시다."
   ]
  },
  {
   "cell_type": "code",
   "execution_count": null,
   "metadata": {
    "colab": {
     "base_uri": "https://localhost:8080/",
     "height": 104
    },
    "colab_type": "code",
    "executionInfo": {
     "elapsed": 980,
     "status": "ok",
     "timestamp": 1595206883933,
     "user": {
      "displayName": "sa lee",
      "photoUrl": "https://lh3.googleusercontent.com/a-/AOh14GhvMzl7e5o13kzwjOkdZE9EdiHFu-6dYLdWQWKjuA=s64",
      "userId": "03651723065083041662"
     },
     "user_tz": -540
    },
    "id": "WI6k_5R2qwHb",
    "outputId": "01491e2f-5dd9-4817-9683-6ec277b5c8a7"
   },
   "outputs": [
    {
     "name": "stdout",
     "output_type": "stream",
     "text": [
      "\n",
      "안녕 \n",
      "나는 \n",
      "python이야\n",
      "\n"
     ]
    }
   ],
   "source": [
    "print('''\n",
    "안녕 \n",
    "나는 \n",
    "python이야\n",
    "''')"
   ]
  },
  {
   "cell_type": "code",
   "execution_count": null,
   "metadata": {
    "colab": {},
    "colab_type": "code",
    "id": "jceO7NzlqwHi"
   },
   "outputs": [],
   "source": [
    "# print문을 통해 되는 코드 예시 작성해봅시다."
   ]
  },
  {
   "cell_type": "code",
   "execution_count": null,
   "metadata": {
    "colab": {},
    "colab_type": "code",
    "id": "Rfy7vbJpqwHn"
   },
   "outputs": [],
   "source": [
    "# 아래와 같은 동작이 가능 하지만 잘 쓰이지는 않습니다."
   ]
  },
  {
   "cell_type": "markdown",
   "metadata": {
    "colab_type": "text",
    "id": "MCfXBLmUqwHz"
   },
   "source": [
    "* `[]` `{}` `()`는 `\\` 없이도 가능하다."
   ]
  },
  {
   "cell_type": "code",
   "execution_count": null,
   "metadata": {
    "colab": {},
    "colab_type": "code",
    "id": "C2by3FVdqwH0"
   },
   "outputs": [],
   "source": [
    "# list를 여러 줄에 걸쳐서 만들어봅시다."
   ]
  },
  {
   "cell_type": "code",
   "execution_count": null,
   "metadata": {
    "colab": {},
    "colab_type": "code",
    "id": "vCl9IhdZqwH7"
   },
   "outputs": [],
   "source": [
    "menu = [\n",
    "        '김밥'.'돈까스'.'햄버거'\n",
    "]"
   ]
  },
  {
   "cell_type": "markdown",
   "metadata": {
    "colab_type": "text",
    "id": "TIYMNJRqqwIC"
   },
   "source": [
    "# 변수(Variable)"
   ]
  },
  {
   "cell_type": "markdown",
   "metadata": {
    "colab_type": "text",
    "id": "0i39O7VzqwID"
   },
   "source": [
    "## 변수 \n",
    "\n",
    "<center><img src=\"https://user-images.githubusercontent.com/18046097/61179855-0c8d0200-a646-11e9-9e9e-2c6df0504296.png\", alt=\"variable\"/></center>"
   ]
  },
  {
   "cell_type": "markdown",
   "metadata": {
    "colab_type": "text",
    "id": "m7r-Z0bEqwID"
   },
   "source": [
    "\n",
    "<center><img src=\"https://user-images.githubusercontent.com/18046097/61179857-13b41000-a646-11e9-9a88-8487df4eaf52.png\", alt=\"box\"/></center>"
   ]
  },
  {
   "cell_type": "markdown",
   "metadata": {
    "colab_type": "text",
    "id": "nSfZKfSkqwIE"
   },
   "source": [
    "### 할당 연산자(Assignment Operator): `=`\n",
    "\n",
    "* 변수는 `=`을 통해 할당(assignment) 된다. \n",
    "\n",
    "* 해당 데이터 타입을 확인하기 위해서는 `type()`을 활용한다.\n",
    "\n",
    "* 해당 값의 메모리 주소를 확인하기 위해서는 `id()`를 활용한다."
   ]
  },
  {
   "cell_type": "code",
   "execution_count": null,
   "metadata": {
    "colab": {},
    "colab_type": "code",
    "id": "-N4xRVhWqwIG"
   },
   "outputs": [],
   "source": [
    "# 변수에 값을 할당해봅시다."
   ]
  },
  {
   "cell_type": "code",
   "execution_count": null,
   "metadata": {
    "colab": {},
    "colab_type": "code",
    "id": "0sV2nwN_qwIK"
   },
   "outputs": [],
   "source": [
    "x = 'ssafy'"
   ]
  },
  {
   "cell_type": "code",
   "execution_count": null,
   "metadata": {
    "colab": {},
    "colab_type": "code",
    "id": "SCG1QWrFqwIO"
   },
   "outputs": [],
   "source": [
    "# type()을 사용해봅시다."
   ]
  },
  {
   "cell_type": "code",
   "execution_count": null,
   "metadata": {
    "colab": {
     "base_uri": "https://localhost:8080/",
     "height": 34
    },
    "colab_type": "code",
    "executionInfo": {
     "elapsed": 990,
     "status": "ok",
     "timestamp": 1595207571741,
     "user": {
      "displayName": "sa lee",
      "photoUrl": "https://lh3.googleusercontent.com/a-/AOh14GhvMzl7e5o13kzwjOkdZE9EdiHFu-6dYLdWQWKjuA=s64",
      "userId": "03651723065083041662"
     },
     "user_tz": -540
    },
    "id": "E1stiX4LqwIV",
    "outputId": "4f09256a-abe5-47fe-938b-d4e173566a6c"
   },
   "outputs": [
    {
     "data": {
      "text/plain": [
       "str"
      ]
     },
     "execution_count": 11,
     "metadata": {
      "tags": []
     },
     "output_type": "execute_result"
    }
   ],
   "source": [
    "type(x)"
   ]
  },
  {
   "cell_type": "code",
   "execution_count": null,
   "metadata": {
    "colab": {},
    "colab_type": "code",
    "id": "aFBx2VUlqwIY"
   },
   "outputs": [],
   "source": [
    "# id()를 사용해봅시다."
   ]
  },
  {
   "cell_type": "code",
   "execution_count": null,
   "metadata": {
    "colab": {
     "base_uri": "https://localhost:8080/",
     "height": 34
    },
    "colab_type": "code",
    "executionInfo": {
     "elapsed": 1131,
     "status": "ok",
     "timestamp": 1595207582369,
     "user": {
      "displayName": "sa lee",
      "photoUrl": "https://lh3.googleusercontent.com/a-/AOh14GhvMzl7e5o13kzwjOkdZE9EdiHFu-6dYLdWQWKjuA=s64",
      "userId": "03651723065083041662"
     },
     "user_tz": -540
    },
    "id": "HNA6fKZVqwIf",
    "outputId": "b467b5ce-84d6-4f3a-e46c-efdd3a703756"
   },
   "outputs": [
    {
     "data": {
      "text/plain": [
       "140413408045016"
      ]
     },
     "execution_count": 12,
     "metadata": {
      "tags": []
     },
     "output_type": "execute_result"
    }
   ],
   "source": [
    "id(x)"
   ]
  },
  {
   "cell_type": "markdown",
   "metadata": {
    "colab_type": "text",
    "id": "lHKhi0mmqwIq"
   },
   "source": [
    "* 같은 값을 동시에 할당할 수 있다."
   ]
  },
  {
   "cell_type": "code",
   "execution_count": null,
   "metadata": {
    "colab": {},
    "colab_type": "code",
    "id": "qf3MrtlEqwIr"
   },
   "outputs": [],
   "source": [
    "# 같은 값을 동시에 할당해봅시다."
   ]
  },
  {
   "cell_type": "code",
   "execution_count": null,
   "metadata": {
    "colab": {
     "base_uri": "https://localhost:8080/",
     "height": 52
    },
    "colab_type": "code",
    "executionInfo": {
     "elapsed": 1043,
     "status": "ok",
     "timestamp": 1595207681615,
     "user": {
      "displayName": "sa lee",
      "photoUrl": "https://lh3.googleusercontent.com/a-/AOh14GhvMzl7e5o13kzwjOkdZE9EdiHFu-6dYLdWQWKjuA=s64",
      "userId": "03651723065083041662"
     },
     "user_tz": -540
    },
    "id": "YsE4p93tqwIy",
    "outputId": "06826242-5fab-44d7-9315-925a4a67c57c"
   },
   "outputs": [
    {
     "name": "stdout",
     "output_type": "stream",
     "text": [
      "ssafy\n",
      "ssafy\n"
     ]
    }
   ],
   "source": [
    "x = y = 'ssafy'\n",
    "print(x)\n",
    "print(y)"
   ]
  },
  {
   "cell_type": "markdown",
   "metadata": {
    "colab_type": "text",
    "id": "F5XUX8nLqwI4"
   },
   "source": [
    "* 다른 값을 동시에 할당 가능하다."
   ]
  },
  {
   "cell_type": "code",
   "execution_count": null,
   "metadata": {
    "colab": {},
    "colab_type": "code",
    "id": "x6W1HSW7qwI5"
   },
   "outputs": [],
   "source": [
    "# 동시에 두개의 변수에 값 두개를 할당해봅시다."
   ]
  },
  {
   "cell_type": "code",
   "execution_count": null,
   "metadata": {
    "colab": {
     "base_uri": "https://localhost:8080/",
     "height": 52
    },
    "colab_type": "code",
    "executionInfo": {
     "elapsed": 923,
     "status": "ok",
     "timestamp": 1595207747831,
     "user": {
      "displayName": "sa lee",
      "photoUrl": "https://lh3.googleusercontent.com/a-/AOh14GhvMzl7e5o13kzwjOkdZE9EdiHFu-6dYLdWQWKjuA=s64",
      "userId": "03651723065083041662"
     },
     "user_tz": -540
    },
    "id": "mxnFlKI_qwI-",
    "outputId": "7f967aa7-6751-4e4f-8fc2-d87820e1c29b"
   },
   "outputs": [
    {
     "name": "stdout",
     "output_type": "stream",
     "text": [
      "2020\n",
      "4\n"
     ]
    }
   ],
   "source": [
    "a,b = 2020,4\n",
    "print(a)\n",
    "print(b)"
   ]
  },
  {
   "cell_type": "code",
   "execution_count": null,
   "metadata": {
    "colab": {},
    "colab_type": "code",
    "id": "8vIWn7mcqwJH"
   },
   "outputs": [],
   "source": [
    "# 변수의 개수가 더 많을 때 오류를 알아봅시다."
   ]
  },
  {
   "cell_type": "code",
   "execution_count": null,
   "metadata": {
    "colab": {
     "base_uri": "https://localhost:8080/",
     "height": 168
    },
    "colab_type": "code",
    "executionInfo": {
     "elapsed": 960,
     "status": "error",
     "timestamp": 1595207828816,
     "user": {
      "displayName": "sa lee",
      "photoUrl": "https://lh3.googleusercontent.com/a-/AOh14GhvMzl7e5o13kzwjOkdZE9EdiHFu-6dYLdWQWKjuA=s64",
      "userId": "03651723065083041662"
     },
     "user_tz": -540
    },
    "id": "HFJzmFO-qwJU",
    "outputId": "31d636d5-6daa-43c2-8e63-d54bd86e3202"
   },
   "outputs": [
    {
     "ename": "ValueError",
     "evalue": "ignored",
     "output_type": "error",
     "traceback": [
      "\u001b[0;31m---------------------------------------------------------------------------\u001b[0m",
      "\u001b[0;31mValueError\u001b[0m                                Traceback (most recent call last)",
      "\u001b[0;32m<ipython-input-15-71e1bacbcfe5>\u001b[0m in \u001b[0;36m<module>\u001b[0;34m()\u001b[0m\n\u001b[0;32m----> 1\u001b[0;31m \u001b[0ma\u001b[0m\u001b[0;34m,\u001b[0m \u001b[0mb\u001b[0m\u001b[0;34m,\u001b[0m \u001b[0mc\u001b[0m \u001b[0;34m=\u001b[0m \u001b[0;36m10\u001b[0m\u001b[0;34m,\u001b[0m\u001b[0;36m30\u001b[0m\u001b[0;34m\u001b[0m\u001b[0;34m\u001b[0m\u001b[0m\n\u001b[0m",
      "\u001b[0;31mValueError\u001b[0m: not enough values to unpack (expected 3, got 2)"
     ]
    }
   ],
   "source": [
    "a, b, c = 10,30"
   ]
  },
  {
   "cell_type": "code",
   "execution_count": null,
   "metadata": {
    "colab": {},
    "colab_type": "code",
    "id": "zdmzuBLPqwJn"
   },
   "outputs": [],
   "source": [
    "# 변수의 개수가 더 적을 때 오류를 알아봅시다."
   ]
  },
  {
   "cell_type": "code",
   "execution_count": null,
   "metadata": {
    "colab": {
     "base_uri": "https://localhost:8080/",
     "height": 168
    },
    "colab_type": "code",
    "executionInfo": {
     "elapsed": 1447,
     "status": "error",
     "timestamp": 1595207850135,
     "user": {
      "displayName": "sa lee",
      "photoUrl": "https://lh3.googleusercontent.com/a-/AOh14GhvMzl7e5o13kzwjOkdZE9EdiHFu-6dYLdWQWKjuA=s64",
      "userId": "03651723065083041662"
     },
     "user_tz": -540
    },
    "id": "eQk-MY-RqwJ3",
    "outputId": "55c5bf00-7ebc-424c-b633-9d2812c5957a"
   },
   "outputs": [
    {
     "ename": "ValueError",
     "evalue": "ignored",
     "output_type": "error",
     "traceback": [
      "\u001b[0;31m---------------------------------------------------------------------------\u001b[0m",
      "\u001b[0;31mValueError\u001b[0m                                Traceback (most recent call last)",
      "\u001b[0;32m<ipython-input-16-633410e8fc21>\u001b[0m in \u001b[0;36m<module>\u001b[0;34m()\u001b[0m\n\u001b[0;32m----> 1\u001b[0;31m \u001b[0ma\u001b[0m\u001b[0;34m,\u001b[0m \u001b[0mb\u001b[0m \u001b[0;34m=\u001b[0m \u001b[0;36m10\u001b[0m\u001b[0;34m,\u001b[0m\u001b[0;36m20\u001b[0m\u001b[0;34m,\u001b[0m\u001b[0;36m30\u001b[0m\u001b[0;34m\u001b[0m\u001b[0;34m\u001b[0m\u001b[0m\n\u001b[0m",
      "\u001b[0;31mValueError\u001b[0m: too many values to unpack (expected 2)"
     ]
    }
   ],
   "source": [
    "a, b = 10,20,30"
   ]
  },
  {
   "cell_type": "markdown",
   "metadata": {
    "colab_type": "text",
    "id": "0I1RkPf_qwJ8"
   },
   "source": [
    "* 이를 활용하면 서로 값을 바꾸고 싶은 경우 아래와 같이 활용 가능하다."
   ]
  },
  {
   "cell_type": "code",
   "execution_count": null,
   "metadata": {
    "colab": {},
    "colab_type": "code",
    "id": "o4F-LePpqwJ8"
   },
   "outputs": [],
   "source": [
    "# 변수 x와 y의 값을 바꿔봅시다."
   ]
  },
  {
   "cell_type": "code",
   "execution_count": null,
   "metadata": {
    "colab": {
     "base_uri": "https://localhost:8080/",
     "height": 52
    },
    "colab_type": "code",
    "executionInfo": {
     "elapsed": 984,
     "status": "ok",
     "timestamp": 1595207880157,
     "user": {
      "displayName": "sa lee",
      "photoUrl": "https://lh3.googleusercontent.com/a-/AOh14GhvMzl7e5o13kzwjOkdZE9EdiHFu-6dYLdWQWKjuA=s64",
      "userId": "03651723065083041662"
     },
     "user_tz": -540
    },
    "id": "Y7iwDi-pqwKD",
    "outputId": "53022932-2f7d-4417-bac5-d87ec74bd84e"
   },
   "outputs": [
    {
     "name": "stdout",
     "output_type": "stream",
     "text": [
      "10\n",
      "20\n"
     ]
    }
   ],
   "source": [
    "a, b = 10, 20\n",
    "print(a)\n",
    "print(b)"
   ]
  },
  {
   "cell_type": "code",
   "execution_count": null,
   "metadata": {
    "colab": {
     "base_uri": "https://localhost:8080/",
     "height": 52
    },
    "colab_type": "code",
    "executionInfo": {
     "elapsed": 991,
     "status": "ok",
     "timestamp": 1595208033914,
     "user": {
      "displayName": "sa lee",
      "photoUrl": "https://lh3.googleusercontent.com/a-/AOh14GhvMzl7e5o13kzwjOkdZE9EdiHFu-6dYLdWQWKjuA=s64",
      "userId": "03651723065083041662"
     },
     "user_tz": -540
    },
    "id": "uiGBYQV9zqVU",
    "outputId": "e48ad65a-c6bd-40ba-a168-352f3bc84b32"
   },
   "outputs": [
    {
     "name": "stdout",
     "output_type": "stream",
     "text": [
      "20\n",
      "10\n"
     ]
    }
   ],
   "source": [
    "a, b = b ,a\n",
    "print(a)\n",
    "print(b)"
   ]
  },
  {
   "cell_type": "markdown",
   "metadata": {
    "colab_type": "text",
    "id": "fQf6g5AoqwKJ"
   },
   "source": [
    "### 식별자(Identifiers)\n",
    "\n",
    "파이썬에서 식별자는 변수, 함수, 모듈, 클래스 등을 식별하는데 사용되는 이름(name)입니다. \n",
    "\n",
    "* 식별자의 이름은 영문알파벳(대문자와 소문자), 밑줄(_), 숫자로 구성된다.\n",
    "* 첫 글자에 숫자가 올 수 없다.\n",
    "* 길이에 제한이 없다.\n",
    "* 대소문자(case)를 구별한다.\n",
    "* 아래의 예약어는 사용할 수 없다. \n",
    "\n",
    "```\n",
    "False, None, True, and, as, assert, break, class, continue, def, del, elif, else, except, finally, for, from, global, if, import, in, is, lambda, nonlocal, not, or, pass, raise, return, try, while, with, yield\n",
    "```"
   ]
  },
  {
   "cell_type": "code",
   "execution_count": null,
   "metadata": {
    "colab": {
     "base_uri": "https://localhost:8080/",
     "height": 54
    },
    "colab_type": "code",
    "executionInfo": {
     "elapsed": 942,
     "status": "ok",
     "timestamp": 1595208273525,
     "user": {
      "displayName": "sa lee",
      "photoUrl": "https://lh3.googleusercontent.com/a-/AOh14GhvMzl7e5o13kzwjOkdZE9EdiHFu-6dYLdWQWKjuA=s64",
      "userId": "03651723065083041662"
     },
     "user_tz": -540
    },
    "id": "XdC3agJTqwKL",
    "outputId": "56d2c016-b4f0-4728-8e91-077b1174eb91"
   },
   "outputs": [
    {
     "name": "stdout",
     "output_type": "stream",
     "text": [
      "['False', 'None', 'True', 'and', 'as', 'assert', 'break', 'class', 'continue', 'def', 'del', 'elif', 'else', 'except', 'finally', 'for', 'from', 'global', 'if', 'import', 'in', 'is', 'lambda', 'nonlocal', 'not', 'or', 'pass', 'raise', 'return', 'try', 'while', 'with', 'yield']\n"
     ]
    }
   ],
   "source": [
    "# 예약어들을 직접 확인해봅시다.\n",
    "import keyword\n",
    "print(keyword.kwlist)"
   ]
  },
  {
   "cell_type": "code",
   "execution_count": null,
   "metadata": {
    "colab": {},
    "colab_type": "code",
    "id": "uS2rBvivqwKQ"
   },
   "outputs": [],
   "source": [
    "# import 구문은 모듈파트에서 다시 알아봅시다.\n"
   ]
  },
  {
   "cell_type": "markdown",
   "metadata": {
    "colab_type": "text",
    "id": "0xYWNOyXqwKY"
   },
   "source": [
    "*  내장함수나 모듈 등의 이름으로도 만들면 안된다."
   ]
  },
  {
   "cell_type": "code",
   "execution_count": null,
   "metadata": {
    "colab": {},
    "colab_type": "code",
    "id": "SLmVn3JDqwKZ"
   },
   "outputs": [],
   "source": [
    "# 내장함수의 이름을 사용하면 어떤일이 일어나는지 확인해봅시다."
   ]
  },
  {
   "cell_type": "code",
   "execution_count": null,
   "metadata": {
    "colab": {},
    "colab_type": "code",
    "id": "AuKwEAfyqwKc"
   },
   "outputs": [],
   "source": [
    "# print는 값을 출력해주는 내장함수(Built-in function)입니다.\n"
   ]
  },
  {
   "cell_type": "code",
   "execution_count": null,
   "metadata": {
    "colab": {
     "base_uri": "https://localhost:8080/",
     "height": 203
    },
    "colab_type": "code",
    "executionInfo": {
     "elapsed": 992,
     "status": "error",
     "timestamp": 1595208563381,
     "user": {
      "displayName": "sa lee",
      "photoUrl": "https://lh3.googleusercontent.com/a-/AOh14GhvMzl7e5o13kzwjOkdZE9EdiHFu-6dYLdWQWKjuA=s64",
      "userId": "03651723065083041662"
     },
     "user_tz": -540
    },
    "id": "m0Q1ChblqwKh",
    "outputId": "ba335a31-f344-4830-ad1b-0c74ddd874d9"
   },
   "outputs": [
    {
     "ename": "TypeError",
     "evalue": "ignored",
     "output_type": "error",
     "traceback": [
      "\u001b[0;31m---------------------------------------------------------------------------\u001b[0m",
      "\u001b[0;31mTypeError\u001b[0m                                 Traceback (most recent call last)",
      "\u001b[0;32m<ipython-input-20-f34200bd24fe>\u001b[0m in \u001b[0;36m<module>\u001b[0;34m()\u001b[0m\n\u001b[1;32m      2\u001b[0m \u001b[0;31m# print은 이제 'hi'라는 값으로 인식되기 때문에 이전의 기능을 수행하지 못합니다.\u001b[0m\u001b[0;34m\u001b[0m\u001b[0;34m\u001b[0m\u001b[0;34m\u001b[0m\u001b[0m\n\u001b[1;32m      3\u001b[0m \u001b[0mprint\u001b[0m \u001b[0;34m=\u001b[0m \u001b[0;34m'hello'\u001b[0m\u001b[0;34m\u001b[0m\u001b[0;34m\u001b[0m\u001b[0m\n\u001b[0;32m----> 4\u001b[0;31m \u001b[0mprint\u001b[0m\u001b[0;34m(\u001b[0m\u001b[0mprint\u001b[0m\u001b[0;34m)\u001b[0m\u001b[0;34m\u001b[0m\u001b[0;34m\u001b[0m\u001b[0m\n\u001b[0m",
      "\u001b[0;31mTypeError\u001b[0m: 'str' object is not callable"
     ]
    }
   ],
   "source": [
    "# 예시로 print에 값을 할당해보고, 오류를 확인해봅시다.\n",
    "# print은 이제 'hi'라는 값으로 인식되기 때문에 이전의 기능을 수행하지 못합니다.\n",
    "print = 'hello'\n",
    "print(print)"
   ]
  },
  {
   "cell_type": "code",
   "execution_count": null,
   "metadata": {
    "colab": {
     "base_uri": "https://localhost:8080/",
     "height": 34
    },
    "colab_type": "code",
    "executionInfo": {
     "elapsed": 945,
     "status": "ok",
     "timestamp": 1595208580728,
     "user": {
      "displayName": "sa lee",
      "photoUrl": "https://lh3.googleusercontent.com/a-/AOh14GhvMzl7e5o13kzwjOkdZE9EdiHFu-6dYLdWQWKjuA=s64",
      "userId": "03651723065083041662"
     },
     "user_tz": -540
    },
    "id": "pjSTw6vaqwKw",
    "outputId": "b2d341a1-8698-48e7-e194-987f2675933a"
   },
   "outputs": [
    {
     "name": "stdout",
     "output_type": "stream",
     "text": [
      "hello\n"
     ]
    }
   ],
   "source": [
    "# 뒤에서 진행될 코드에 영향이 갈 수 있기 때문에 방금 생성한 print를 삭제합니다.\n",
    "del print\n",
    "print('hello')"
   ]
  },
  {
   "cell_type": "markdown",
   "metadata": {
    "colab_type": "text",
    "id": "AJ51HorLqwK3"
   },
   "source": [
    "# 데이터 타입(Data Type)\n",
    "\n",
    "- **숫자**(Number) 타입\n",
    "- **글자**(String) 타입\n",
    "- **참/거짓**(Boolean) 타입\n"
   ]
  },
  {
   "cell_type": "markdown",
   "metadata": {
    "colab_type": "text",
    "id": "X9OSLGRGqwK5"
   },
   "source": [
    "## 숫자(Number) 타입\n",
    "[python doc 숫자 형](https://docs.python.org/ko/3.7/library/stdtypes.html#numeric-types-int-float-complex)\n",
    "\n"
   ]
  },
  {
   "cell_type": "markdown",
   "metadata": {
    "colab_type": "text",
    "id": "AeJJJdGqqwK6"
   },
   "source": [
    "###  (1) `int` (정수, ingteger)\n",
    "\n",
    "모든 정수는 `int`로 표현됩니다.\n",
    "\n",
    "파이썬 3.x 버전에서는 `long` 타입은 없고 모두 `int` 타입으로 표기 됩니다.\n",
    "\n",
    "* python 3.x에서 long은 없어졌다.\n",
    "* 보통 프로그래밍 언어 및 파이썬 2.x에서의 long은 OS 기준 32/64비트이다.\n",
    "* 파이썬 3.x에서는 모두 int로 통합되었다.\n",
    "\n",
    "8진수 : `0o` / 2진수 : `0b` / 16진수: `0x` 로도 표현 가능합니다. "
   ]
  },
  {
   "cell_type": "code",
   "execution_count": null,
   "metadata": {
    "colab": {},
    "colab_type": "code",
    "id": "6ISCJQWxqwK7"
   },
   "outputs": [],
   "source": [
    "# 변수에 정수를 넣고 해당 변수의 type을 알아봅시다."
   ]
  },
  {
   "cell_type": "code",
   "execution_count": null,
   "metadata": {
    "colab": {
     "base_uri": "https://localhost:8080/",
     "height": 34
    },
    "colab_type": "code",
    "executionInfo": {
     "elapsed": 941,
     "status": "ok",
     "timestamp": 1595208691865,
     "user": {
      "displayName": "sa lee",
      "photoUrl": "https://lh3.googleusercontent.com/a-/AOh14GhvMzl7e5o13kzwjOkdZE9EdiHFu-6dYLdWQWKjuA=s64",
      "userId": "03651723065083041662"
     },
     "user_tz": -540
    },
    "id": "AGlm1A8zqwK-",
    "outputId": "61f5e413-9439-4f95-d1ba-14f4085866e5"
   },
   "outputs": [
    {
     "data": {
      "text/plain": [
       "int"
      ]
     },
     "execution_count": 23,
     "metadata": {
      "tags": []
     },
     "output_type": "execute_result"
    }
   ],
   "source": [
    "a = 4 **2\n",
    "type(a)"
   ]
  },
  {
   "cell_type": "markdown",
   "metadata": {
    "colab_type": "text",
    "id": "7xXbokvIqwLD"
   },
   "source": [
    "**파이썬에서 표현할 수 있는 가장 큰 수**\n",
    "* 파이썬에서 가장 큰 숫자를 활용하기 위해 sys 모듈을 불러온다.\n",
    "* 파이썬은 기존 C 계열 프로그래밍 언어와 다르게 정수 자료형(integer)에서 오버플로우가 없다.\n",
    "* arbitrary-precision arithmetic를 사용하기 때문이다. \n",
    "\n",
    "> **오버플로우(overflow)**\n",
    "- 데이터 타입 별로 사용할 수 있는 메모리의 크기가 제한되어 있다.\n",
    "- 표현할 수 있는 수의 범위를 넘어가는 연산을 하게 되면, 기대했던 값이 출력되지 않는 현상, 즉 메모리가 차고 넘쳐 흐르는 현상\n",
    "\n",
    "> **arbitrary-precision arithmetic**\n",
    "- [파이썬에서 아주 큰 정수를 표현할 때 사용하는 메모리의 크기 변화](https://mortada.net/can-integer-operations-overflow-in-python.html)\n",
    "- 사용할 수 있는 메모리양이 정해져 있는 기존의 방식과 달리, 현재 남아있는 만큼의 가용 메모리를 모두 수 표현에 끌어다 쓸 수 있는 형태\n",
    "- 특정 값을 나타내는데 4바이트가 부족하다면 5바이트, 더 부족하면 6바이트까지 사용할 수 있게 유동적으로 운용\n"
   ]
  },
  {
   "cell_type": "code",
   "execution_count": null,
   "metadata": {
    "colab": {},
    "colab_type": "code",
    "id": "WQuMsFp7qwLF"
   },
   "outputs": [],
   "source": [
    "# n진수를 만들어보고, 출력해봅시다."
   ]
  },
  {
   "cell_type": "code",
   "execution_count": null,
   "metadata": {
    "colab": {
     "base_uri": "https://localhost:8080/",
     "height": 69
    },
    "colab_type": "code",
    "executionInfo": {
     "elapsed": 1129,
     "status": "ok",
     "timestamp": 1595209028234,
     "user": {
      "displayName": "sa lee",
      "photoUrl": "https://lh3.googleusercontent.com/a-/AOh14GhvMzl7e5o13kzwjOkdZE9EdiHFu-6dYLdWQWKjuA=s64",
      "userId": "03651723065083041662"
     },
     "user_tz": -540
    },
    "id": "6pn4dKGU243b",
    "outputId": "418e58f4-4ee1-4347-aecc-be56c1a25f19"
   },
   "outputs": [
    {
     "name": "stdout",
     "output_type": "stream",
     "text": [
      "2\n",
      "8\n",
      "16\n"
     ]
    }
   ],
   "source": [
    "binary_number = 0b10\n",
    "print(binary_number)\n",
    "\n",
    "octal_number = 0o10\n",
    "print(octal_number)\n",
    "\n",
    "hexadecimal_number = 0x10\n",
    "print(hexadecimal_number)"
   ]
  },
  {
   "cell_type": "code",
   "execution_count": null,
   "metadata": {
    "colab": {
     "base_uri": "https://localhost:8080/",
     "height": 34
    },
    "colab_type": "code",
    "executionInfo": {
     "elapsed": 888,
     "status": "ok",
     "timestamp": 1595208789849,
     "user": {
      "displayName": "sa lee",
      "photoUrl": "https://lh3.googleusercontent.com/a-/AOh14GhvMzl7e5o13kzwjOkdZE9EdiHFu-6dYLdWQWKjuA=s64",
      "userId": "03651723065083041662"
     },
     "user_tz": -540
    },
    "id": "plkBA1O4qwLP",
    "outputId": "f32d711e-1fe0-4c72-8c15-52ce600038ea"
   },
   "outputs": [
    {
     "name": "stdout",
     "output_type": "stream",
     "text": [
      "9223372036854775807\n"
     ]
    }
   ],
   "source": [
    "import sys\n",
    "print(sys.maxsize)"
   ]
  },
  {
   "cell_type": "markdown",
   "metadata": {
    "colab_type": "text",
    "id": "UduBtBBLqwLU"
   },
   "source": [
    "### (2) `float` (부동소수점, 실수, floating point number)\n",
    "\n",
    "실수는 `float`로 표현됩니다. \n",
    "\n",
    "다만, 실수를 컴퓨터가 표현하는 과정에서 부동소수점을 사용하며, 항상 같은 값으로 일치되지 않습니다. (floating point rounding error)\n",
    "\n",
    "이는 컴퓨터가 2진수(비트)를 통해 숫자를 표현하는 과정에서 생기는 오류이며, 대부분의 경우는 중요하지 않으나 값을 같은지 비교하는 과정에서 문제가 발생할 수 있습니다."
   ]
  },
  {
   "cell_type": "code",
   "execution_count": null,
   "metadata": {
    "colab": {},
    "colab_type": "code",
    "id": "5nRGDKehqwLU"
   },
   "outputs": [],
   "source": [
    "# 변수에 실수를 넣고 해당 변수의 type을 알아봅시다."
   ]
  },
  {
   "cell_type": "code",
   "execution_count": null,
   "metadata": {
    "colab": {
     "base_uri": "https://localhost:8080/",
     "height": 34
    },
    "colab_type": "code",
    "executionInfo": {
     "elapsed": 830,
     "status": "ok",
     "timestamp": 1595209177925,
     "user": {
      "displayName": "sa lee",
      "photoUrl": "https://lh3.googleusercontent.com/a-/AOh14GhvMzl7e5o13kzwjOkdZE9EdiHFu-6dYLdWQWKjuA=s64",
      "userId": "03651723065083041662"
     },
     "user_tz": -540
    },
    "id": "L7hM7EkqqwLZ",
    "outputId": "dbcd629b-b0e3-40d2-cdc6-c11cb13ea43b"
   },
   "outputs": [
    {
     "data": {
      "text/plain": [
       "float"
      ]
     },
     "execution_count": 28,
     "metadata": {
      "tags": []
     },
     "output_type": "execute_result"
    }
   ],
   "source": [
    "b = 31.4\n",
    "type(b)"
   ]
  },
  {
   "cell_type": "markdown",
   "metadata": {
    "colab_type": "text",
    "id": "ran_HKEPqwLe"
   },
   "source": [
    "#### 컴퓨터식 지수 표현 방식\n",
    "* e를 사용할 수도 있다. (e와 E 둘 중 어느 것을 사용해도 무방)"
   ]
  },
  {
   "cell_type": "code",
   "execution_count": null,
   "metadata": {
    "colab": {},
    "colab_type": "code",
    "id": "2X9R3kCKqwLf"
   },
   "outputs": [],
   "source": [
    "# 컴퓨터식 지수 표현 방식을 사용해봅시다."
   ]
  },
  {
   "cell_type": "code",
   "execution_count": null,
   "metadata": {
    "colab": {
     "base_uri": "https://localhost:8080/",
     "height": 34
    },
    "colab_type": "code",
    "executionInfo": {
     "elapsed": 979,
     "status": "ok",
     "timestamp": 1595209194166,
     "user": {
      "displayName": "sa lee",
      "photoUrl": "https://lh3.googleusercontent.com/a-/AOh14GhvMzl7e5o13kzwjOkdZE9EdiHFu-6dYLdWQWKjuA=s64",
      "userId": "03651723065083041662"
     },
     "user_tz": -540
    },
    "id": "2EXWIpGsqwLj",
    "outputId": "eb886e5d-44bf-46fa-a664-82a5a90e8f88"
   },
   "outputs": [
    {
     "name": "stdout",
     "output_type": "stream",
     "text": [
      "3.14\n"
     ]
    }
   ],
   "source": [
    "b = 314e-2\n",
    "print(b)"
   ]
  },
  {
   "cell_type": "markdown",
   "metadata": {
    "colab_type": "text",
    "id": "vRGzv9SQqwLt"
   },
   "source": [
    "#### 실수의 연산\n",
    "* 실수의 경우 실제로 값을 처리하기 위해서는 조심할 필요가 있다."
   ]
  },
  {
   "cell_type": "code",
   "execution_count": null,
   "metadata": {
    "colab": {},
    "colab_type": "code",
    "id": "yb24E-dbqwLx"
   },
   "outputs": [],
   "source": [
    "# 실수의 덧셈을 해봅시다."
   ]
  },
  {
   "cell_type": "code",
   "execution_count": null,
   "metadata": {
    "colab": {
     "base_uri": "https://localhost:8080/",
     "height": 34
    },
    "colab_type": "code",
    "executionInfo": {
     "elapsed": 914,
     "status": "ok",
     "timestamp": 1595209279467,
     "user": {
      "displayName": "sa lee",
      "photoUrl": "https://lh3.googleusercontent.com/a-/AOh14GhvMzl7e5o13kzwjOkdZE9EdiHFu-6dYLdWQWKjuA=s64",
      "userId": "03651723065083041662"
     },
     "user_tz": -540
    },
    "id": "IMCcIatGqwL1",
    "outputId": "4c73c8e0-3e7c-4dc7-ad30-b0875713dd4b"
   },
   "outputs": [
    {
     "data": {
      "text/plain": [
       "6.7"
      ]
     },
     "execution_count": 30,
     "metadata": {
      "tags": []
     },
     "output_type": "execute_result"
    }
   ],
   "source": [
    "3.5 + 3.2"
   ]
  },
  {
   "cell_type": "code",
   "execution_count": null,
   "metadata": {
    "colab": {},
    "colab_type": "code",
    "id": "7LknqaRtqwL-"
   },
   "outputs": [],
   "source": [
    "# 실수의 뺄셈을 해봅시다."
   ]
  },
  {
   "cell_type": "code",
   "execution_count": null,
   "metadata": {
    "colab": {
     "base_uri": "https://localhost:8080/",
     "height": 34
    },
    "colab_type": "code",
    "executionInfo": {
     "elapsed": 1235,
     "status": "ok",
     "timestamp": 1595209300363,
     "user": {
      "displayName": "sa lee",
      "photoUrl": "https://lh3.googleusercontent.com/a-/AOh14GhvMzl7e5o13kzwjOkdZE9EdiHFu-6dYLdWQWKjuA=s64",
      "userId": "03651723065083041662"
     },
     "user_tz": -540
    },
    "id": "aa6mTP5XqwME",
    "outputId": "0c54bb33-b63f-4d1e-cca0-b1f0a95d36ee"
   },
   "outputs": [
    {
     "data": {
      "text/plain": [
       "False"
      ]
     },
     "execution_count": 31,
     "metadata": {
      "tags": []
     },
     "output_type": "execute_result"
    }
   ],
   "source": [
    "3.5 - 3.2 == 0.3"
   ]
  },
  {
   "cell_type": "code",
   "execution_count": null,
   "metadata": {
    "colab": {},
    "colab_type": "code",
    "id": "mmPSB8y-qwMM"
   },
   "outputs": [],
   "source": [
    "# 우리가 원하는대로 반올림을 해봅시다.\n",
    "# round() 는 0~4는 내림, 5는 동일하게 작동하지 않고 반올림 방식에 따라 다릅니다.\n",
    "# 짝수에서 5는 내림 / 홀수에서 5는 올림"
   ]
  },
  {
   "cell_type": "code",
   "execution_count": null,
   "metadata": {
    "colab": {
     "base_uri": "https://localhost:8080/",
     "height": 34
    },
    "colab_type": "code",
    "executionInfo": {
     "elapsed": 1423,
     "status": "ok",
     "timestamp": 1595209470501,
     "user": {
      "displayName": "sa lee",
      "photoUrl": "https://lh3.googleusercontent.com/a-/AOh14GhvMzl7e5o13kzwjOkdZE9EdiHFu-6dYLdWQWKjuA=s64",
      "userId": "03651723065083041662"
     },
     "user_tz": -540
    },
    "id": "DUloEifTqwMe",
    "outputId": "88f5d0c5-1e1e-4750-af10-2225cdb6a550"
   },
   "outputs": [
    {
     "data": {
      "text/plain": [
       "True"
      ]
     },
     "execution_count": 34,
     "metadata": {
      "tags": []
     },
     "output_type": "execute_result"
    }
   ],
   "source": [
    "round(3.5 - 3.2 , 2) == 0.3"
   ]
  },
  {
   "cell_type": "code",
   "execution_count": null,
   "metadata": {
    "colab": {},
    "colab_type": "code",
    "id": "SC9fIMinqwMj"
   },
   "outputs": [],
   "source": [
    "# 두 개의 값이 같은지 확인해봅시다."
   ]
  },
  {
   "cell_type": "code",
   "execution_count": null,
   "metadata": {
    "colab": {
     "base_uri": "https://localhost:8080/",
     "height": 52
    },
    "colab_type": "code",
    "executionInfo": {
     "elapsed": 946,
     "status": "ok",
     "timestamp": 1595209526795,
     "user": {
      "displayName": "sa lee",
      "photoUrl": "https://lh3.googleusercontent.com/a-/AOh14GhvMzl7e5o13kzwjOkdZE9EdiHFu-6dYLdWQWKjuA=s64",
      "userId": "03651723065083041662"
     },
     "user_tz": -540
    },
    "id": "ZvFhXAZ_qwMv",
    "outputId": "895cf30f-e1a2-4243-ebe5-129afe6a093d"
   },
   "outputs": [
    {
     "name": "stdout",
     "output_type": "stream",
     "text": [
      "0.2999999999999998\n",
      "0\n"
     ]
    }
   ],
   "source": [
    "print(3.5 - 3.2) \n",
    "print(round(3.5 - 3.2))"
   ]
  },
  {
   "cell_type": "markdown",
   "metadata": {
    "colab_type": "text",
    "id": "YF2xqr3HqwM4"
   },
   "source": [
    "* 따라서 다음과 같은 방법으로 처리 할 수 있다. (이외에 다양한 방법이 있음)"
   ]
  },
  {
   "cell_type": "code",
   "execution_count": null,
   "metadata": {
    "colab": {},
    "colab_type": "code",
    "id": "s9jd60_RqwM5"
   },
   "outputs": [],
   "source": [
    "# 1. 기본적인 처리방법을 알아봅시다."
   ]
  },
  {
   "cell_type": "code",
   "execution_count": null,
   "metadata": {
    "colab": {
     "base_uri": "https://localhost:8080/",
     "height": 34
    },
    "colab_type": "code",
    "executionInfo": {
     "elapsed": 1028,
     "status": "ok",
     "timestamp": 1595209581353,
     "user": {
      "displayName": "sa lee",
      "photoUrl": "https://lh3.googleusercontent.com/a-/AOh14GhvMzl7e5o13kzwjOkdZE9EdiHFu-6dYLdWQWKjuA=s64",
      "userId": "03651723065083041662"
     },
     "user_tz": -540
    },
    "id": "cp--zA7XqwM-",
    "outputId": "f75731a4-f906-4d64-d42a-be318fdb9c2b"
   },
   "outputs": [
    {
     "data": {
      "text/plain": [
       "False"
      ]
     },
     "execution_count": 36,
     "metadata": {
      "tags": []
     },
     "output_type": "execute_result"
    }
   ],
   "source": [
    "a = 3.5 - 3.2\n",
    "b = 0.3\n",
    "\n",
    "a == b"
   ]
  },
  {
   "cell_type": "code",
   "execution_count": null,
   "metadata": {
    "colab": {},
    "colab_type": "code",
    "id": "dgMgqMhnqwND"
   },
   "outputs": [],
   "source": [
    "# 2. sys 모듈을 통해 처리하는 방법을 알아봅시다.\n",
    "# `epsilon` 은 부동소수점 연산에서 반올림을 함으로써 발생하는 오차 상환"
   ]
  },
  {
   "cell_type": "code",
   "execution_count": null,
   "metadata": {
    "colab": {
     "base_uri": "https://localhost:8080/",
     "height": 52
    },
    "colab_type": "code",
    "executionInfo": {
     "elapsed": 926,
     "status": "ok",
     "timestamp": 1595209745911,
     "user": {
      "displayName": "sa lee",
      "photoUrl": "https://lh3.googleusercontent.com/a-/AOh14GhvMzl7e5o13kzwjOkdZE9EdiHFu-6dYLdWQWKjuA=s64",
      "userId": "03651723065083041662"
     },
     "user_tz": -540
    },
    "id": "msyh-2x5qwNH",
    "outputId": "535ea270-401f-4cde-ffeb-40f626219b01"
   },
   "outputs": [
    {
     "name": "stdout",
     "output_type": "stream",
     "text": [
      "2.220446049250313e-16\n"
     ]
    },
    {
     "data": {
      "text/plain": [
       "True"
      ]
     },
     "execution_count": 39,
     "metadata": {
      "tags": []
     },
     "output_type": "execute_result"
    }
   ],
   "source": [
    "import sys\n",
    "print(sys.float_info.epsilon)\n",
    "\n",
    "abs(a - b) <= sys.float_info.epsilon"
   ]
  },
  {
   "cell_type": "code",
   "execution_count": null,
   "metadata": {
    "colab": {},
    "colab_type": "code",
    "id": "FeRqehjbqwNK"
   },
   "outputs": [],
   "source": [
    "# 3. python 3.5부터 활용 가능한 math 모듈을 통해 처리하는 법을 알아봅시다."
   ]
  },
  {
   "cell_type": "code",
   "execution_count": null,
   "metadata": {
    "colab": {
     "base_uri": "https://localhost:8080/",
     "height": 34
    },
    "colab_type": "code",
    "executionInfo": {
     "elapsed": 922,
     "status": "ok",
     "timestamp": 1595209801671,
     "user": {
      "displayName": "sa lee",
      "photoUrl": "https://lh3.googleusercontent.com/a-/AOh14GhvMzl7e5o13kzwjOkdZE9EdiHFu-6dYLdWQWKjuA=s64",
      "userId": "03651723065083041662"
     },
     "user_tz": -540
    },
    "id": "y4GDvIiqqwNR",
    "outputId": "d4cc3837-5fdc-4e04-971e-13cbd3129562"
   },
   "outputs": [
    {
     "data": {
      "text/plain": [
       "True"
      ]
     },
     "execution_count": 40,
     "metadata": {
      "tags": []
     },
     "output_type": "execute_result"
    }
   ],
   "source": [
    "import math\n",
    "math.isclose(a,b)"
   ]
  },
  {
   "cell_type": "markdown",
   "metadata": {
    "colab_type": "text",
    "id": "fvfamJICqwNX"
   },
   "source": [
    "### (3) `complex` (복소수, complex number)\n",
    "\n",
    "각각 실수로 표현되는 실수부와 허수부를 가집니다.\n",
    "\n",
    "복소수는 허수부를 `j`로 표현합니다."
   ]
  },
  {
   "cell_type": "code",
   "execution_count": null,
   "metadata": {
    "colab": {},
    "colab_type": "code",
    "id": "lMz9c5cWqwNX"
   },
   "outputs": [],
   "source": [
    "# 변수에 복소수를 넣고 해당 변수의 type을 알아봅시다."
   ]
  },
  {
   "cell_type": "code",
   "execution_count": null,
   "metadata": {
    "colab": {
     "base_uri": "https://localhost:8080/",
     "height": 34
    },
    "colab_type": "code",
    "executionInfo": {
     "elapsed": 1350,
     "status": "ok",
     "timestamp": 1595209905700,
     "user": {
      "displayName": "sa lee",
      "photoUrl": "https://lh3.googleusercontent.com/a-/AOh14GhvMzl7e5o13kzwjOkdZE9EdiHFu-6dYLdWQWKjuA=s64",
      "userId": "03651723065083041662"
     },
     "user_tz": -540
    },
    "id": "FgKFe7iFqwNa",
    "outputId": "7450d30e-a60d-4d9e-9b2c-e05ceedf2a1a"
   },
   "outputs": [
    {
     "data": {
      "text/plain": [
       "complex"
      ]
     },
     "execution_count": 41,
     "metadata": {
      "tags": []
     },
     "output_type": "execute_result"
    }
   ],
   "source": [
    "a = 3 + 4j\n",
    "type(a)"
   ]
  },
  {
   "cell_type": "code",
   "execution_count": null,
   "metadata": {
    "colab": {},
    "colab_type": "code",
    "id": "jWs3NxorqwNe"
   },
   "outputs": [],
   "source": [
    "# 문자열을 복소수로 변환해봅시다."
   ]
  },
  {
   "cell_type": "code",
   "execution_count": null,
   "metadata": {
    "colab": {
     "base_uri": "https://localhost:8080/",
     "height": 34
    },
    "colab_type": "code",
    "executionInfo": {
     "elapsed": 912,
     "status": "ok",
     "timestamp": 1595209999865,
     "user": {
      "displayName": "sa lee",
      "photoUrl": "https://lh3.googleusercontent.com/a-/AOh14GhvMzl7e5o13kzwjOkdZE9EdiHFu-6dYLdWQWKjuA=s64",
      "userId": "03651723065083041662"
     },
     "user_tz": -540
    },
    "id": "iG8BUBt8qwNi",
    "outputId": "0fa913b6-940c-471d-91ed-e176e2321678"
   },
   "outputs": [
    {
     "data": {
      "text/plain": [
       "complex"
      ]
     },
     "execution_count": 42,
     "metadata": {
      "tags": []
     },
     "output_type": "execute_result"
    }
   ],
   "source": [
    "b = complex('3+4j')\n",
    "type(b)"
   ]
  },
  {
   "cell_type": "code",
   "execution_count": null,
   "metadata": {
    "colab": {},
    "colab_type": "code",
    "id": "W4MLZTfGqwNo"
   },
   "outputs": [],
   "source": [
    "# 문자열을 변환할 때, 문자열은 중앙의 + 또는 - 연산자 주위에 공백을 포함해서는 안 됩니다."
   ]
  },
  {
   "cell_type": "code",
   "execution_count": null,
   "metadata": {
    "colab": {
     "base_uri": "https://localhost:8080/",
     "height": 186
    },
    "colab_type": "code",
    "executionInfo": {
     "elapsed": 1064,
     "status": "error",
     "timestamp": 1595210022273,
     "user": {
      "displayName": "sa lee",
      "photoUrl": "https://lh3.googleusercontent.com/a-/AOh14GhvMzl7e5o13kzwjOkdZE9EdiHFu-6dYLdWQWKjuA=s64",
      "userId": "03651723065083041662"
     },
     "user_tz": -540
    },
    "id": "7COZHCrdqwNr",
    "outputId": "cced43b4-50d1-4977-fd6a-2b9b61d10685"
   },
   "outputs": [
    {
     "ename": "ValueError",
     "evalue": "ignored",
     "output_type": "error",
     "traceback": [
      "\u001b[0;31m---------------------------------------------------------------------------\u001b[0m",
      "\u001b[0;31mValueError\u001b[0m                                Traceback (most recent call last)",
      "\u001b[0;32m<ipython-input-43-12088678fa8d>\u001b[0m in \u001b[0;36m<module>\u001b[0;34m()\u001b[0m\n\u001b[0;32m----> 1\u001b[0;31m \u001b[0mc\u001b[0m \u001b[0;34m=\u001b[0m \u001b[0mcomplex\u001b[0m\u001b[0;34m(\u001b[0m\u001b[0;34m'3 + 4j'\u001b[0m\u001b[0;34m)\u001b[0m\u001b[0;34m\u001b[0m\u001b[0;34m\u001b[0m\u001b[0m\n\u001b[0m\u001b[1;32m      2\u001b[0m \u001b[0mtype\u001b[0m\u001b[0;34m(\u001b[0m\u001b[0mc\u001b[0m\u001b[0;34m)\u001b[0m\u001b[0;34m\u001b[0m\u001b[0;34m\u001b[0m\u001b[0m\n",
      "\u001b[0;31mValueError\u001b[0m: complex() arg is a malformed string"
     ]
    }
   ],
   "source": [
    "c = complex('3 + 4j')\n",
    "type(c)"
   ]
  },
  {
   "cell_type": "markdown",
   "metadata": {
    "colab_type": "text",
    "id": "gpAyw8mLqwNv"
   },
   "source": [
    "## 문자(String) 타입\n",
    "\n",
    "### 기본 활용법\n",
    "\n",
    "* 문자열은 Single quotes(`'`)나 Double quotes(`\"`)을 활용하여 표현 가능하다.\n",
    "\n",
    "    - 작은따옴표: `'\"큰\" 따옴표를 담을 수 있습니다'`\n",
    "\n",
    "    - 큰따옴표: `\"'작은' 따옴표를 담을 수 있습니다\"`\n",
    "\n",
    "    - 삼중 따옴표: `'''세 개의 작은따옴표'''`, `\"\"\"세 개의 큰따옴표\"\"\"`\n",
    "\n",
    "\n",
    "* 단, 문자열을 묶을 때 동일한 문장부호를 활용해야하며, `PEP-8`에서는 **하나의 문장부호를 선택**하여 유지하도록 하고 있다. \n",
    "(Pick a rule and Stick to it)"
   ]
  },
  {
   "cell_type": "code",
   "execution_count": null,
   "metadata": {
    "colab": {},
    "colab_type": "code",
    "id": "GW-FjqauqwNz"
   },
   "outputs": [],
   "source": [
    "# 변수에 문자열을 넣고 출력해봅시다."
   ]
  },
  {
   "cell_type": "code",
   "execution_count": null,
   "metadata": {
    "colab": {
     "base_uri": "https://localhost:8080/",
     "height": 34
    },
    "colab_type": "code",
    "executionInfo": {
     "elapsed": 977,
     "status": "ok",
     "timestamp": 1595210090545,
     "user": {
      "displayName": "sa lee",
      "photoUrl": "https://lh3.googleusercontent.com/a-/AOh14GhvMzl7e5o13kzwjOkdZE9EdiHFu-6dYLdWQWKjuA=s64",
      "userId": "03651723065083041662"
     },
     "user_tz": -540
    },
    "id": "HmBb56K-qwN5",
    "outputId": "52fb3658-4b2a-4eaa-e40c-81efad1571d0"
   },
   "outputs": [
    {
     "data": {
      "text/plain": [
       "str"
      ]
     },
     "execution_count": 44,
     "metadata": {
      "tags": []
     },
     "output_type": "execute_result"
    }
   ],
   "source": [
    "greeting = 'hello'\n",
    "type(greeting)"
   ]
  },
  {
   "cell_type": "code",
   "execution_count": null,
   "metadata": {
    "colab": {},
    "colab_type": "code",
    "id": "HS8euAVFqwOC"
   },
   "outputs": [],
   "source": [
    "# 사용자에게 받은 입력은 기본적으로 str입니다."
   ]
  },
  {
   "cell_type": "code",
   "execution_count": null,
   "metadata": {
    "colab": {
     "base_uri": "https://localhost:8080/",
     "height": 52
    },
    "colab_type": "code",
    "executionInfo": {
     "elapsed": 4444,
     "status": "ok",
     "timestamp": 1595210242414,
     "user": {
      "displayName": "sa lee",
      "photoUrl": "https://lh3.googleusercontent.com/a-/AOh14GhvMzl7e5o13kzwjOkdZE9EdiHFu-6dYLdWQWKjuA=s64",
      "userId": "03651723065083041662"
     },
     "user_tz": -540
    },
    "id": "hCROeDvkqwOG",
    "outputId": "30454336-51a0-4782-c334-b4956e3f7d2a"
   },
   "outputs": [
    {
     "name": "stdout",
     "output_type": "stream",
     "text": [
      "숫자를 입력해주세요:3\n",
      "6\n"
     ]
    }
   ],
   "source": [
    "number = input('숫자를 입력해주세요:')\n",
    "print(int(number) * 2)"
   ]
  },
  {
   "cell_type": "markdown",
   "metadata": {
    "colab_type": "text",
    "id": "69INDOdpqwOJ"
   },
   "source": [
    "#### 따옴표 사용\n",
    "\n",
    "문자열 안에 문장부호(`'`, `\"`)가 사용될 경우 이스케이프 문자(`\\`)를 활용 가능 합니다. "
   ]
  },
  {
   "cell_type": "code",
   "execution_count": null,
   "metadata": {
    "colab": {},
    "colab_type": "code",
    "id": "MwAxWepBqwOJ"
   },
   "outputs": [],
   "source": [
    "# 문자열 안에 문장부호를 활용해서 오류를 확인해봅시다."
   ]
  },
  {
   "cell_type": "code",
   "execution_count": null,
   "metadata": {
    "colab": {
     "base_uri": "https://localhost:8080/",
     "height": 34
    },
    "colab_type": "code",
    "executionInfo": {
     "elapsed": 986,
     "status": "ok",
     "timestamp": 1595210399199,
     "user": {
      "displayName": "sa lee",
      "photoUrl": "https://lh3.googleusercontent.com/a-/AOh14GhvMzl7e5o13kzwjOkdZE9EdiHFu-6dYLdWQWKjuA=s64",
      "userId": "03651723065083041662"
     },
     "user_tz": -540
    },
    "id": "uKDBPsI5qwON",
    "outputId": "42bf8f9f-1674-4a44-a08f-f17f2fbf7bf1"
   },
   "outputs": [
    {
     "data": {
      "application/vnd.google.colaboratory.intrinsic": {
       "type": "string"
      },
      "text/plain": [
       "'그의 이름은 \"ssafy\"였다'"
      ]
     },
     "execution_count": 49,
     "metadata": {
      "tags": []
     },
     "output_type": "execute_result"
    }
   ],
   "source": [
    "\"he's cool\"\n",
    "\"그의 이름은 \\\"ssafy\\\"였다\""
   ]
  },
  {
   "cell_type": "markdown",
   "metadata": {
    "colab_type": "text",
    "id": "tzwQN8_KqwOn"
   },
   "source": [
    "여러줄에 걸쳐있는 문장은 다음과 같이 표현 가능합니다.\n",
    "\n",
    "* `PEP-8`에 따르면 이 경우에는 반드시 `\"\"\"`를 사용하도록 되어 있다."
   ]
  },
  {
   "cell_type": "code",
   "execution_count": null,
   "metadata": {
    "colab": {},
    "colab_type": "code",
    "id": "9IWyQY20qwOn"
   },
   "outputs": [],
   "source": [
    "# 여러줄을 출력해봅시다."
   ]
  },
  {
   "cell_type": "code",
   "execution_count": null,
   "metadata": {
    "colab": {
     "base_uri": "https://localhost:8080/",
     "height": 104
    },
    "colab_type": "code",
    "executionInfo": {
     "elapsed": 1028,
     "status": "ok",
     "timestamp": 1595210470278,
     "user": {
      "displayName": "sa lee",
      "photoUrl": "https://lh3.googleusercontent.com/a-/AOh14GhvMzl7e5o13kzwjOkdZE9EdiHFu-6dYLdWQWKjuA=s64",
      "userId": "03651723065083041662"
     },
     "user_tz": -540
    },
    "id": "UrfVKgAGqwOq",
    "outputId": "d7301a70-9cf9-4f6b-e20f-de92f69a2a2d"
   },
   "outputs": [
    {
     "name": "stdout",
     "output_type": "stream",
     "text": [
      "\n",
      "이건\n",
      "여러줄에 걸친\n",
      "문자열입니다.\n",
      "\n"
     ]
    }
   ],
   "source": [
    "print(\"\"\"\n",
    "이건\n",
    "여러줄에 걸친\n",
    "문자열입니다.\n",
    "\"\"\")"
   ]
  },
  {
   "cell_type": "code",
   "execution_count": null,
   "metadata": {
    "colab": {},
    "colab_type": "code",
    "id": "QKfDK45fqwO1"
   },
   "outputs": [],
   "source": [
    "# 문자열은 + 연산자로 이어붙이고, * 연산자로 반복시킬 수 있습니다."
   ]
  },
  {
   "cell_type": "code",
   "execution_count": null,
   "metadata": {
    "colab": {
     "base_uri": "https://localhost:8080/",
     "height": 34
    },
    "colab_type": "code",
    "executionInfo": {
     "elapsed": 1113,
     "status": "ok",
     "timestamp": 1595210647180,
     "user": {
      "displayName": "sa lee",
      "photoUrl": "https://lh3.googleusercontent.com/a-/AOh14GhvMzl7e5o13kzwjOkdZE9EdiHFu-6dYLdWQWKjuA=s64",
      "userId": "03651723065083041662"
     },
     "user_tz": -540
    },
    "id": "7OkGj5PrqwO5",
    "outputId": "9ee6fcbb-d8bd-4925-cc01-ef40cbbd203b"
   },
   "outputs": [
    {
     "data": {
      "application/vnd.google.colaboratory.intrinsic": {
       "type": "string"
      },
      "text/plain": [
       "'hello hello hello '"
      ]
     },
     "execution_count": 54,
     "metadata": {
      "tags": []
     },
     "output_type": "execute_result"
    }
   ],
   "source": [
    "'hello ' *3"
   ]
  },
  {
   "cell_type": "code",
   "execution_count": null,
   "metadata": {
    "colab": {},
    "colab_type": "code",
    "id": "mpv480v_qwO_"
   },
   "outputs": [],
   "source": [
    "# 변수화해서도 사용가능합니다."
   ]
  },
  {
   "cell_type": "code",
   "execution_count": null,
   "metadata": {
    "colab": {
     "base_uri": "https://localhost:8080/",
     "height": 34
    },
    "colab_type": "code",
    "executionInfo": {
     "elapsed": 1547,
     "status": "ok",
     "timestamp": 1595210708585,
     "user": {
      "displayName": "sa lee",
      "photoUrl": "https://lh3.googleusercontent.com/a-/AOh14GhvMzl7e5o13kzwjOkdZE9EdiHFu-6dYLdWQWKjuA=s64",
      "userId": "03651723065083041662"
     },
     "user_tz": -540
    },
    "id": "-bDo1mdlqwPH",
    "outputId": "6bce34ae-f989-43bc-dd2a-6e6b86e02393"
   },
   "outputs": [
    {
     "data": {
      "application/vnd.google.colaboratory.intrinsic": {
       "type": "string"
      },
      "text/plain": [
       "'my name is salee'"
      ]
     },
     "execution_count": 58,
     "metadata": {
      "tags": []
     },
     "output_type": "execute_result"
    }
   ],
   "source": [
    "name = 'salee'\n",
    "'my name is ' + name\n"
   ]
  },
  {
   "cell_type": "code",
   "execution_count": null,
   "metadata": {
    "colab": {},
    "colab_type": "code",
    "id": "ksmu7ZIDqwPK"
   },
   "outputs": [],
   "source": [
    "# 두 개 이상의 문자열이 연속해서 나타나면 자동으로 이어 붙여집니다."
   ]
  },
  {
   "cell_type": "code",
   "execution_count": null,
   "metadata": {
    "colab": {
     "base_uri": "https://localhost:8080/",
     "height": 34
    },
    "colab_type": "code",
    "executionInfo": {
     "elapsed": 1095,
     "status": "ok",
     "timestamp": 1595210730481,
     "user": {
      "displayName": "sa lee",
      "photoUrl": "https://lh3.googleusercontent.com/a-/AOh14GhvMzl7e5o13kzwjOkdZE9EdiHFu-6dYLdWQWKjuA=s64",
      "userId": "03651723065083041662"
     },
     "user_tz": -540
    },
    "id": "Rf_SB4j3qwPO",
    "outputId": "b2cc1c10-4ccc-4acd-f5a3-d5d510c3dde5"
   },
   "outputs": [
    {
     "data": {
      "application/vnd.google.colaboratory.intrinsic": {
       "type": "string"
      },
      "text/plain": [
       "'hello ssafy'"
      ]
     },
     "execution_count": 60,
     "metadata": {
      "tags": []
     },
     "output_type": "execute_result"
    }
   ],
   "source": [
    "'hello ' + 'ssafy'"
   ]
  },
  {
   "cell_type": "markdown",
   "metadata": {
    "colab_type": "text",
    "id": "fZ1hJ_VuqwPU"
   },
   "source": [
    "### 이스케이프 시퀀스\n",
    "\n",
    "문자열을 활용하는 경우 특수문자 혹은 조작을 하기 위하여 사용되는 것으로 `\\`를 활용하여 이를 구분합니다. \n",
    "\n",
    "|<center>예약문자</center>|내용(의미)|\n",
    "|:--------:|:--------:|\n",
    "|\\n|줄 바꿈|\n",
    "|\\t|탭|\n",
    "|\\r|캐리지리턴|\n",
    "|\\0|널(Null)|\n",
    "|\\\\\\\\ |`\\`|\n",
    "|\\\\'|단일인용부호(`'`)|\n",
    "|\\\\\"|이중인용부호(`\"`)|"
   ]
  },
  {
   "cell_type": "code",
   "execution_count": null,
   "metadata": {
    "colab": {},
    "colab_type": "code",
    "id": "YtKWKG0yqwPV"
   },
   "outputs": [],
   "source": [
    "# 이스케이프 문자열을 조합하여 프린트해봅시다."
   ]
  },
  {
   "cell_type": "code",
   "execution_count": null,
   "metadata": {
    "colab": {
     "base_uri": "https://localhost:8080/",
     "height": 69
    },
    "colab_type": "code",
    "executionInfo": {
     "elapsed": 897,
     "status": "ok",
     "timestamp": 1595210917406,
     "user": {
      "displayName": "sa lee",
      "photoUrl": "https://lh3.googleusercontent.com/a-/AOh14GhvMzl7e5o13kzwjOkdZE9EdiHFu-6dYLdWQWKjuA=s64",
      "userId": "03651723065083041662"
     },
     "user_tz": -540
    },
    "id": "Cc_eGJppqwPZ",
    "outputId": "543175a4-4f9a-4119-9749-8f40b5ff65c2"
   },
   "outputs": [
    {
     "name": "stdout",
     "output_type": "stream",
     "text": [
      "안녕\n",
      "나는\n",
      "python이야\n"
     ]
    }
   ],
   "source": [
    "print('안녕\\n나는\\npython이야')"
   ]
  },
  {
   "cell_type": "code",
   "execution_count": null,
   "metadata": {
    "colab": {},
    "colab_type": "code",
    "id": "1XNVg2iuqwPd"
   },
   "outputs": [],
   "source": [
    "# print를 하는 과정에서도 이스케이프 문자열을 활용 가능합니다."
   ]
  },
  {
   "cell_type": "code",
   "execution_count": null,
   "metadata": {
    "colab": {
     "base_uri": "https://localhost:8080/",
     "height": 52
    },
    "colab_type": "code",
    "executionInfo": {
     "elapsed": 1126,
     "status": "ok",
     "timestamp": 1595211133957,
     "user": {
      "displayName": "sa lee",
      "photoUrl": "https://lh3.googleusercontent.com/a-/AOh14GhvMzl7e5o13kzwjOkdZE9EdiHFu-6dYLdWQWKjuA=s64",
      "userId": "03651723065083041662"
     },
     "user_tz": -540
    },
    "id": "_dh6h1i-qwPg",
    "outputId": "f71afc88-0a72-4e33-ff90-df1cca80049d"
   },
   "outputs": [
    {
     "name": "stdout",
     "output_type": "stream",
     "text": [
      "\\-$ 환율\n",
      "이건 'python' 입니다.\n"
     ]
    }
   ],
   "source": [
    "print('\\\\-$ 환율')\n",
    "print('이건 \\'python\\' 입니다.')"
   ]
  },
  {
   "cell_type": "code",
   "execution_count": null,
   "metadata": {
    "colab": {},
    "colab_type": "code",
    "id": "6gyWPwmsqwPl"
   },
   "outputs": [],
   "source": [
    "# 물론, end 옵션은 이스케이프 문자열이 아닌 다른 것도 가능합니다."
   ]
  },
  {
   "cell_type": "code",
   "execution_count": null,
   "metadata": {
    "colab": {
     "base_uri": "https://localhost:8080/",
     "height": 34
    },
    "colab_type": "code",
    "executionInfo": {
     "elapsed": 1040,
     "status": "ok",
     "timestamp": 1595211240857,
     "user": {
      "displayName": "sa lee",
      "photoUrl": "https://lh3.googleusercontent.com/a-/AOh14GhvMzl7e5o13kzwjOkdZE9EdiHFu-6dYLdWQWKjuA=s64",
      "userId": "03651723065083041662"
     },
     "user_tz": -540
    },
    "id": "8pdDF4R5qwPn",
    "outputId": "fbe02c1a-bfd1-4110-8fbc-364499f23194"
   },
   "outputs": [
    {
     "name": "stdout",
     "output_type": "stream",
     "text": [
      "hello\tssafy\n"
     ]
    }
   ],
   "source": [
    "print('hello', end ='\\t')\n",
    "print('ssafy')"
   ]
  },
  {
   "cell_type": "markdown",
   "metadata": {
    "colab_type": "text",
    "id": "YmPy2aCzqwPs"
   },
   "source": [
    "### String interpolation \n",
    "\n",
    "* `%-formatting` \n",
    "\n",
    "* [`str.format()` ](https://pyformat.info/)\n",
    "\n",
    "* [`f-strings`](https://www.python.org/dev/peps/pep-0498/) : 파이썬 3.6 이후 버전에서 지원"
   ]
  },
  {
   "cell_type": "code",
   "execution_count": null,
   "metadata": {
    "colab": {},
    "colab_type": "code",
    "id": "9ex6TbDPqwPt"
   },
   "outputs": [],
   "source": [
    "# name 변수에 이름을 입력해봅시다."
   ]
  },
  {
   "cell_type": "code",
   "execution_count": 2,
   "metadata": {
    "colab": {},
    "colab_type": "code",
    "id": "YTWekBXIqwPv"
   },
   "outputs": [],
   "source": [
    "name = 'salee'"
   ]
  },
  {
   "cell_type": "code",
   "execution_count": null,
   "metadata": {
    "colab": {},
    "colab_type": "code",
    "id": "825uJK9HqwP7"
   },
   "outputs": [],
   "source": [
    "# %-formatting을 활용해봅시다."
   ]
  },
  {
   "cell_type": "code",
   "execution_count": null,
   "metadata": {
    "colab": {},
    "colab_type": "code",
    "id": "f8R-LykBqwQF"
   },
   "outputs": [],
   "source": [
    "# str.format()을 활용해봅시다."
   ]
  },
  {
   "cell_type": "code",
   "execution_count": 9,
   "metadata": {
    "colab": {
     "base_uri": "https://localhost:8080/",
     "height": 34
    },
    "colab_type": "code",
    "executionInfo": {
     "elapsed": 933,
     "status": "ok",
     "timestamp": 1595211719932,
     "user": {
      "displayName": "sa lee",
      "photoUrl": "https://lh3.googleusercontent.com/a-/AOh14GhvMzl7e5o13kzwjOkdZE9EdiHFu-6dYLdWQWKjuA=s64",
      "userId": "03651723065083041662"
     },
     "user_tz": -540
    },
    "id": "YLlZ_al5qwQL",
    "outputId": "6f025df8-1f90-4c3d-d733-dc0a43ebc456"
   },
   "outputs": [
    {
     "name": "stdout",
     "output_type": "stream",
     "text": [
      "내 이름은 salee 입니다.\n"
     ]
    }
   ],
   "source": [
    "print('내 이름은 {} 입니다.'.format(name))"
   ]
  },
  {
   "cell_type": "code",
   "execution_count": null,
   "metadata": {
    "colab": {},
    "colab_type": "code",
    "id": "EhUjgRZMqwQN"
   },
   "outputs": [],
   "source": [
    "# f-string을 활용해봅시다."
   ]
  },
  {
   "cell_type": "code",
   "execution_count": 8,
   "metadata": {
    "colab": {
     "base_uri": "https://localhost:8080/",
     "height": 34
    },
    "colab_type": "code",
    "executionInfo": {
     "elapsed": 930,
     "status": "ok",
     "timestamp": 1595211722047,
     "user": {
      "displayName": "sa lee",
      "photoUrl": "https://lh3.googleusercontent.com/a-/AOh14GhvMzl7e5o13kzwjOkdZE9EdiHFu-6dYLdWQWKjuA=s64",
      "userId": "03651723065083041662"
     },
     "user_tz": -540
    },
    "id": "7D83mZ45qwQQ",
    "outputId": "a3396cc3-6a79-4af5-83e0-301b44fe8b4c"
   },
   "outputs": [
    {
     "name": "stdout",
     "output_type": "stream",
     "text": [
      "내 이름은 salee 입니다.\n"
     ]
    }
   ],
   "source": [
    "print(f'내 이름은 {name} 입니다.')"
   ]
  },
  {
   "cell_type": "code",
   "execution_count": null,
   "metadata": {
    "colab": {},
    "colab_type": "code",
    "id": "1g-euLKrqwQS"
   },
   "outputs": [],
   "source": [
    "# 여러줄 문자열에서도 사용 가능합니다."
   ]
  },
  {
   "cell_type": "code",
   "execution_count": null,
   "metadata": {
    "colab": {
     "base_uri": "https://localhost:8080/",
     "height": 104
    },
    "colab_type": "code",
    "executionInfo": {
     "elapsed": 1142,
     "status": "ok",
     "timestamp": 1595211725968,
     "user": {
      "displayName": "sa lee",
      "photoUrl": "https://lh3.googleusercontent.com/a-/AOh14GhvMzl7e5o13kzwjOkdZE9EdiHFu-6dYLdWQWKjuA=s64",
      "userId": "03651723065083041662"
     },
     "user_tz": -540
    },
    "id": "3uRgwFRnqwQX",
    "outputId": "30ac9f96-0b1a-4ddf-ca80-96c8e5e2a999"
   },
   "outputs": [
    {
     "name": "stdout",
     "output_type": "stream",
     "text": [
      "\n",
      "내 이름은\n",
      "salee\n",
      "입니다.\n",
      "\n"
     ]
    }
   ],
   "source": [
    "print(f'''\n",
    "내 이름은\n",
    "{name}\n",
    "입니다.\n",
    "''')"
   ]
  },
  {
   "cell_type": "markdown",
   "metadata": {
    "colab_type": "text",
    "id": "WkWZfNAEqwQb"
   },
   "source": [
    "* f-strings에서는 형식을 지정할 수 있다."
   ]
  },
  {
   "cell_type": "code",
   "execution_count": null,
   "metadata": {
    "colab": {},
    "colab_type": "code",
    "id": "DhBr0YluqwQb"
   },
   "outputs": [],
   "source": [
    "# 다양한 형식을 활용하기 위해 datetime 모듈로 오늘을 표현해봅시다."
   ]
  },
  {
   "cell_type": "code",
   "execution_count": 10,
   "metadata": {
    "colab": {
     "base_uri": "https://localhost:8080/",
     "height": 34
    },
    "colab_type": "code",
    "executionInfo": {
     "elapsed": 883,
     "status": "ok",
     "timestamp": 1595211769046,
     "user": {
      "displayName": "sa lee",
      "photoUrl": "https://lh3.googleusercontent.com/a-/AOh14GhvMzl7e5o13kzwjOkdZE9EdiHFu-6dYLdWQWKjuA=s64",
      "userId": "03651723065083041662"
     },
     "user_tz": -540
    },
    "id": "nKY9Kqd7qwQd",
    "outputId": "be3e0239-6c82-4723-8e6f-0e1d01511d11"
   },
   "outputs": [
    {
     "name": "stdout",
     "output_type": "stream",
     "text": [
      "2020-07-26 23:33:17.945612\n"
     ]
    }
   ],
   "source": [
    "import datetime\n",
    "now = datetime.datetime.now()\n",
    "print(now)"
   ]
  },
  {
   "cell_type": "code",
   "execution_count": 11,
   "metadata": {
    "colab": {},
    "colab_type": "code",
    "id": "TuahYZSTqwQh"
   },
   "outputs": [],
   "source": [
    "# interpolation에서 출력형식을 지정할 수 있습니다."
   ]
  },
  {
   "cell_type": "code",
   "execution_count": 13,
   "metadata": {
    "colab": {
     "base_uri": "https://localhost:8080/",
     "height": 34
    },
    "colab_type": "code",
    "executionInfo": {
     "elapsed": 989,
     "status": "ok",
     "timestamp": 1595211973947,
     "user": {
      "displayName": "sa lee",
      "photoUrl": "https://lh3.googleusercontent.com/a-/AOh14GhvMzl7e5o13kzwjOkdZE9EdiHFu-6dYLdWQWKjuA=s64",
      "userId": "03651723065083041662"
     },
     "user_tz": -540
    },
    "id": "Oj82pkeMqwQn",
    "outputId": "754096c6-d644-483c-a670-d25bca0a512c"
   },
   "outputs": [
    {
     "data": {
      "text/plain": [
       "datetime.datetime(2020, 7, 26, 23, 33, 57, 49235)"
      ]
     },
     "execution_count": 13,
     "metadata": {},
     "output_type": "execute_result"
    }
   ],
   "source": [
    "now.today()\n",
    "f'올해는 {now:%Y}년 이번달은 {now:%m}월 오늘은 {now:%d}일'"
   ]
  },
  {
   "cell_type": "markdown",
   "metadata": {
    "colab_type": "text",
    "id": "uk8wbSZmqwQt"
   },
   "source": [
    "* f-strings에서는 연산과 출력형식 지정도 가능하다."
   ]
  },
  {
   "cell_type": "code",
   "execution_count": null,
   "metadata": {
    "colab": {},
    "colab_type": "code",
    "id": "hqT_Q48wqwQu"
   },
   "outputs": [],
   "source": [
    "# string interpolation을 통해 출력형식 지정 뿐만 아니라, 연산도 가능합니다."
   ]
  },
  {
   "cell_type": "code",
   "execution_count": 14,
   "metadata": {
    "colab": {
     "base_uri": "https://localhost:8080/",
     "height": 34
    },
    "colab_type": "code",
    "executionInfo": {
     "elapsed": 870,
     "status": "ok",
     "timestamp": 1595212106431,
     "user": {
      "displayName": "sa lee",
      "photoUrl": "https://lh3.googleusercontent.com/a-/AOh14GhvMzl7e5o13kzwjOkdZE9EdiHFu-6dYLdWQWKjuA=s64",
      "userId": "03651723065083041662"
     },
     "user_tz": -540
    },
    "id": "Jd6ZlZNlqwQ3",
    "outputId": "cd578bea-e0b8-4716-e463-c01aa3f4a486"
   },
   "outputs": [
    {
     "name": "stdout",
     "output_type": "stream",
     "text": [
      "3.14 넓이는: 3.14e+02\n"
     ]
    }
   ],
   "source": [
    "pi = 3.141592\n",
    "r = 10\n",
    "\n",
    "print(f'{pi:.3} 넓이는: {pi*r*r:.3}')"
   ]
  },
  {
   "cell_type": "markdown",
   "metadata": {
    "colab_type": "text",
    "id": "hzKjzuWrqwQ9"
   },
   "source": [
    "## 참/거짓(Boolean) 타입\n",
    "\n",
    "파이썬에는 `True`와 `False`로 이뤄진 `bool` 타입이 있습니다.\n",
    "\n",
    "비교/논리 연산을 수행 등에서 활용됩니다.\n",
    "\n",
    "다음은 `False`로 변환됩니다.\n",
    "```\n",
    "0, 0.0, (), [], {}, '', None\n",
    "```"
   ]
  },
  {
   "cell_type": "code",
   "execution_count": null,
   "metadata": {
    "colab": {},
    "colab_type": "code",
    "id": "CP_1SjV_qwQ-"
   },
   "outputs": [],
   "source": [
    "# True와 False의 타입들을 알아봅시다."
   ]
  },
  {
   "cell_type": "code",
   "execution_count": 84,
   "metadata": {
    "colab": {
     "base_uri": "https://localhost:8080/",
     "height": 0
    },
    "colab_type": "code",
    "executionInfo": {
     "elapsed": 1407,
     "status": "ok",
     "timestamp": 1595221492899,
     "user": {
      "displayName": "sa lee",
      "photoUrl": "https://lh3.googleusercontent.com/a-/AOh14GhvMzl7e5o13kzwjOkdZE9EdiHFu-6dYLdWQWKjuA=s64",
      "userId": "03651723065083041662"
     },
     "user_tz": -540
    },
    "id": "4q8NO73HqwRK",
    "outputId": "9b331708-5be6-4c2c-8d30-4a7fbc7b4def"
   },
   "outputs": [
    {
     "data": {
      "text/plain": [
       "bool"
      ]
     },
     "execution_count": 84,
     "metadata": {
      "tags": []
     },
     "output_type": "execute_result"
    }
   ],
   "source": [
    "type(True)\n",
    "type(False)"
   ]
  },
  {
   "cell_type": "code",
   "execution_count": null,
   "metadata": {
    "colab": {},
    "colab_type": "code",
    "id": "YPFKeu0GqwRQ"
   },
   "outputs": [],
   "source": [
    "# 다양한 True, False 상황들을 확인해봅시다.\n",
    "# 형변환(Type Conversion)에서 추가적으로 다루는 내용입니다."
   ]
  },
  {
   "cell_type": "code",
   "execution_count": 85,
   "metadata": {
    "colab": {
     "base_uri": "https://localhost:8080/",
     "height": 0
    },
    "colab_type": "code",
    "executionInfo": {
     "elapsed": 1436,
     "status": "ok",
     "timestamp": 1595221509139,
     "user": {
      "displayName": "sa lee",
      "photoUrl": "https://lh3.googleusercontent.com/a-/AOh14GhvMzl7e5o13kzwjOkdZE9EdiHFu-6dYLdWQWKjuA=s64",
      "userId": "03651723065083041662"
     },
     "user_tz": -540
    },
    "id": "bbqqOr25qwRT",
    "outputId": "23455393-c06c-471b-f588-17b746cf3c43"
   },
   "outputs": [
    {
     "data": {
      "text/plain": [
       "False"
      ]
     },
     "execution_count": 85,
     "metadata": {
      "tags": []
     },
     "output_type": "execute_result"
    }
   ],
   "source": [
    "bool(0)"
   ]
  },
  {
   "cell_type": "code",
   "execution_count": 88,
   "metadata": {
    "colab": {
     "base_uri": "https://localhost:8080/",
     "height": 0
    },
    "colab_type": "code",
    "executionInfo": {
     "elapsed": 7706,
     "status": "ok",
     "timestamp": 1595221546315,
     "user": {
      "displayName": "sa lee",
      "photoUrl": "https://lh3.googleusercontent.com/a-/AOh14GhvMzl7e5o13kzwjOkdZE9EdiHFu-6dYLdWQWKjuA=s64",
      "userId": "03651723065083041662"
     },
     "user_tz": -540
    },
    "id": "axFduVF_nI7R",
    "outputId": "110076fe-dd80-4499-f84e-bdb75505cf4e"
   },
   "outputs": [
    {
     "data": {
      "text/plain": [
       "False"
      ]
     },
     "execution_count": 88,
     "metadata": {
      "tags": []
     },
     "output_type": "execute_result"
    }
   ],
   "source": [
    "bool('')"
   ]
  },
  {
   "cell_type": "markdown",
   "metadata": {
    "colab_type": "text",
    "id": "U-fovW1aqwRY"
   },
   "source": [
    "### `None` 타입\n",
    "\n",
    "파이썬에서는 값이 없음을 표현하기 위해 `None` 타입이 존재합니다."
   ]
  },
  {
   "cell_type": "code",
   "execution_count": null,
   "metadata": {
    "colab": {},
    "colab_type": "code",
    "id": "AMzC_snlqwRa"
   },
   "outputs": [],
   "source": [
    "# None의 타입을 알아봅시다."
   ]
  },
  {
   "cell_type": "code",
   "execution_count": 89,
   "metadata": {
    "colab": {
     "base_uri": "https://localhost:8080/",
     "height": 0
    },
    "colab_type": "code",
    "executionInfo": {
     "elapsed": 991,
     "status": "ok",
     "timestamp": 1595221632492,
     "user": {
      "displayName": "sa lee",
      "photoUrl": "https://lh3.googleusercontent.com/a-/AOh14GhvMzl7e5o13kzwjOkdZE9EdiHFu-6dYLdWQWKjuA=s64",
      "userId": "03651723065083041662"
     },
     "user_tz": -540
    },
    "id": "0hrBlkxXqwRf",
    "outputId": "30faddbf-e18e-4bfb-da31-739d99908fda"
   },
   "outputs": [
    {
     "data": {
      "text/plain": [
       "NoneType"
      ]
     },
     "execution_count": 89,
     "metadata": {
      "tags": []
     },
     "output_type": "execute_result"
    }
   ],
   "source": [
    "type(None)"
   ]
  },
  {
   "cell_type": "code",
   "execution_count": null,
   "metadata": {
    "colab": {},
    "colab_type": "code",
    "id": "loMi8cszqwRh"
   },
   "outputs": [],
   "source": [
    "# 변수에 저장해서 확인해봅시다."
   ]
  },
  {
   "cell_type": "code",
   "execution_count": 90,
   "metadata": {
    "colab": {
     "base_uri": "https://localhost:8080/",
     "height": 0
    },
    "colab_type": "code",
    "executionInfo": {
     "elapsed": 1196,
     "status": "ok",
     "timestamp": 1595221659297,
     "user": {
      "displayName": "sa lee",
      "photoUrl": "https://lh3.googleusercontent.com/a-/AOh14GhvMzl7e5o13kzwjOkdZE9EdiHFu-6dYLdWQWKjuA=s64",
      "userId": "03651723065083041662"
     },
     "user_tz": -540
    },
    "id": "jB_5CCATqwRk",
    "outputId": "cc0238dd-0c73-45b3-c907-b748cc349e20"
   },
   "outputs": [
    {
     "name": "stdout",
     "output_type": "stream",
     "text": [
      "None\n"
     ]
    },
    {
     "data": {
      "text/plain": [
       "False"
      ]
     },
     "execution_count": 90,
     "metadata": {
      "tags": []
     },
     "output_type": "execute_result"
    }
   ],
   "source": [
    "a = None\n",
    "print(a)\n",
    "bool(a)"
   ]
  },
  {
   "cell_type": "markdown",
   "metadata": {
    "colab_type": "text",
    "id": "dEqu1ShzqwRn"
   },
   "source": [
    "## 형변환(Type conversion, Typecasting)\n",
    "\n",
    "파이썬에서 데이터타입은 서로 변환할 수 있습니다.\n",
    "\n",
    "- 암시적 형변환\n",
    "- 명시적 형변환"
   ]
  },
  {
   "cell_type": "markdown",
   "metadata": {
    "colab_type": "text",
    "id": "KIt-f4kUqwRp"
   },
   "source": [
    "### 암시적 형변환(Implicit Type Conversion)\n",
    "\n",
    "사용자가 의도하지 않았지만, 파이썬 내부적으로 자동으로 형변환 하는 경우입니다.\n",
    "아래의 상황에서만 가능합니다.\n",
    "* bool\n",
    "* Numbers (int, float, complex)"
   ]
  },
  {
   "cell_type": "code",
   "execution_count": null,
   "metadata": {
    "colab": {},
    "colab_type": "code",
    "id": "szoQPAxUqwRp"
   },
   "outputs": [],
   "source": [
    "# boolean과 integer는 더할 수 있을까요?"
   ]
  },
  {
   "cell_type": "code",
   "execution_count": 16,
   "metadata": {
    "colab": {
     "base_uri": "https://localhost:8080/",
     "height": 0
    },
    "colab_type": "code",
    "executionInfo": {
     "elapsed": 1313,
     "status": "ok",
     "timestamp": 1595221933634,
     "user": {
      "displayName": "sa lee",
      "photoUrl": "https://lh3.googleusercontent.com/a-/AOh14GhvMzl7e5o13kzwjOkdZE9EdiHFu-6dYLdWQWKjuA=s64",
      "userId": "03651723065083041662"
     },
     "user_tz": -540
    },
    "id": "6a0UntIWqwRu",
    "outputId": "3cd526b6-efc1-432d-9604-e9bb07d73ce7"
   },
   "outputs": [
    {
     "data": {
      "text/plain": [
       "2"
      ]
     },
     "execution_count": 16,
     "metadata": {},
     "output_type": "execute_result"
    }
   ],
   "source": [
    "int(True+1)"
   ]
  },
  {
   "cell_type": "code",
   "execution_count": 96,
   "metadata": {
    "colab": {
     "base_uri": "https://localhost:8080/",
     "height": 0
    },
    "colab_type": "code",
    "executionInfo": {
     "elapsed": 1360,
     "status": "ok",
     "timestamp": 1595222061134,
     "user": {
      "displayName": "sa lee",
      "photoUrl": "https://lh3.googleusercontent.com/a-/AOh14GhvMzl7e5o13kzwjOkdZE9EdiHFu-6dYLdWQWKjuA=s64",
      "userId": "03651723065083041662"
     },
     "user_tz": -540
    },
    "id": "3MXn2Hxhoxb-",
    "outputId": "3f4f2193-85ed-4096-af1a-11cbcdfb5bb8"
   },
   "outputs": [
    {
     "data": {
      "text/plain": [
       "3"
      ]
     },
     "execution_count": 96,
     "metadata": {
      "tags": []
     },
     "output_type": "execute_result"
    }
   ],
   "source": [
    "check_passed = False\n",
    "check_passed + 3"
   ]
  },
  {
   "cell_type": "code",
   "execution_count": null,
   "metadata": {
    "colab": {},
    "colab_type": "code",
    "id": "QmHy1DzBqwR0"
   },
   "outputs": [],
   "source": [
    "# int, float, complex를 각각 변수에 대입해봅시다."
   ]
  },
  {
   "cell_type": "code",
   "execution_count": 97,
   "metadata": {
    "colab": {},
    "colab_type": "code",
    "executionInfo": {
     "elapsed": 1281,
     "status": "ok",
     "timestamp": 1595222171465,
     "user": {
      "displayName": "sa lee",
      "photoUrl": "https://lh3.googleusercontent.com/a-/AOh14GhvMzl7e5o13kzwjOkdZE9EdiHFu-6dYLdWQWKjuA=s64",
      "userId": "03651723065083041662"
     },
     "user_tz": -540
    },
    "id": "KS9VgpyyqwR8"
   },
   "outputs": [],
   "source": [
    "int_number = 2020\n",
    "float_number = 3.14\n",
    "complex_number = 2+3j"
   ]
  },
  {
   "cell_type": "code",
   "execution_count": null,
   "metadata": {
    "colab": {},
    "colab_type": "code",
    "id": "7VXLNq2pqwSD"
   },
   "outputs": [],
   "source": [
    "# int와 float를 더해봅시다. 그 결과의 type은 무엇일까요?"
   ]
  },
  {
   "cell_type": "code",
   "execution_count": 98,
   "metadata": {
    "colab": {
     "base_uri": "https://localhost:8080/",
     "height": 0
    },
    "colab_type": "code",
    "executionInfo": {
     "elapsed": 968,
     "status": "ok",
     "timestamp": 1595222203356,
     "user": {
      "displayName": "sa lee",
      "photoUrl": "https://lh3.googleusercontent.com/a-/AOh14GhvMzl7e5o13kzwjOkdZE9EdiHFu-6dYLdWQWKjuA=s64",
      "userId": "03651723065083041662"
     },
     "user_tz": -540
    },
    "id": "zrJ0sEjOqwSH",
    "outputId": "29f1f7ed-8b92-4729-dcc5-0461d2ec44a9"
   },
   "outputs": [
    {
     "data": {
      "text/plain": [
       "2023.14"
      ]
     },
     "execution_count": 98,
     "metadata": {
      "tags": []
     },
     "output_type": "execute_result"
    }
   ],
   "source": [
    "int_number + float_number"
   ]
  },
  {
   "cell_type": "code",
   "execution_count": null,
   "metadata": {
    "colab": {},
    "colab_type": "code",
    "id": "JKKTc8L-qwSQ"
   },
   "outputs": [],
   "source": [
    "# int와 complex를 더해봅시다. 그 결과의 type은 무엇일까요?"
   ]
  },
  {
   "cell_type": "code",
   "execution_count": 100,
   "metadata": {
    "colab": {
     "base_uri": "https://localhost:8080/",
     "height": 0
    },
    "colab_type": "code",
    "executionInfo": {
     "elapsed": 696,
     "status": "ok",
     "timestamp": 1595222277813,
     "user": {
      "displayName": "sa lee",
      "photoUrl": "https://lh3.googleusercontent.com/a-/AOh14GhvMzl7e5o13kzwjOkdZE9EdiHFu-6dYLdWQWKjuA=s64",
      "userId": "03651723065083041662"
     },
     "user_tz": -540
    },
    "id": "MJCFxG2fqwSU",
    "outputId": "8255c3e0-3722-4674-dd32-ed828b28555e"
   },
   "outputs": [
    {
     "data": {
      "text/plain": [
       "complex"
      ]
     },
     "execution_count": 100,
     "metadata": {
      "tags": []
     },
     "output_type": "execute_result"
    }
   ],
   "source": [
    "type(int_number + complex_number)"
   ]
  },
  {
   "cell_type": "markdown",
   "metadata": {
    "colab_type": "text",
    "id": "HeCTZpmdqwSY"
   },
   "source": [
    "### 명시적 형변환(Explicit Type Conversion)\n",
    "위의 상황을 제외하고는 모두 명시적으로 형 변환을 해주어야합니다.\n",
    "\n",
    "* string -> intger  : 형식에 맞는 숫자만 가능\n",
    "* integer -> string : 모두 가능\n",
    "\n",
    "암시적 형변환이 되는 모든 경우도 명시적으로 형변환이 가능합니다.\n",
    "\n",
    "* `int()` : string, float를 int로 변환\n",
    "* `float()` : string, int를 float로 변환\n",
    "* `str()` : int, float, list, tuple, dictionary를 문자열로 변환\n",
    "\n",
    "`list()`, `tuple()` 등은 다음 챕터에서 배울 예정입니다."
   ]
  },
  {
   "cell_type": "code",
   "execution_count": null,
   "metadata": {
    "colab": {},
    "colab_type": "code",
    "id": "WGAUH72xqwSb"
   },
   "outputs": [],
   "source": [
    "# integer와 string 사이의 관계는 명시적으로 형변환을 해줘야만 합니다."
   ]
  },
  {
   "cell_type": "code",
   "execution_count": 101,
   "metadata": {
    "colab": {
     "base_uri": "https://localhost:8080/",
     "height": 0
    },
    "colab_type": "code",
    "executionInfo": {
     "elapsed": 1155,
     "status": "ok",
     "timestamp": 1595222544070,
     "user": {
      "displayName": "sa lee",
      "photoUrl": "https://lh3.googleusercontent.com/a-/AOh14GhvMzl7e5o13kzwjOkdZE9EdiHFu-6dYLdWQWKjuA=s64",
      "userId": "03651723065083041662"
     },
     "user_tz": -540
    },
    "id": "clu9tnrhqwSg",
    "outputId": "0e6cc78e-633f-49ba-9f68-00bb94918181"
   },
   "outputs": [
    {
     "data": {
      "application/vnd.google.colaboratory.intrinsic": {
       "type": "string"
      },
      "text/plain": [
       "'1등'"
      ]
     },
     "execution_count": 101,
     "metadata": {
      "tags": []
     },
     "output_type": "execute_result"
    }
   ],
   "source": [
    "str(1) + '등'"
   ]
  },
  {
   "cell_type": "code",
   "execution_count": null,
   "metadata": {
    "colab": {},
    "colab_type": "code",
    "id": "_H4L15GWqwSk"
   },
   "outputs": [],
   "source": [
    "# string 3을 integer로 변환해봅시다."
   ]
  },
  {
   "cell_type": "code",
   "execution_count": 102,
   "metadata": {
    "colab": {
     "base_uri": "https://localhost:8080/",
     "height": 0
    },
    "colab_type": "code",
    "executionInfo": {
     "elapsed": 6779,
     "status": "ok",
     "timestamp": 1595222579882,
     "user": {
      "displayName": "sa lee",
      "photoUrl": "https://lh3.googleusercontent.com/a-/AOh14GhvMzl7e5o13kzwjOkdZE9EdiHFu-6dYLdWQWKjuA=s64",
      "userId": "03651723065083041662"
     },
     "user_tz": -540
    },
    "id": "ZstBzPXHqwSy",
    "outputId": "b2eb1cf6-f8f0-4350-cfd0-6d78a23fcfa2"
   },
   "outputs": [
    {
     "name": "stdout",
     "output_type": "stream",
     "text": [
      "숫자를 입력해주세요: 3\n"
     ]
    },
    {
     "data": {
      "text/plain": [
       "6"
      ]
     },
     "execution_count": 102,
     "metadata": {
      "tags": []
     },
     "output_type": "execute_result"
    }
   ],
   "source": [
    "number = input('숫자를 입력해주세요: ')\n",
    "int(number) *2"
   ]
  },
  {
   "cell_type": "code",
   "execution_count": null,
   "metadata": {
    "colab": {},
    "colab_type": "code",
    "id": "dXkFPUGMqwTF"
   },
   "outputs": [],
   "source": [
    "# string 3.5를 float로 변환해봅시다."
   ]
  },
  {
   "cell_type": "code",
   "execution_count": 103,
   "metadata": {
    "colab": {
     "base_uri": "https://localhost:8080/",
     "height": 0
    },
    "colab_type": "code",
    "executionInfo": {
     "elapsed": 1504,
     "status": "ok",
     "timestamp": 1595222607436,
     "user": {
      "displayName": "sa lee",
      "photoUrl": "https://lh3.googleusercontent.com/a-/AOh14GhvMzl7e5o13kzwjOkdZE9EdiHFu-6dYLdWQWKjuA=s64",
      "userId": "03651723065083041662"
     },
     "user_tz": -540
    },
    "id": "yvf81JTcqwTJ",
    "outputId": "a695754c-0a8b-4aae-98fd-47ed392dc9b3"
   },
   "outputs": [
    {
     "data": {
      "text/plain": [
       "float"
      ]
     },
     "execution_count": 103,
     "metadata": {
      "tags": []
     },
     "output_type": "execute_result"
    }
   ],
   "source": [
    "type(float('3.5'))"
   ]
  },
  {
   "cell_type": "code",
   "execution_count": null,
   "metadata": {
    "colab": {},
    "colab_type": "code",
    "id": "o6f0b4ISqwTX"
   },
   "outputs": [],
   "source": [
    "# string은 글자가 숫자일때만 형변환이 가능합니다."
   ]
  },
  {
   "cell_type": "code",
   "execution_count": 105,
   "metadata": {
    "colab": {
     "base_uri": "https://localhost:8080/",
     "height": 0
    },
    "colab_type": "code",
    "executionInfo": {
     "elapsed": 1205,
     "status": "error",
     "timestamp": 1595222704245,
     "user": {
      "displayName": "sa lee",
      "photoUrl": "https://lh3.googleusercontent.com/a-/AOh14GhvMzl7e5o13kzwjOkdZE9EdiHFu-6dYLdWQWKjuA=s64",
      "userId": "03651723065083041662"
     },
     "user_tz": -540
    },
    "id": "EAtucEzeqwTj",
    "outputId": "f958f3f0-46eb-4d1c-e288-18de9ea6d7d0"
   },
   "outputs": [
    {
     "ename": "ValueError",
     "evalue": "ignored",
     "output_type": "error",
     "traceback": [
      "\u001b[0;31m---------------------------------------------------------------------------\u001b[0m",
      "\u001b[0;31mValueError\u001b[0m                                Traceback (most recent call last)",
      "\u001b[0;32m<ipython-input-105-9f8d5397e2e8>\u001b[0m in \u001b[0;36m<module>\u001b[0;34m()\u001b[0m\n\u001b[0;32m----> 1\u001b[0;31m \u001b[0mfloat\u001b[0m\u001b[0;34m(\u001b[0m\u001b[0;34m'3,5'\u001b[0m\u001b[0;34m)\u001b[0m\u001b[0;34m\u001b[0m\u001b[0;34m\u001b[0m\u001b[0m\n\u001b[0m",
      "\u001b[0;31mValueError\u001b[0m: could not convert string to float: '3,5'"
     ]
    }
   ],
   "source": [
    "float('3,5')"
   ]
  },
  {
   "cell_type": "code",
   "execution_count": null,
   "metadata": {
    "colab": {},
    "colab_type": "code",
    "id": "N1sU2TC9qwTn"
   },
   "outputs": [],
   "source": [
    "# string 3.5를 int로 변환할 수는 없습니다."
   ]
  },
  {
   "cell_type": "code",
   "execution_count": 106,
   "metadata": {
    "colab": {
     "base_uri": "https://localhost:8080/",
     "height": 0
    },
    "colab_type": "code",
    "executionInfo": {
     "elapsed": 1236,
     "status": "ok",
     "timestamp": 1595222717185,
     "user": {
      "displayName": "sa lee",
      "photoUrl": "https://lh3.googleusercontent.com/a-/AOh14GhvMzl7e5o13kzwjOkdZE9EdiHFu-6dYLdWQWKjuA=s64",
      "userId": "03651723065083041662"
     },
     "user_tz": -540
    },
    "id": "iAzsdizHqwTv",
    "outputId": "84b34018-20a4-44d4-9d4d-b4b82e2b7268"
   },
   "outputs": [
    {
     "data": {
      "text/plain": [
       "3"
      ]
     },
     "execution_count": 106,
     "metadata": {
      "tags": []
     },
     "output_type": "execute_result"
    }
   ],
   "source": [
    "int(float('3.5'))"
   ]
  },
  {
   "cell_type": "code",
   "execution_count": null,
   "metadata": {
    "colab": {},
    "colab_type": "code",
    "id": "c7a0w_8KqwTz"
   },
   "outputs": [],
   "source": [
    "# float 3.5는 int로 변환이 가능합니다."
   ]
  },
  {
   "cell_type": "code",
   "execution_count": 107,
   "metadata": {
    "colab": {
     "base_uri": "https://localhost:8080/",
     "height": 0
    },
    "colab_type": "code",
    "executionInfo": {
     "elapsed": 1412,
     "status": "ok",
     "timestamp": 1595222724416,
     "user": {
      "displayName": "sa lee",
      "photoUrl": "https://lh3.googleusercontent.com/a-/AOh14GhvMzl7e5o13kzwjOkdZE9EdiHFu-6dYLdWQWKjuA=s64",
      "userId": "03651723065083041662"
     },
     "user_tz": -540
    },
    "id": "8kgoN4LfqwT2",
    "outputId": "d86d1820-2a82-4fb5-ccfa-22c44fc5af29"
   },
   "outputs": [
    {
     "data": {
      "text/plain": [
       "3"
      ]
     },
     "execution_count": 107,
     "metadata": {
      "tags": []
     },
     "output_type": "execute_result"
    }
   ],
   "source": [
    "int(3.5)"
   ]
  },
  {
   "cell_type": "markdown",
   "metadata": {
    "colab_type": "text",
    "id": "4z0R_FFvqwT9"
   },
   "source": [
    "# 연산자(Operator)\n",
    "\n",
    "- 산술 연산자\n",
    "- 비교 연산자\n",
    "- 논리 연산자\n",
    "- 복합 연산자\n",
    "- 기타 연산자"
   ]
  },
  {
   "cell_type": "markdown",
   "metadata": {
    "colab_type": "text",
    "id": "gci_YBTiqwUA"
   },
   "source": [
    "## 산술 연산자\n",
    "Python에서는 기본적인 사칙연산이 가능합니다. \n",
    "\n",
    "|연산자|내용|\n",
    "|----|---|\n",
    "|+|덧셈|\n",
    "|-|뺄셈|\n",
    "|\\*|곱셈|\n",
    "|/|나눗셈|\n",
    "|//|몫|\n",
    "|%|나머지(modulo)|\n",
    "|\\*\\*|거듭제곱|\n",
    "\n",
    "- 나눗셈 (`/`) 은 항상 float를 돌려준다.\n",
    "- 정수 나눗셈 으로 (소수부 없이) 정수 결과를 얻으려면 `//` 연산자를 사용한다.\n"
   ]
  },
  {
   "cell_type": "code",
   "execution_count": null,
   "metadata": {
    "colab": {},
    "colab_type": "code",
    "id": "kfBQ_1atqwUB"
   },
   "outputs": [],
   "source": [
    "# 2의 1000승을 확인해봅시다."
   ]
  },
  {
   "cell_type": "code",
   "execution_count": 108,
   "metadata": {
    "colab": {
     "base_uri": "https://localhost:8080/",
     "height": 0
    },
    "colab_type": "code",
    "executionInfo": {
     "elapsed": 1014,
     "status": "ok",
     "timestamp": 1595223074249,
     "user": {
      "displayName": "sa lee",
      "photoUrl": "https://lh3.googleusercontent.com/a-/AOh14GhvMzl7e5o13kzwjOkdZE9EdiHFu-6dYLdWQWKjuA=s64",
      "userId": "03651723065083041662"
     },
     "user_tz": -540
    },
    "id": "dUyhamhNqwUK",
    "outputId": "1c9ba0c7-d4e9-45dd-e07a-638a56837594"
   },
   "outputs": [
    {
     "data": {
      "text/plain": [
       "10715086071862673209484250490600018105614048117055336074437503883703510511249361224931983788156958581275946729175531468251871452856923140435984577574698574803934567774824230985421074605062371141877954182153046474983581941267398767559165543946077062914571196477686542167660429831652624386837205668069376"
      ]
     },
     "execution_count": 108,
     "metadata": {
      "tags": []
     },
     "output_type": "execute_result"
    }
   ],
   "source": [
    "2 ** 1000"
   ]
  },
  {
   "cell_type": "code",
   "execution_count": null,
   "metadata": {
    "colab": {},
    "colab_type": "code",
    "id": "TXEHVan5qwUR"
   },
   "outputs": [],
   "source": [
    "# 나눗셈과 관련된 산술연산자를 활용해봅시다."
   ]
  },
  {
   "cell_type": "code",
   "execution_count": 116,
   "metadata": {
    "colab": {
     "base_uri": "https://localhost:8080/",
     "height": 0
    },
    "colab_type": "code",
    "executionInfo": {
     "elapsed": 907,
     "status": "ok",
     "timestamp": 1595223281247,
     "user": {
      "displayName": "sa lee",
      "photoUrl": "https://lh3.googleusercontent.com/a-/AOh14GhvMzl7e5o13kzwjOkdZE9EdiHFu-6dYLdWQWKjuA=s64",
      "userId": "03651723065083041662"
     },
     "user_tz": -540
    },
    "id": "c4f59BIFqwUX",
    "outputId": "2a517284-5280-4a32-8400-78b6c793df3e"
   },
   "outputs": [
    {
     "name": "stdout",
     "output_type": "stream",
     "text": [
      "2\n",
      "1\n"
     ]
    }
   ],
   "source": [
    "a = 5//2\n",
    "b = 5%2\n",
    "\n",
    "print(a)\n",
    "print(b)"
   ]
  },
  {
   "cell_type": "code",
   "execution_count": null,
   "metadata": {
    "colab": {},
    "colab_type": "code",
    "id": "XXpdNFr_qwUb"
   },
   "outputs": [],
   "source": [
    "# divmod는 나눗셈과 관련된 함수입니다."
   ]
  },
  {
   "cell_type": "code",
   "execution_count": 117,
   "metadata": {
    "colab": {
     "base_uri": "https://localhost:8080/",
     "height": 0
    },
    "colab_type": "code",
    "executionInfo": {
     "elapsed": 920,
     "status": "ok",
     "timestamp": 1595223303650,
     "user": {
      "displayName": "sa lee",
      "photoUrl": "https://lh3.googleusercontent.com/a-/AOh14GhvMzl7e5o13kzwjOkdZE9EdiHFu-6dYLdWQWKjuA=s64",
      "userId": "03651723065083041662"
     },
     "user_tz": -540
    },
    "id": "GsA2IhKJqwUq",
    "outputId": "fda117d4-6bf5-4947-c41e-d318e231c1bd"
   },
   "outputs": [
    {
     "name": "stdout",
     "output_type": "stream",
     "text": [
      "3\n",
      "1\n"
     ]
    }
   ],
   "source": [
    "a,b = divmod(10, 3)\n",
    "print(a)\n",
    "print(b)"
   ]
  },
  {
   "cell_type": "code",
   "execution_count": null,
   "metadata": {
    "colab": {},
    "colab_type": "code",
    "id": "JtX3xZQxqwU3"
   },
   "outputs": [],
   "source": [
    "# 음수 양수 표현도 해봅시다."
   ]
  },
  {
   "cell_type": "code",
   "execution_count": 118,
   "metadata": {
    "colab": {
     "base_uri": "https://localhost:8080/",
     "height": 0
    },
    "colab_type": "code",
    "executionInfo": {
     "elapsed": 1080,
     "status": "ok",
     "timestamp": 1595223359749,
     "user": {
      "displayName": "sa lee",
      "photoUrl": "https://lh3.googleusercontent.com/a-/AOh14GhvMzl7e5o13kzwjOkdZE9EdiHFu-6dYLdWQWKjuA=s64",
      "userId": "03651723065083041662"
     },
     "user_tz": -540
    },
    "id": "SVM-52KDqwU6",
    "outputId": "2bf0cc2f-12bc-4743-e60c-3b0114d9593a"
   },
   "outputs": [
    {
     "data": {
      "text/plain": [
       "-2020"
      ]
     },
     "execution_count": 118,
     "metadata": {
      "tags": []
     },
     "output_type": "execute_result"
    }
   ],
   "source": [
    "num = 2020\n",
    "-num"
   ]
  },
  {
   "cell_type": "markdown",
   "metadata": {
    "colab_type": "text",
    "id": "P1K2ZGYWqwU9"
   },
   "source": [
    "## 비교 연산자\n",
    "\n",
    "우리가 수학에서 배운 연산자와 동일하게 값을 비교할 수 있습니다.\n",
    "\n",
    "|연산자|내용|\n",
    "|----|---|\n",
    "|`<`|미만|\n",
    "|`<=`|이하|\n",
    "|`>`|초과|\n",
    "|`>=`|이상|\n",
    "|`==`|같음|\n",
    "|`!=`|같지않음|\n",
    "|`is`|객체 아이덴티티|\n",
    "|`is not`|부정된 객체 아이덴티티|\n"
   ]
  },
  {
   "cell_type": "code",
   "execution_count": null,
   "metadata": {
    "colab": {},
    "colab_type": "code",
    "id": "PbCNmTfpqwU_"
   },
   "outputs": [],
   "source": [
    "# 숫자의 대소관계를 비교해봅시다."
   ]
  },
  {
   "cell_type": "code",
   "execution_count": 119,
   "metadata": {
    "colab": {
     "base_uri": "https://localhost:8080/",
     "height": 0
    },
    "colab_type": "code",
    "executionInfo": {
     "elapsed": 981,
     "status": "ok",
     "timestamp": 1595223495001,
     "user": {
      "displayName": "sa lee",
      "photoUrl": "https://lh3.googleusercontent.com/a-/AOh14GhvMzl7e5o13kzwjOkdZE9EdiHFu-6dYLdWQWKjuA=s64",
      "userId": "03651723065083041662"
     },
     "user_tz": -540
    },
    "id": "Fk1xKSooqwVI",
    "outputId": "061e9670-d604-446f-a1ea-b51604bf40f2"
   },
   "outputs": [
    {
     "data": {
      "text/plain": [
       "True"
      ]
     },
     "execution_count": 119,
     "metadata": {
      "tags": []
     },
     "output_type": "execute_result"
    }
   ],
   "source": [
    "3 < 6"
   ]
  },
  {
   "cell_type": "code",
   "execution_count": null,
   "metadata": {
    "colab": {},
    "colab_type": "code",
    "id": "cvdSxS5ZqwVM"
   },
   "outputs": [],
   "source": [
    "# 다른 숫자인지 확인해봅시다."
   ]
  },
  {
   "cell_type": "code",
   "execution_count": 121,
   "metadata": {
    "colab": {
     "base_uri": "https://localhost:8080/",
     "height": 0
    },
    "colab_type": "code",
    "executionInfo": {
     "elapsed": 926,
     "status": "ok",
     "timestamp": 1595223552937,
     "user": {
      "displayName": "sa lee",
      "photoUrl": "https://lh3.googleusercontent.com/a-/AOh14GhvMzl7e5o13kzwjOkdZE9EdiHFu-6dYLdWQWKjuA=s64",
      "userId": "03651723065083041662"
     },
     "user_tz": -540
    },
    "id": "ebl2A21MqwVP",
    "outputId": "149ec39d-eb85-4bc5-d786-0376aa5dc977"
   },
   "outputs": [
    {
     "data": {
      "text/plain": [
       "False"
      ]
     },
     "execution_count": 121,
     "metadata": {
      "tags": []
     },
     "output_type": "execute_result"
    }
   ],
   "source": [
    "3 != 3.0 #입실론은 float와 float바교할때, int 와 float는 저절로 판별"
   ]
  },
  {
   "cell_type": "code",
   "execution_count": null,
   "metadata": {
    "colab": {},
    "colab_type": "code",
    "id": "ybKiyQ6BqwVT"
   },
   "outputs": [],
   "source": [
    "# 같은 숫자인지 확인해봅시다."
   ]
  },
  {
   "cell_type": "code",
   "execution_count": 122,
   "metadata": {
    "colab": {
     "base_uri": "https://localhost:8080/",
     "height": 0
    },
    "colab_type": "code",
    "executionInfo": {
     "elapsed": 1052,
     "status": "ok",
     "timestamp": 1595223561182,
     "user": {
      "displayName": "sa lee",
      "photoUrl": "https://lh3.googleusercontent.com/a-/AOh14GhvMzl7e5o13kzwjOkdZE9EdiHFu-6dYLdWQWKjuA=s64",
      "userId": "03651723065083041662"
     },
     "user_tz": -540
    },
    "id": "c-R1MaNjqwVY",
    "outputId": "247259ad-97d5-48cc-f933-6bb9ce7ef6cd"
   },
   "outputs": [
    {
     "data": {
      "text/plain": [
       "True"
      ]
     },
     "execution_count": 122,
     "metadata": {
      "tags": []
     },
     "output_type": "execute_result"
    }
   ],
   "source": [
    "3.0 == 3.0"
   ]
  },
  {
   "cell_type": "code",
   "execution_count": null,
   "metadata": {
    "colab": {},
    "colab_type": "code",
    "id": "-hFlybdtqwVc"
   },
   "outputs": [],
   "source": [
    "# 문자열도 같은지 확인해봅시다."
   ]
  },
  {
   "cell_type": "code",
   "execution_count": 123,
   "metadata": {
    "colab": {
     "base_uri": "https://localhost:8080/",
     "height": 0
    },
    "colab_type": "code",
    "executionInfo": {
     "elapsed": 1224,
     "status": "ok",
     "timestamp": 1595223623336,
     "user": {
      "displayName": "sa lee",
      "photoUrl": "https://lh3.googleusercontent.com/a-/AOh14GhvMzl7e5o13kzwjOkdZE9EdiHFu-6dYLdWQWKjuA=s64",
      "userId": "03651723065083041662"
     },
     "user_tz": -540
    },
    "id": "8SXJLU39qwVm",
    "outputId": "629e7b36-69dd-4050-9ce9-778c850c363f"
   },
   "outputs": [
    {
     "data": {
      "text/plain": [
       "False"
      ]
     },
     "execution_count": 123,
     "metadata": {
      "tags": []
     },
     "output_type": "execute_result"
    }
   ],
   "source": [
    "'hello' == 'HELLO'"
   ]
  },
  {
   "cell_type": "markdown",
   "metadata": {
    "colab_type": "text",
    "id": "8Tqca5FkqwVv"
   },
   "source": [
    "## 논리 연산자\n",
    "\n",
    "|연산자|내용|\n",
    "|---|---|\n",
    "|a and b|a와 b 모두 True시만 True|\n",
    "|a or b|a 와 b 모두 False시만 False|\n",
    "|not a|True -> False, False -> True|\n",
    "\n",
    "우리가 보통 알고 있는 `&` `|`은 파이썬에서 비트 연산자입니다."
   ]
  },
  {
   "cell_type": "code",
   "execution_count": null,
   "metadata": {
    "colab": {},
    "colab_type": "code",
    "id": "zZiwXf30qwVv"
   },
   "outputs": [],
   "source": [
    "# and과 관련해서 모든 case를 출력해봅시다."
   ]
  },
  {
   "cell_type": "code",
   "execution_count": 124,
   "metadata": {
    "colab": {
     "base_uri": "https://localhost:8080/",
     "height": 0
    },
    "colab_type": "code",
    "executionInfo": {
     "elapsed": 1053,
     "status": "ok",
     "timestamp": 1595223944703,
     "user": {
      "displayName": "sa lee",
      "photoUrl": "https://lh3.googleusercontent.com/a-/AOh14GhvMzl7e5o13kzwjOkdZE9EdiHFu-6dYLdWQWKjuA=s64",
      "userId": "03651723065083041662"
     },
     "user_tz": -540
    },
    "id": "hc1i7qyDqwVz",
    "outputId": "10e9dc73-b03d-4d91-ba8b-295a395ddf8e"
   },
   "outputs": [
    {
     "name": "stdout",
     "output_type": "stream",
     "text": [
      "False\n"
     ]
    }
   ],
   "source": [
    "print(False and False)"
   ]
  },
  {
   "cell_type": "code",
   "execution_count": null,
   "metadata": {
    "colab": {},
    "colab_type": "code",
    "id": "brI9mWOVqwV3"
   },
   "outputs": [],
   "source": [
    "# or과 관련해서 모든 case를 출력해봅시다."
   ]
  },
  {
   "cell_type": "code",
   "execution_count": 126,
   "metadata": {
    "colab": {
     "base_uri": "https://localhost:8080/",
     "height": 0
    },
    "colab_type": "code",
    "executionInfo": {
     "elapsed": 1589,
     "status": "ok",
     "timestamp": 1595223974153,
     "user": {
      "displayName": "sa lee",
      "photoUrl": "https://lh3.googleusercontent.com/a-/AOh14GhvMzl7e5o13kzwjOkdZE9EdiHFu-6dYLdWQWKjuA=s64",
      "userId": "03651723065083041662"
     },
     "user_tz": -540
    },
    "id": "gVx-0zgQqwV5",
    "outputId": "4df1f1d0-8f47-4a9f-9821-fda8476741c9"
   },
   "outputs": [
    {
     "name": "stdout",
     "output_type": "stream",
     "text": [
      "True\n"
     ]
    }
   ],
   "source": [
    "print(False or True)"
   ]
  },
  {
   "cell_type": "code",
   "execution_count": null,
   "metadata": {
    "colab": {},
    "colab_type": "code",
    "id": "4Fn1502xqwV7"
   },
   "outputs": [],
   "source": [
    "# not을 활용해봅시다."
   ]
  },
  {
   "cell_type": "code",
   "execution_count": 128,
   "metadata": {
    "colab": {
     "base_uri": "https://localhost:8080/",
     "height": 0
    },
    "colab_type": "code",
    "executionInfo": {
     "elapsed": 893,
     "status": "ok",
     "timestamp": 1595223992809,
     "user": {
      "displayName": "sa lee",
      "photoUrl": "https://lh3.googleusercontent.com/a-/AOh14GhvMzl7e5o13kzwjOkdZE9EdiHFu-6dYLdWQWKjuA=s64",
      "userId": "03651723065083041662"
     },
     "user_tz": -540
    },
    "id": "0z_DPT-HqwV8",
    "outputId": "315486d4-ab8d-4165-f763-666cfbcb5efc"
   },
   "outputs": [
    {
     "name": "stdout",
     "output_type": "stream",
     "text": [
      "True\n"
     ]
    }
   ],
   "source": [
    "print(not False)"
   ]
  },
  {
   "cell_type": "markdown",
   "metadata": {
    "colab_type": "text",
    "id": "gJi0c2dfqwV-"
   },
   "source": [
    "* 파이썬에서 and는 a가 거짓이면 a를 리턴하고, 참이면 b를 리턴한다.\n",
    "* 파이썬에서 or은 a가 참이면 a를 리턴하고, 거짓이면 b를 리턴한다."
   ]
  },
  {
   "cell_type": "markdown",
   "metadata": {
    "colab_type": "text",
    "id": "KFB5OzNxqwV_"
   },
   "source": [
    "### 단축평가\n",
    "* 첫 번째 값이 확실할 때, 두 번째 값은 확인 하지 않음\n",
    "* 조건문에서 뒷 부분을 판단하지 않아도 되기 때문에 속도 향상"
   ]
  },
  {
   "cell_type": "code",
   "execution_count": 129,
   "metadata": {
    "colab": {},
    "colab_type": "code",
    "executionInfo": {
     "elapsed": 1043,
     "status": "ok",
     "timestamp": 1595224215805,
     "user": {
      "displayName": "sa lee",
      "photoUrl": "https://lh3.googleusercontent.com/a-/AOh14GhvMzl7e5o13kzwjOkdZE9EdiHFu-6dYLdWQWKjuA=s64",
      "userId": "03651723065083041662"
     },
     "user_tz": -540
    },
    "id": "4mAGxgkDqwV_"
   },
   "outputs": [],
   "source": [
    "vowels = ['a', 'e', 'i', 'o ', 'u']"
   ]
  },
  {
   "cell_type": "code",
   "execution_count": 130,
   "metadata": {
    "colab": {
     "base_uri": "https://localhost:8080/",
     "height": 0
    },
    "colab_type": "code",
    "executionInfo": {
     "elapsed": 1898,
     "status": "ok",
     "timestamp": 1595224242319,
     "user": {
      "displayName": "sa lee",
      "photoUrl": "https://lh3.googleusercontent.com/a-/AOh14GhvMzl7e5o13kzwjOkdZE9EdiHFu-6dYLdWQWKjuA=s64",
      "userId": "03651723065083041662"
     },
     "user_tz": -540
    },
    "id": "sciitz-CqwWB",
    "outputId": "4b8c13c7-6a9a-4956-c4e4-f01e62ac4571",
    "scrolled": false
   },
   "outputs": [
    {
     "data": {
      "text/plain": [
       "False"
      ]
     },
     "execution_count": 130,
     "metadata": {
      "tags": []
     },
     "output_type": "execute_result"
    }
   ],
   "source": [
    "('a' and 'b') in vowels"
   ]
  },
  {
   "cell_type": "code",
   "execution_count": 131,
   "metadata": {
    "colab": {
     "base_uri": "https://localhost:8080/",
     "height": 0
    },
    "colab_type": "code",
    "executionInfo": {
     "elapsed": 2028,
     "status": "ok",
     "timestamp": 1595225091943,
     "user": {
      "displayName": "sa lee",
      "photoUrl": "https://lh3.googleusercontent.com/a-/AOh14GhvMzl7e5o13kzwjOkdZE9EdiHFu-6dYLdWQWKjuA=s64",
      "userId": "03651723065083041662"
     },
     "user_tz": -540
    },
    "id": "TIVFr7bJqwWF",
    "outputId": "009c29f0-6e51-4458-85b4-df42b5d27cae",
    "scrolled": false
   },
   "outputs": [
    {
     "data": {
      "text/plain": [
       "True"
      ]
     },
     "execution_count": 131,
     "metadata": {
      "tags": []
     },
     "output_type": "execute_result"
    }
   ],
   "source": [
    "('a' or 'b') in vowels"
   ]
  },
  {
   "cell_type": "markdown",
   "metadata": {
    "colab_type": "text",
    "id": "XdpU0wXnqwWN"
   },
   "source": [
    "- `and` 는 둘 다 True일 경우만 True이기 때문에 첫번째 값이 True라도 두번째 값을 확인해야 하기 때문에 'b'가 반환된다.\n",
    "- `or` 는 하나만 True라도 True이기 때문에 True를 만나면 해당 값을 바로 반환한다."
   ]
  },
  {
   "cell_type": "code",
   "execution_count": null,
   "metadata": {
    "colab": {},
    "colab_type": "code",
    "id": "s80usZlPqwWO"
   },
   "outputs": [],
   "source": [
    "# and의 단축평가(short-circuit evaluation)에 대해서 알아봅시다."
   ]
  },
  {
   "cell_type": "code",
   "execution_count": 133,
   "metadata": {
    "colab": {
     "base_uri": "https://localhost:8080/",
     "height": 0
    },
    "colab_type": "code",
    "executionInfo": {
     "elapsed": 1028,
     "status": "ok",
     "timestamp": 1595225314297,
     "user": {
      "displayName": "sa lee",
      "photoUrl": "https://lh3.googleusercontent.com/a-/AOh14GhvMzl7e5o13kzwjOkdZE9EdiHFu-6dYLdWQWKjuA=s64",
      "userId": "03651723065083041662"
     },
     "user_tz": -540
    },
    "id": "7Q_lqhyrqwWT",
    "outputId": "535d9dd1-41c2-4fb1-ab12-b63810c44229"
   },
   "outputs": [
    {
     "name": "stdout",
     "output_type": "stream",
     "text": [
      "0\n"
     ]
    }
   ],
   "source": [
    "print(5 and 0)"
   ]
  },
  {
   "cell_type": "code",
   "execution_count": null,
   "metadata": {
    "colab": {},
    "colab_type": "code",
    "id": "a2O38rgCqwWX"
   },
   "outputs": [],
   "source": [
    "# or의 단축평가(short-circuit evaluation)에 대해서 알아봅시다."
   ]
  },
  {
   "cell_type": "code",
   "execution_count": 134,
   "metadata": {
    "colab": {
     "base_uri": "https://localhost:8080/",
     "height": 0
    },
    "colab_type": "code",
    "executionInfo": {
     "elapsed": 1026,
     "status": "ok",
     "timestamp": 1595225316999,
     "user": {
      "displayName": "sa lee",
      "photoUrl": "https://lh3.googleusercontent.com/a-/AOh14GhvMzl7e5o13kzwjOkdZE9EdiHFu-6dYLdWQWKjuA=s64",
      "userId": "03651723065083041662"
     },
     "user_tz": -540
    },
    "id": "opB8bMwlqwWc",
    "outputId": "5d654b06-5e15-452f-fa05-f5730ca0ff87"
   },
   "outputs": [
    {
     "name": "stdout",
     "output_type": "stream",
     "text": [
      "5\n"
     ]
    }
   ],
   "source": [
    "print(5 or 0)"
   ]
  },
  {
   "cell_type": "markdown",
   "metadata": {
    "colab_type": "text",
    "id": "31XMR30CqwWe"
   },
   "source": [
    "## 복합 연산자\n",
    "\n",
    "복합 연산자는 연산과 대입이 함께 이뤄집니다. \n",
    "\n",
    "가장 많이 활용되는 경우는 반복문을 통해서 개수를 카운트하거나 할 때 활용됩니다.\n",
    "\n",
    "|연산자|내용|\n",
    "|----|---|\n",
    "|a += b|a = a + b|\n",
    "|a -= b|a = a - b|\n",
    "|a \\*= b|a = a \\* b|\n",
    "|a /= b|a = a / b|\n",
    "|a //= b|a = a // b|\n",
    "|a %= b|a = a % b|\n",
    "|a \\*\\*= b|a = a ** b|"
   ]
  },
  {
   "cell_type": "code",
   "execution_count": null,
   "metadata": {
    "colab": {},
    "colab_type": "code",
    "id": "PTbJEtEGqwWf"
   },
   "outputs": [],
   "source": [
    "# 복합연산자는 이럴 때 사용됩니다."
   ]
  },
  {
   "cell_type": "code",
   "execution_count": 135,
   "metadata": {
    "colab": {
     "base_uri": "https://localhost:8080/",
     "height": 0
    },
    "colab_type": "code",
    "executionInfo": {
     "elapsed": 1963,
     "status": "ok",
     "timestamp": 1595225384317,
     "user": {
      "displayName": "sa lee",
      "photoUrl": "https://lh3.googleusercontent.com/a-/AOh14GhvMzl7e5o13kzwjOkdZE9EdiHFu-6dYLdWQWKjuA=s64",
      "userId": "03651723065083041662"
     },
     "user_tz": -540
    },
    "id": "EO42lfnpqwWh",
    "outputId": "851edb40-6f04-43e8-d5a9-e8a7d46a4d63"
   },
   "outputs": [
    {
     "name": "stdout",
     "output_type": "stream",
     "text": [
      "0\n",
      "1\n",
      "2\n",
      "3\n",
      "4\n"
     ]
    }
   ],
   "source": [
    "cnt = 0 \n",
    "while cnt<5:\n",
    "  print(cnt)\n",
    "  cnt += 1"
   ]
  },
  {
   "cell_type": "markdown",
   "metadata": {
    "colab_type": "text",
    "id": "oGJpFUfWqwWm"
   },
   "source": [
    "## 기타 주요 연산자\n",
    "\n",
    "### Concatenation\n",
    "\n",
    "숫자가 아닌 자료형은 `+` 연산자를 통해 합칠 수 있습니다."
   ]
  },
  {
   "cell_type": "code",
   "execution_count": null,
   "metadata": {
    "colab": {},
    "colab_type": "code",
    "id": "ZlQZa8JtqwWn"
   },
   "outputs": [],
   "source": [
    "# 문자열을 더해봅시다.(합쳐봅시다.)"
   ]
  },
  {
   "cell_type": "code",
   "execution_count": 136,
   "metadata": {
    "colab": {
     "base_uri": "https://localhost:8080/",
     "height": 35
    },
    "colab_type": "code",
    "executionInfo": {
     "elapsed": 1079,
     "status": "ok",
     "timestamp": 1595225484436,
     "user": {
      "displayName": "sa lee",
      "photoUrl": "https://lh3.googleusercontent.com/a-/AOh14GhvMzl7e5o13kzwjOkdZE9EdiHFu-6dYLdWQWKjuA=s64",
      "userId": "03651723065083041662"
     },
     "user_tz": -540
    },
    "id": "z86evInBqwWp",
    "outputId": "cb8a1633-e950-4fbf-8449-7c0ef2b43616"
   },
   "outputs": [
    {
     "data": {
      "application/vnd.google.colaboratory.intrinsic": {
       "type": "string"
      },
      "text/plain": [
       "'hello ssafy'"
      ]
     },
     "execution_count": 136,
     "metadata": {
      "tags": []
     },
     "output_type": "execute_result"
    }
   ],
   "source": [
    "'hello ' + 'ssafy'"
   ]
  },
  {
   "cell_type": "code",
   "execution_count": null,
   "metadata": {
    "colab": {},
    "colab_type": "code",
    "id": "X_QZ-VLQqwWs"
   },
   "outputs": [],
   "source": [
    "# list를 더해봅시다.(합쳐봅시다.)"
   ]
  },
  {
   "cell_type": "code",
   "execution_count": 137,
   "metadata": {
    "colab": {
     "base_uri": "https://localhost:8080/",
     "height": 35
    },
    "colab_type": "code",
    "executionInfo": {
     "elapsed": 1020,
     "status": "ok",
     "timestamp": 1595225497183,
     "user": {
      "displayName": "sa lee",
      "photoUrl": "https://lh3.googleusercontent.com/a-/AOh14GhvMzl7e5o13kzwjOkdZE9EdiHFu-6dYLdWQWKjuA=s64",
      "userId": "03651723065083041662"
     },
     "user_tz": -540
    },
    "id": "aYBt92ObqwWz",
    "outputId": "31d8f828-4003-4daf-eeac-f69f125a73c1"
   },
   "outputs": [
    {
     "data": {
      "text/plain": [
       "[1, 2, 3, 4, 5, 6]"
      ]
     },
     "execution_count": 137,
     "metadata": {
      "tags": []
     },
     "output_type": "execute_result"
    }
   ],
   "source": [
    "[1,2,3] + [ 4,5,6]"
   ]
  },
  {
   "cell_type": "markdown",
   "metadata": {
    "colab_type": "text",
    "id": "_z7NJ_XPqwW3"
   },
   "source": [
    "### Containment Test\n",
    "\n",
    "`in` 연산자를 통해 요소가 속해있는지 여부를 확인할 수 있습니다."
   ]
  },
  {
   "cell_type": "code",
   "execution_count": null,
   "metadata": {
    "colab": {},
    "colab_type": "code",
    "id": "s-2GdyM6qwW4"
   },
   "outputs": [],
   "source": [
    "# 문자열안에 특정한 문자가 있는지 확인해봅시다."
   ]
  },
  {
   "cell_type": "code",
   "execution_count": 139,
   "metadata": {
    "colab": {
     "base_uri": "https://localhost:8080/",
     "height": 0
    },
    "colab_type": "code",
    "executionInfo": {
     "elapsed": 1239,
     "status": "ok",
     "timestamp": 1595225555449,
     "user": {
      "displayName": "sa lee",
      "photoUrl": "https://lh3.googleusercontent.com/a-/AOh14GhvMzl7e5o13kzwjOkdZE9EdiHFu-6dYLdWQWKjuA=s64",
      "userId": "03651723065083041662"
     },
     "user_tz": -540
    },
    "id": "WrnafZcQqwW7",
    "outputId": "86bfa75f-ccde-4133-9299-8a7cff906342"
   },
   "outputs": [
    {
     "data": {
      "text/plain": [
       "False"
      ]
     },
     "execution_count": 139,
     "metadata": {
      "tags": []
     },
     "output_type": "execute_result"
    }
   ],
   "source": [
    "'a' in 'hello'"
   ]
  },
  {
   "cell_type": "code",
   "execution_count": null,
   "metadata": {
    "colab": {},
    "colab_type": "code",
    "id": "R303DOogqwW9"
   },
   "outputs": [],
   "source": [
    "# list안에 특정한 원소가 있는지 확인해봅시다."
   ]
  },
  {
   "cell_type": "code",
   "execution_count": 140,
   "metadata": {
    "colab": {
     "base_uri": "https://localhost:8080/",
     "height": 0
    },
    "colab_type": "code",
    "executionInfo": {
     "elapsed": 923,
     "status": "ok",
     "timestamp": 1595225577601,
     "user": {
      "displayName": "sa lee",
      "photoUrl": "https://lh3.googleusercontent.com/a-/AOh14GhvMzl7e5o13kzwjOkdZE9EdiHFu-6dYLdWQWKjuA=s64",
      "userId": "03651723065083041662"
     },
     "user_tz": -540
    },
    "id": "vuW8iELVqwXI",
    "outputId": "960151bf-c68d-40cd-a565-7a2172be483d"
   },
   "outputs": [
    {
     "data": {
      "text/plain": [
       "False"
      ]
     },
     "execution_count": 140,
     "metadata": {
      "tags": []
     },
     "output_type": "execute_result"
    }
   ],
   "source": [
    "2 in [1,3,5,7]"
   ]
  },
  {
   "cell_type": "code",
   "execution_count": null,
   "metadata": {
    "colab": {},
    "colab_type": "code",
    "id": "YIWVISJbqwXM"
   },
   "outputs": [],
   "source": [
    "# range안에 특정한 원소가 있는지 확인해봅시다."
   ]
  },
  {
   "cell_type": "code",
   "execution_count": 141,
   "metadata": {
    "colab": {
     "base_uri": "https://localhost:8080/",
     "height": 0
    },
    "colab_type": "code",
    "executionInfo": {
     "elapsed": 1050,
     "status": "ok",
     "timestamp": 1595225616865,
     "user": {
      "displayName": "sa lee",
      "photoUrl": "https://lh3.googleusercontent.com/a-/AOh14GhvMzl7e5o13kzwjOkdZE9EdiHFu-6dYLdWQWKjuA=s64",
      "userId": "03651723065083041662"
     },
     "user_tz": -540
    },
    "id": "KXc3pC-fqwXR",
    "outputId": "3dc3efc5-7602-432b-8e5b-a535a7ae8c41"
   },
   "outputs": [
    {
     "data": {
      "text/plain": [
       "True"
      ]
     },
     "execution_count": 141,
     "metadata": {
      "tags": []
     },
     "output_type": "execute_result"
    }
   ],
   "source": [
    "44 in range(45)"
   ]
  },
  {
   "cell_type": "markdown",
   "metadata": {
    "colab_type": "text",
    "id": "Noqr2EApqwXU"
   },
   "source": [
    "### Identity\n",
    "\n",
    "`is` 연산자를 통해 동일한 object인지 확인할 수 있습니다. (OOP 파트에서 다시 학습하게 됩니다.)"
   ]
  },
  {
   "cell_type": "code",
   "execution_count": null,
   "metadata": {
    "colab": {},
    "colab_type": "code",
    "id": "DRADj6yLqwXU"
   },
   "outputs": [],
   "source": [
    "# 파이썬에서 -5 부터 256 까지의 id는 동일합니다."
   ]
  },
  {
   "cell_type": "code",
   "execution_count": 142,
   "metadata": {
    "colab": {
     "base_uri": "https://localhost:8080/",
     "height": 0
    },
    "colab_type": "code",
    "executionInfo": {
     "elapsed": 1024,
     "status": "ok",
     "timestamp": 1595225730002,
     "user": {
      "displayName": "sa lee",
      "photoUrl": "https://lh3.googleusercontent.com/a-/AOh14GhvMzl7e5o13kzwjOkdZE9EdiHFu-6dYLdWQWKjuA=s64",
      "userId": "03651723065083041662"
     },
     "user_tz": -540
    },
    "id": "jQ5OSZlqqwXa",
    "outputId": "73eade9d-3580-4b57-cc1d-9827b6165d8a"
   },
   "outputs": [
    {
     "data": {
      "text/plain": [
       "False"
      ]
     },
     "execution_count": 142,
     "metadata": {
      "tags": []
     },
     "output_type": "execute_result"
    }
   ],
   "source": [
    "id(5) is id(6)"
   ]
  },
  {
   "cell_type": "code",
   "execution_count": null,
   "metadata": {
    "colab": {},
    "colab_type": "code",
    "id": "dxkDgRW7qwXg"
   },
   "outputs": [],
   "source": [
    "# 257 이루의 id 는 다릅니다."
   ]
  },
  {
   "cell_type": "code",
   "execution_count": 144,
   "metadata": {
    "colab": {
     "base_uri": "https://localhost:8080/",
     "height": 0
    },
    "colab_type": "code",
    "executionInfo": {
     "elapsed": 911,
     "status": "ok",
     "timestamp": 1595225763506,
     "user": {
      "displayName": "sa lee",
      "photoUrl": "https://lh3.googleusercontent.com/a-/AOh14GhvMzl7e5o13kzwjOkdZE9EdiHFu-6dYLdWQWKjuA=s64",
      "userId": "03651723065083041662"
     },
     "user_tz": -540
    },
    "id": "7mYWLVcJqwXi",
    "outputId": "bbe2118b-cd2d-46f5-8cdb-15389e7bb4bd"
   },
   "outputs": [
    {
     "data": {
      "text/plain": [
       "False"
      ]
     },
     "execution_count": 144,
     "metadata": {
      "tags": []
     },
     "output_type": "execute_result"
    }
   ],
   "source": [
    "a = [1,2,3]\n",
    "b = [1,2,3]\n",
    "a is b"
   ]
  },
  {
   "cell_type": "markdown",
   "metadata": {
    "colab_type": "text",
    "id": "OZDRvO6VqwXl"
   },
   "source": [
    "### Indexing/Slicing\n",
    "`[]`를 통한 값을 접근하고, `[:]`을 통해 리스트를 슬라이싱할 수 있습니다. (Container 파트에서 자세하게 학습합니다.)"
   ]
  },
  {
   "cell_type": "code",
   "execution_count": null,
   "metadata": {
    "colab": {},
    "colab_type": "code",
    "id": "UYG_40i8qwXm"
   },
   "outputs": [],
   "source": [
    "# 문자열을 인덱싱을 통해 값에 접근해봅시다."
   ]
  },
  {
   "cell_type": "code",
   "execution_count": 148,
   "metadata": {
    "colab": {
     "base_uri": "https://localhost:8080/",
     "height": 0
    },
    "colab_type": "code",
    "executionInfo": {
     "elapsed": 981,
     "status": "ok",
     "timestamp": 1595225861969,
     "user": {
      "displayName": "sa lee",
      "photoUrl": "https://lh3.googleusercontent.com/a-/AOh14GhvMzl7e5o13kzwjOkdZE9EdiHFu-6dYLdWQWKjuA=s64",
      "userId": "03651723065083041662"
     },
     "user_tz": -540
    },
    "id": "KR4YuZbcqwXv",
    "outputId": "ecdc7ecd-b8e2-4ad2-ec24-27303572767c"
   },
   "outputs": [
    {
     "data": {
      "text/plain": [
       "[2, 3]"
      ]
     },
     "execution_count": 148,
     "metadata": {
      "tags": []
     },
     "output_type": "execute_result"
    }
   ],
   "source": [
    "[1,2,3,4,5][1:3]"
   ]
  },
  {
   "cell_type": "markdown",
   "metadata": {
    "colab_type": "text",
    "id": "1XSvyxR7qwXx"
   },
   "source": [
    "## 연산자 우선순위\n",
    "\n",
    "0. `()`을 통한 grouping\n",
    "\n",
    "1. Slicing\n",
    "\n",
    "2. Indexing\n",
    "\n",
    "3. 제곱연산자\n",
    "    `**`\n",
    "\n",
    "4. 단항연산자 \n",
    "    `+`, `-` (음수/양수 부호)\n",
    "\n",
    "5. 산술연산자\n",
    "    `*`, `/`, `%`\n",
    "    \n",
    "6. 산술연산자\n",
    "    `+`, `-`\n",
    " \n",
    "7. 비교연산자, `in`, `is`\n",
    "\n",
    "8. `not`\n",
    "\n",
    "9. `and` \n",
    "\n",
    "10. `or`"
   ]
  },
  {
   "cell_type": "code",
   "execution_count": null,
   "metadata": {
    "colab": {},
    "colab_type": "code",
    "id": "umh62490qwXy"
   },
   "outputs": [],
   "source": [
    "# 우선순위를 확인해봅시다."
   ]
  },
  {
   "cell_type": "code",
   "execution_count": 150,
   "metadata": {
    "colab": {
     "base_uri": "https://localhost:8080/",
     "height": 35
    },
    "colab_type": "code",
    "executionInfo": {
     "elapsed": 1111,
     "status": "ok",
     "timestamp": 1595225990337,
     "user": {
      "displayName": "sa lee",
      "photoUrl": "https://lh3.googleusercontent.com/a-/AOh14GhvMzl7e5o13kzwjOkdZE9EdiHFu-6dYLdWQWKjuA=s64",
      "userId": "03651723065083041662"
     },
     "user_tz": -540
    },
    "id": "9a8DApmZqwX1",
    "outputId": "d0610ee8-d643-45d9-b7e1-5d23536530e4"
   },
   "outputs": [
    {
     "data": {
      "text/plain": [
       "729"
      ]
     },
     "execution_count": 150,
     "metadata": {
      "tags": []
     },
     "output_type": "execute_result"
    }
   ],
   "source": [
    "(-3) ** 6"
   ]
  },
  {
   "cell_type": "markdown",
   "metadata": {
    "colab_type": "text",
    "id": "DLImA7fDqwX3"
   },
   "source": [
    "### [참고] 표현식(Expression) & 문장(Statement)\n"
   ]
  },
  {
   "cell_type": "markdown",
   "metadata": {
    "colab_type": "text",
    "id": "TohnQi4fqwX4"
   },
   "source": [
    "### 표현식(Expression)\n",
    "\n",
    "> 표현식 => `evaluate` => 값\n",
    "\n",
    "* 하나의 값(value)으로 환원(reduce)될 수 있는 문장\n",
    "* `식별자`, `값`(리터럴), `연산자`로 구성됩니다.\n",
    "* 표현식을 만드는 문법(syntax)은 일반적인 (중위표기) 수식의 규칙과 유사합니다.\n",
    "* [참고] [표현식(Expression) 문법 관련 공식문서](https://docs.python.org/3/reference/expressions.html)"
   ]
  },
  {
   "cell_type": "code",
   "execution_count": null,
   "metadata": {
    "colab": {},
    "colab_type": "code",
    "id": "6ljgNFqcqwX5"
   },
   "outputs": [],
   "source": [
    "# 하나의 값(value)도 표현식(expression)이 될 수 있습니다."
   ]
  },
  {
   "cell_type": "code",
   "execution_count": 151,
   "metadata": {
    "colab": {
     "base_uri": "https://localhost:8080/",
     "height": 0
    },
    "colab_type": "code",
    "executionInfo": {
     "elapsed": 1663,
     "status": "ok",
     "timestamp": 1595226301331,
     "user": {
      "displayName": "sa lee",
      "photoUrl": "https://lh3.googleusercontent.com/a-/AOh14GhvMzl7e5o13kzwjOkdZE9EdiHFu-6dYLdWQWKjuA=s64",
      "userId": "03651723065083041662"
     },
     "user_tz": -540
    },
    "id": "BiDyw1JtqwX6",
    "outputId": "de264840-a7a6-4902-ee21-e802496dad2a"
   },
   "outputs": [
    {
     "data": {
      "text/plain": [
       "60"
      ]
     },
     "execution_count": 151,
     "metadata": {
      "tags": []
     },
     "output_type": "execute_result"
    }
   ],
   "source": [
    "35 + 25"
   ]
  },
  {
   "cell_type": "code",
   "execution_count": null,
   "metadata": {
    "colab": {},
    "colab_type": "code",
    "id": "yteqsGz6qwX8"
   },
   "outputs": [],
   "source": [
    "# 표현식은 하나의 값으로 평가(evaluate)될 수 있어야 합니다. 그러면 할당문(assignment statement)은 표현식일까요?"
   ]
  },
  {
   "cell_type": "code",
   "execution_count": 152,
   "metadata": {
    "colab": {
     "base_uri": "https://localhost:8080/",
     "height": 0
    },
    "colab_type": "code",
    "executionInfo": {
     "elapsed": 1015,
     "status": "ok",
     "timestamp": 1595226311969,
     "user": {
      "displayName": "sa lee",
      "photoUrl": "https://lh3.googleusercontent.com/a-/AOh14GhvMzl7e5o13kzwjOkdZE9EdiHFu-6dYLdWQWKjuA=s64",
      "userId": "03651723065083041662"
     },
     "user_tz": -540
    },
    "id": "K7GWiI0_qwX-",
    "outputId": "87acd7f8-e9e6-416c-f839-934bf3fdce87"
   },
   "outputs": [
    {
     "data": {
      "text/plain": [
       "5"
      ]
     },
     "execution_count": 152,
     "metadata": {
      "tags": []
     },
     "output_type": "execute_result"
    }
   ],
   "source": [
    "a = 5\n",
    "a"
   ]
  },
  {
   "cell_type": "code",
   "execution_count": null,
   "metadata": {
    "colab": {},
    "colab_type": "code",
    "id": "s3PrTKUmqwX_"
   },
   "outputs": [],
   "source": [
    "# 식별자가 값이 할당되어 있는 경우 수식의 일부가 될 수 있습니다."
   ]
  },
  {
   "cell_type": "code",
   "execution_count": 153,
   "metadata": {
    "colab": {
     "base_uri": "https://localhost:8080/",
     "height": 0
    },
    "colab_type": "code",
    "executionInfo": {
     "elapsed": 1144,
     "status": "ok",
     "timestamp": 1595226331138,
     "user": {
      "displayName": "sa lee",
      "photoUrl": "https://lh3.googleusercontent.com/a-/AOh14GhvMzl7e5o13kzwjOkdZE9EdiHFu-6dYLdWQWKjuA=s64",
      "userId": "03651723065083041662"
     },
     "user_tz": -540
    },
    "id": "NzZapbwNqwYE",
    "outputId": "dd43f3a7-1ea6-4198-d289-72aa4d5ac687"
   },
   "outputs": [
    {
     "data": {
      "text/plain": [
       "8"
      ]
     },
     "execution_count": 153,
     "metadata": {
      "tags": []
     },
     "output_type": "execute_result"
    }
   ],
   "source": [
    "3 + a"
   ]
  },
  {
   "cell_type": "code",
   "execution_count": null,
   "metadata": {
    "colab": {},
    "colab_type": "code",
    "id": "oWnCr0m9qwYF"
   },
   "outputs": [],
   "source": [
    "# 표현식을 만드는 문법(syntax)은 일반적인 (중위표기) 수식의 규칙과 유사합니다. 아래와 같은 문장은 표현식이 될 수 없습니다."
   ]
  },
  {
   "cell_type": "code",
   "execution_count": 154,
   "metadata": {
    "colab": {
     "base_uri": "https://localhost:8080/",
     "height": 0
    },
    "colab_type": "code",
    "executionInfo": {
     "elapsed": 1741,
     "status": "ok",
     "timestamp": 1595226356661,
     "user": {
      "displayName": "sa lee",
      "photoUrl": "https://lh3.googleusercontent.com/a-/AOh14GhvMzl7e5o13kzwjOkdZE9EdiHFu-6dYLdWQWKjuA=s64",
      "userId": "03651723065083041662"
     },
     "user_tz": -540
    },
    "id": "5avLOvbqqwYG",
    "outputId": "77b38e6f-2e56-44df-9d6f-e2a93c45a4f0"
   },
   "outputs": [
    {
     "data": {
      "text/plain": [
       "24"
      ]
     },
     "execution_count": 154,
     "metadata": {
      "tags": []
     },
     "output_type": "execute_result"
    }
   ],
   "source": [
    "2**3 + 4**2"
   ]
  },
  {
   "cell_type": "markdown",
   "metadata": {
    "colab_type": "text",
    "id": "hvtSmParqwYI"
   },
   "source": [
    "### 문장(Statement)\n",
    "\n",
    "* 파이썬이 실행 가능한 최소한의 코드 단위 (a syntatic unit of programming)"
   ]
  },
  {
   "cell_type": "code",
   "execution_count": null,
   "metadata": {
    "colab": {},
    "colab_type": "code",
    "id": "3qK_-zI0qwYK"
   },
   "outputs": [],
   "source": [
    "# 하나의 값(value)도 문장이 될 수 있습니다."
   ]
  },
  {
   "cell_type": "code",
   "execution_count": 155,
   "metadata": {
    "colab": {
     "base_uri": "https://localhost:8080/",
     "height": 35
    },
    "colab_type": "code",
    "executionInfo": {
     "elapsed": 1180,
     "status": "ok",
     "timestamp": 1595226400170,
     "user": {
      "displayName": "sa lee",
      "photoUrl": "https://lh3.googleusercontent.com/a-/AOh14GhvMzl7e5o13kzwjOkdZE9EdiHFu-6dYLdWQWKjuA=s64",
      "userId": "03651723065083041662"
     },
     "user_tz": -540
    },
    "id": "Lg6BJM2mqwYL",
    "outputId": "9b2ad1c4-fd81-4c22-eb94-0d048d65c240"
   },
   "outputs": [
    {
     "data": {
      "application/vnd.google.colaboratory.intrinsic": {
       "type": "string"
      },
      "text/plain": [
       "'hello'"
      ]
     },
     "execution_count": 155,
     "metadata": {
      "tags": []
     },
     "output_type": "execute_result"
    }
   ],
   "source": [
    "'hello'"
   ]
  },
  {
   "cell_type": "code",
   "execution_count": null,
   "metadata": {
    "colab": {},
    "colab_type": "code",
    "id": "12u4r4zXqwYP"
   },
   "outputs": [],
   "source": [
    "# 표현식(expression)도 문장이 될 수 있습니다."
   ]
  },
  {
   "cell_type": "code",
   "execution_count": 156,
   "metadata": {
    "colab": {
     "base_uri": "https://localhost:8080/",
     "height": 35
    },
    "colab_type": "code",
    "executionInfo": {
     "elapsed": 1001,
     "status": "ok",
     "timestamp": 1595226412345,
     "user": {
      "displayName": "sa lee",
      "photoUrl": "https://lh3.googleusercontent.com/a-/AOh14GhvMzl7e5o13kzwjOkdZE9EdiHFu-6dYLdWQWKjuA=s64",
      "userId": "03651723065083041662"
     },
     "user_tz": -540
    },
    "id": "0mwr1QWxqwYQ",
    "outputId": "3532480e-4887-4c57-a945-e40b2faba880"
   },
   "outputs": [
    {
     "data": {
      "text/plain": [
       "8"
      ]
     },
     "execution_count": 156,
     "metadata": {
      "tags": []
     },
     "output_type": "execute_result"
    }
   ],
   "source": [
    "3 + 5"
   ]
  },
  {
   "cell_type": "code",
   "execution_count": null,
   "metadata": {
    "colab": {},
    "colab_type": "code",
    "id": "wwHlWEWGqwYR"
   },
   "outputs": [],
   "source": [
    "# 실행 가능(executable)해야 하기 때문에 아래의 코드는 문장이 될 수 없습니다."
   ]
  },
  {
   "cell_type": "code",
   "execution_count": 157,
   "metadata": {
    "colab": {
     "base_uri": "https://localhost:8080/",
     "height": 136
    },
    "colab_type": "code",
    "executionInfo": {
     "elapsed": 1136,
     "status": "error",
     "timestamp": 1595226424377,
     "user": {
      "displayName": "sa lee",
      "photoUrl": "https://lh3.googleusercontent.com/a-/AOh14GhvMzl7e5o13kzwjOkdZE9EdiHFu-6dYLdWQWKjuA=s64",
      "userId": "03651723065083041662"
     },
     "user_tz": -540
    },
    "id": "9nb1AP4zqwYT",
    "outputId": "85e9c6e8-75da-4306-a12e-c77419d3c471"
   },
   "outputs": [
    {
     "ename": "SyntaxError",
     "evalue": "ignored",
     "output_type": "error",
     "traceback": [
      "\u001b[0;36m  File \u001b[0;32m\"<ipython-input-157-0b37b907169d>\"\u001b[0;36m, line \u001b[0;32m1\u001b[0m\n\u001b[0;31m    print('hello'\u001b[0m\n\u001b[0m                 ^\u001b[0m\n\u001b[0;31mSyntaxError\u001b[0m\u001b[0;31m:\u001b[0m unexpected EOF while parsing\n"
     ]
    }
   ],
   "source": [
    "print('hello'"
   ]
  },
  {
   "cell_type": "markdown",
   "metadata": {
    "colab_type": "text",
    "id": "k4YCZPs6qwYV"
   },
   "source": [
    "### 문장과 표현식의 관계\n",
    "\n",
    "<center><img width=\"600\" height=\"300\" src=\"https://user-images.githubusercontent.com/9452521/87619771-f41f5e00-c757-11ea-9e4b-1f76e4ca0981.png\", alt=\"variable\"/></center>"
   ]
  },
  {
   "cell_type": "markdown",
   "metadata": {
    "colab_type": "text",
    "id": "7FVwjBfbqwYW"
   },
   "source": [
    "# 정리\n",
    "\n",
    "## 변수(Variable)와 자료형(Data Type)\n",
    "\n",
    "<center><img width=800 height=400 src=\"https://user-images.githubusercontent.com/9452521/87640197-55a7f280-c781-11ea-9cff-19c022ce704a.png\", alt=\"variable\"/></center>\n"
   ]
  }
 ],
 "metadata": {
  "colab": {
   "name": "00_python_intro.ipynb",
   "provenance": [],
   "toc_visible": true
  },
  "kernelspec": {
   "display_name": "Python 3",
   "language": "python",
   "name": "python3"
  },
  "language_info": {
   "codemirror_mode": {
    "name": "ipython",
    "version": 3
   },
   "file_extension": ".py",
   "mimetype": "text/x-python",
   "name": "python",
   "nbconvert_exporter": "python",
   "pygments_lexer": "ipython3",
   "version": "3.7.7"
  },
  "toc": {
   "base_numbering": 1,
   "nav_menu": {},
   "number_sections": true,
   "sideBar": true,
   "skip_h1_title": false,
   "title_cell": "Table of Contents",
   "title_sidebar": "Contents",
   "toc_cell": false,
   "toc_position": {},
   "toc_section_display": true,
   "toc_window_display": false
  }
 },
 "nbformat": 4,
 "nbformat_minor": 1
}
